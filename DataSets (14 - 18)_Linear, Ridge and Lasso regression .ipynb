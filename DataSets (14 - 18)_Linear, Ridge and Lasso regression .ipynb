{
 "cells": [
  {
   "cell_type": "code",
   "execution_count": 1,
   "id": "522f2653",
   "metadata": {},
   "outputs": [],
   "source": [
    "import numpy as np\n",
    "import pandas as pd\n",
    "import matplotlib.pyplot as plt\n",
    "import seaborn as sns"
   ]
  },
  {
   "cell_type": "markdown",
   "id": "3f594708",
   "metadata": {},
   "source": [
    "# 14. DataSet Iris"
   ]
  },
  {
   "cell_type": "code",
   "execution_count": 2,
   "id": "9f1a1c5b",
   "metadata": {},
   "outputs": [
    {
     "data": {
      "text/html": [
       "<div>\n",
       "<style scoped>\n",
       "    .dataframe tbody tr th:only-of-type {\n",
       "        vertical-align: middle;\n",
       "    }\n",
       "\n",
       "    .dataframe tbody tr th {\n",
       "        vertical-align: top;\n",
       "    }\n",
       "\n",
       "    .dataframe thead th {\n",
       "        text-align: right;\n",
       "    }\n",
       "</style>\n",
       "<table border=\"1\" class=\"dataframe\">\n",
       "  <thead>\n",
       "    <tr style=\"text-align: right;\">\n",
       "      <th></th>\n",
       "      <th>Id</th>\n",
       "      <th>SepalLengthCm</th>\n",
       "      <th>SepalWidthCm</th>\n",
       "      <th>PetalLengthCm</th>\n",
       "      <th>PetalWidthCm</th>\n",
       "      <th>Species</th>\n",
       "    </tr>\n",
       "  </thead>\n",
       "  <tbody>\n",
       "    <tr>\n",
       "      <th>0</th>\n",
       "      <td>1</td>\n",
       "      <td>5.1</td>\n",
       "      <td>3.5</td>\n",
       "      <td>1.4</td>\n",
       "      <td>0.2</td>\n",
       "      <td>Iris-setosa</td>\n",
       "    </tr>\n",
       "    <tr>\n",
       "      <th>1</th>\n",
       "      <td>2</td>\n",
       "      <td>4.9</td>\n",
       "      <td>3.0</td>\n",
       "      <td>1.4</td>\n",
       "      <td>0.2</td>\n",
       "      <td>Iris-setosa</td>\n",
       "    </tr>\n",
       "    <tr>\n",
       "      <th>2</th>\n",
       "      <td>3</td>\n",
       "      <td>4.7</td>\n",
       "      <td>3.2</td>\n",
       "      <td>1.3</td>\n",
       "      <td>0.2</td>\n",
       "      <td>Iris-setosa</td>\n",
       "    </tr>\n",
       "    <tr>\n",
       "      <th>3</th>\n",
       "      <td>4</td>\n",
       "      <td>4.6</td>\n",
       "      <td>3.1</td>\n",
       "      <td>1.5</td>\n",
       "      <td>0.2</td>\n",
       "      <td>Iris-setosa</td>\n",
       "    </tr>\n",
       "    <tr>\n",
       "      <th>4</th>\n",
       "      <td>5</td>\n",
       "      <td>5.0</td>\n",
       "      <td>3.6</td>\n",
       "      <td>1.4</td>\n",
       "      <td>0.2</td>\n",
       "      <td>Iris-setosa</td>\n",
       "    </tr>\n",
       "    <tr>\n",
       "      <th>...</th>\n",
       "      <td>...</td>\n",
       "      <td>...</td>\n",
       "      <td>...</td>\n",
       "      <td>...</td>\n",
       "      <td>...</td>\n",
       "      <td>...</td>\n",
       "    </tr>\n",
       "    <tr>\n",
       "      <th>145</th>\n",
       "      <td>146</td>\n",
       "      <td>6.7</td>\n",
       "      <td>3.0</td>\n",
       "      <td>5.2</td>\n",
       "      <td>2.3</td>\n",
       "      <td>Iris-virginica</td>\n",
       "    </tr>\n",
       "    <tr>\n",
       "      <th>146</th>\n",
       "      <td>147</td>\n",
       "      <td>6.3</td>\n",
       "      <td>2.5</td>\n",
       "      <td>5.0</td>\n",
       "      <td>1.9</td>\n",
       "      <td>Iris-virginica</td>\n",
       "    </tr>\n",
       "    <tr>\n",
       "      <th>147</th>\n",
       "      <td>148</td>\n",
       "      <td>6.5</td>\n",
       "      <td>3.0</td>\n",
       "      <td>5.2</td>\n",
       "      <td>2.0</td>\n",
       "      <td>Iris-virginica</td>\n",
       "    </tr>\n",
       "    <tr>\n",
       "      <th>148</th>\n",
       "      <td>149</td>\n",
       "      <td>6.2</td>\n",
       "      <td>3.4</td>\n",
       "      <td>5.4</td>\n",
       "      <td>2.3</td>\n",
       "      <td>Iris-virginica</td>\n",
       "    </tr>\n",
       "    <tr>\n",
       "      <th>149</th>\n",
       "      <td>150</td>\n",
       "      <td>5.9</td>\n",
       "      <td>3.0</td>\n",
       "      <td>5.1</td>\n",
       "      <td>1.8</td>\n",
       "      <td>Iris-virginica</td>\n",
       "    </tr>\n",
       "  </tbody>\n",
       "</table>\n",
       "<p>150 rows × 6 columns</p>\n",
       "</div>"
      ],
      "text/plain": [
       "      Id  SepalLengthCm  SepalWidthCm  PetalLengthCm  PetalWidthCm  \\\n",
       "0      1            5.1           3.5            1.4           0.2   \n",
       "1      2            4.9           3.0            1.4           0.2   \n",
       "2      3            4.7           3.2            1.3           0.2   \n",
       "3      4            4.6           3.1            1.5           0.2   \n",
       "4      5            5.0           3.6            1.4           0.2   \n",
       "..   ...            ...           ...            ...           ...   \n",
       "145  146            6.7           3.0            5.2           2.3   \n",
       "146  147            6.3           2.5            5.0           1.9   \n",
       "147  148            6.5           3.0            5.2           2.0   \n",
       "148  149            6.2           3.4            5.4           2.3   \n",
       "149  150            5.9           3.0            5.1           1.8   \n",
       "\n",
       "            Species  \n",
       "0       Iris-setosa  \n",
       "1       Iris-setosa  \n",
       "2       Iris-setosa  \n",
       "3       Iris-setosa  \n",
       "4       Iris-setosa  \n",
       "..              ...  \n",
       "145  Iris-virginica  \n",
       "146  Iris-virginica  \n",
       "147  Iris-virginica  \n",
       "148  Iris-virginica  \n",
       "149  Iris-virginica  \n",
       "\n",
       "[150 rows x 6 columns]"
      ]
     },
     "execution_count": 2,
     "metadata": {},
     "output_type": "execute_result"
    }
   ],
   "source": [
    "a=pd.read_csv(r\"C:\\Users\\user\\Downloads\\14_Iris.csv\")\n",
    "a"
   ]
  },
  {
   "cell_type": "code",
   "execution_count": 3,
   "id": "d1a2e52f",
   "metadata": {},
   "outputs": [
    {
     "data": {
      "text/html": [
       "<div>\n",
       "<style scoped>\n",
       "    .dataframe tbody tr th:only-of-type {\n",
       "        vertical-align: middle;\n",
       "    }\n",
       "\n",
       "    .dataframe tbody tr th {\n",
       "        vertical-align: top;\n",
       "    }\n",
       "\n",
       "    .dataframe thead th {\n",
       "        text-align: right;\n",
       "    }\n",
       "</style>\n",
       "<table border=\"1\" class=\"dataframe\">\n",
       "  <thead>\n",
       "    <tr style=\"text-align: right;\">\n",
       "      <th></th>\n",
       "      <th>Id</th>\n",
       "      <th>SepalLengthCm</th>\n",
       "      <th>SepalWidthCm</th>\n",
       "      <th>PetalLengthCm</th>\n",
       "      <th>PetalWidthCm</th>\n",
       "      <th>Species</th>\n",
       "    </tr>\n",
       "  </thead>\n",
       "  <tbody>\n",
       "    <tr>\n",
       "      <th>0</th>\n",
       "      <td>1</td>\n",
       "      <td>5.1</td>\n",
       "      <td>3.5</td>\n",
       "      <td>1.4</td>\n",
       "      <td>0.2</td>\n",
       "      <td>Iris-setosa</td>\n",
       "    </tr>\n",
       "    <tr>\n",
       "      <th>1</th>\n",
       "      <td>2</td>\n",
       "      <td>4.9</td>\n",
       "      <td>3.0</td>\n",
       "      <td>1.4</td>\n",
       "      <td>0.2</td>\n",
       "      <td>Iris-setosa</td>\n",
       "    </tr>\n",
       "    <tr>\n",
       "      <th>2</th>\n",
       "      <td>3</td>\n",
       "      <td>4.7</td>\n",
       "      <td>3.2</td>\n",
       "      <td>1.3</td>\n",
       "      <td>0.2</td>\n",
       "      <td>Iris-setosa</td>\n",
       "    </tr>\n",
       "    <tr>\n",
       "      <th>3</th>\n",
       "      <td>4</td>\n",
       "      <td>4.6</td>\n",
       "      <td>3.1</td>\n",
       "      <td>1.5</td>\n",
       "      <td>0.2</td>\n",
       "      <td>Iris-setosa</td>\n",
       "    </tr>\n",
       "    <tr>\n",
       "      <th>4</th>\n",
       "      <td>5</td>\n",
       "      <td>5.0</td>\n",
       "      <td>3.6</td>\n",
       "      <td>1.4</td>\n",
       "      <td>0.2</td>\n",
       "      <td>Iris-setosa</td>\n",
       "    </tr>\n",
       "    <tr>\n",
       "      <th>5</th>\n",
       "      <td>6</td>\n",
       "      <td>5.4</td>\n",
       "      <td>3.9</td>\n",
       "      <td>1.7</td>\n",
       "      <td>0.4</td>\n",
       "      <td>Iris-setosa</td>\n",
       "    </tr>\n",
       "    <tr>\n",
       "      <th>6</th>\n",
       "      <td>7</td>\n",
       "      <td>4.6</td>\n",
       "      <td>3.4</td>\n",
       "      <td>1.4</td>\n",
       "      <td>0.3</td>\n",
       "      <td>Iris-setosa</td>\n",
       "    </tr>\n",
       "    <tr>\n",
       "      <th>7</th>\n",
       "      <td>8</td>\n",
       "      <td>5.0</td>\n",
       "      <td>3.4</td>\n",
       "      <td>1.5</td>\n",
       "      <td>0.2</td>\n",
       "      <td>Iris-setosa</td>\n",
       "    </tr>\n",
       "    <tr>\n",
       "      <th>8</th>\n",
       "      <td>9</td>\n",
       "      <td>4.4</td>\n",
       "      <td>2.9</td>\n",
       "      <td>1.4</td>\n",
       "      <td>0.2</td>\n",
       "      <td>Iris-setosa</td>\n",
       "    </tr>\n",
       "    <tr>\n",
       "      <th>9</th>\n",
       "      <td>10</td>\n",
       "      <td>4.9</td>\n",
       "      <td>3.1</td>\n",
       "      <td>1.5</td>\n",
       "      <td>0.1</td>\n",
       "      <td>Iris-setosa</td>\n",
       "    </tr>\n",
       "  </tbody>\n",
       "</table>\n",
       "</div>"
      ],
      "text/plain": [
       "   Id  SepalLengthCm  SepalWidthCm  PetalLengthCm  PetalWidthCm      Species\n",
       "0   1            5.1           3.5            1.4           0.2  Iris-setosa\n",
       "1   2            4.9           3.0            1.4           0.2  Iris-setosa\n",
       "2   3            4.7           3.2            1.3           0.2  Iris-setosa\n",
       "3   4            4.6           3.1            1.5           0.2  Iris-setosa\n",
       "4   5            5.0           3.6            1.4           0.2  Iris-setosa\n",
       "5   6            5.4           3.9            1.7           0.4  Iris-setosa\n",
       "6   7            4.6           3.4            1.4           0.3  Iris-setosa\n",
       "7   8            5.0           3.4            1.5           0.2  Iris-setosa\n",
       "8   9            4.4           2.9            1.4           0.2  Iris-setosa\n",
       "9  10            4.9           3.1            1.5           0.1  Iris-setosa"
      ]
     },
     "execution_count": 3,
     "metadata": {},
     "output_type": "execute_result"
    }
   ],
   "source": [
    "b=a.head(10)\n",
    "b"
   ]
  },
  {
   "cell_type": "code",
   "execution_count": 4,
   "id": "e0c24f98",
   "metadata": {},
   "outputs": [
    {
     "name": "stdout",
     "output_type": "stream",
     "text": [
      "<class 'pandas.core.frame.DataFrame'>\n",
      "RangeIndex: 150 entries, 0 to 149\n",
      "Data columns (total 6 columns):\n",
      " #   Column         Non-Null Count  Dtype  \n",
      "---  ------         --------------  -----  \n",
      " 0   Id             150 non-null    int64  \n",
      " 1   SepalLengthCm  150 non-null    float64\n",
      " 2   SepalWidthCm   150 non-null    float64\n",
      " 3   PetalLengthCm  150 non-null    float64\n",
      " 4   PetalWidthCm   150 non-null    float64\n",
      " 5   Species        150 non-null    object \n",
      "dtypes: float64(4), int64(1), object(1)\n",
      "memory usage: 7.2+ KB\n"
     ]
    }
   ],
   "source": [
    "a.info()"
   ]
  },
  {
   "cell_type": "code",
   "execution_count": 5,
   "id": "ad4b32c2",
   "metadata": {},
   "outputs": [
    {
     "data": {
      "text/html": [
       "<div>\n",
       "<style scoped>\n",
       "    .dataframe tbody tr th:only-of-type {\n",
       "        vertical-align: middle;\n",
       "    }\n",
       "\n",
       "    .dataframe tbody tr th {\n",
       "        vertical-align: top;\n",
       "    }\n",
       "\n",
       "    .dataframe thead th {\n",
       "        text-align: right;\n",
       "    }\n",
       "</style>\n",
       "<table border=\"1\" class=\"dataframe\">\n",
       "  <thead>\n",
       "    <tr style=\"text-align: right;\">\n",
       "      <th></th>\n",
       "      <th>Id</th>\n",
       "      <th>SepalLengthCm</th>\n",
       "      <th>SepalWidthCm</th>\n",
       "      <th>PetalLengthCm</th>\n",
       "      <th>PetalWidthCm</th>\n",
       "    </tr>\n",
       "  </thead>\n",
       "  <tbody>\n",
       "    <tr>\n",
       "      <th>count</th>\n",
       "      <td>150.000000</td>\n",
       "      <td>150.000000</td>\n",
       "      <td>150.000000</td>\n",
       "      <td>150.000000</td>\n",
       "      <td>150.000000</td>\n",
       "    </tr>\n",
       "    <tr>\n",
       "      <th>mean</th>\n",
       "      <td>75.500000</td>\n",
       "      <td>5.843333</td>\n",
       "      <td>3.054000</td>\n",
       "      <td>3.758667</td>\n",
       "      <td>1.198667</td>\n",
       "    </tr>\n",
       "    <tr>\n",
       "      <th>std</th>\n",
       "      <td>43.445368</td>\n",
       "      <td>0.828066</td>\n",
       "      <td>0.433594</td>\n",
       "      <td>1.764420</td>\n",
       "      <td>0.763161</td>\n",
       "    </tr>\n",
       "    <tr>\n",
       "      <th>min</th>\n",
       "      <td>1.000000</td>\n",
       "      <td>4.300000</td>\n",
       "      <td>2.000000</td>\n",
       "      <td>1.000000</td>\n",
       "      <td>0.100000</td>\n",
       "    </tr>\n",
       "    <tr>\n",
       "      <th>25%</th>\n",
       "      <td>38.250000</td>\n",
       "      <td>5.100000</td>\n",
       "      <td>2.800000</td>\n",
       "      <td>1.600000</td>\n",
       "      <td>0.300000</td>\n",
       "    </tr>\n",
       "    <tr>\n",
       "      <th>50%</th>\n",
       "      <td>75.500000</td>\n",
       "      <td>5.800000</td>\n",
       "      <td>3.000000</td>\n",
       "      <td>4.350000</td>\n",
       "      <td>1.300000</td>\n",
       "    </tr>\n",
       "    <tr>\n",
       "      <th>75%</th>\n",
       "      <td>112.750000</td>\n",
       "      <td>6.400000</td>\n",
       "      <td>3.300000</td>\n",
       "      <td>5.100000</td>\n",
       "      <td>1.800000</td>\n",
       "    </tr>\n",
       "    <tr>\n",
       "      <th>max</th>\n",
       "      <td>150.000000</td>\n",
       "      <td>7.900000</td>\n",
       "      <td>4.400000</td>\n",
       "      <td>6.900000</td>\n",
       "      <td>2.500000</td>\n",
       "    </tr>\n",
       "  </tbody>\n",
       "</table>\n",
       "</div>"
      ],
      "text/plain": [
       "               Id  SepalLengthCm  SepalWidthCm  PetalLengthCm  PetalWidthCm\n",
       "count  150.000000     150.000000    150.000000     150.000000    150.000000\n",
       "mean    75.500000       5.843333      3.054000       3.758667      1.198667\n",
       "std     43.445368       0.828066      0.433594       1.764420      0.763161\n",
       "min      1.000000       4.300000      2.000000       1.000000      0.100000\n",
       "25%     38.250000       5.100000      2.800000       1.600000      0.300000\n",
       "50%     75.500000       5.800000      3.000000       4.350000      1.300000\n",
       "75%    112.750000       6.400000      3.300000       5.100000      1.800000\n",
       "max    150.000000       7.900000      4.400000       6.900000      2.500000"
      ]
     },
     "execution_count": 5,
     "metadata": {},
     "output_type": "execute_result"
    }
   ],
   "source": [
    "a.describe()"
   ]
  },
  {
   "cell_type": "code",
   "execution_count": 6,
   "id": "7c32415f",
   "metadata": {},
   "outputs": [
    {
     "data": {
      "text/plain": [
       "Index(['Id', 'SepalLengthCm', 'SepalWidthCm', 'PetalLengthCm', 'PetalWidthCm',\n",
       "       'Species'],\n",
       "      dtype='object')"
      ]
     },
     "execution_count": 6,
     "metadata": {},
     "output_type": "execute_result"
    }
   ],
   "source": [
    "a.columns"
   ]
  },
  {
   "cell_type": "code",
   "execution_count": 7,
   "id": "a3cf55d1",
   "metadata": {},
   "outputs": [
    {
     "data": {
      "text/html": [
       "<div>\n",
       "<style scoped>\n",
       "    .dataframe tbody tr th:only-of-type {\n",
       "        vertical-align: middle;\n",
       "    }\n",
       "\n",
       "    .dataframe tbody tr th {\n",
       "        vertical-align: top;\n",
       "    }\n",
       "\n",
       "    .dataframe thead th {\n",
       "        text-align: right;\n",
       "    }\n",
       "</style>\n",
       "<table border=\"1\" class=\"dataframe\">\n",
       "  <thead>\n",
       "    <tr style=\"text-align: right;\">\n",
       "      <th></th>\n",
       "      <th>Id</th>\n",
       "      <th>SepalLengthCm</th>\n",
       "      <th>SepalWidthCm</th>\n",
       "      <th>PetalLengthCm</th>\n",
       "      <th>PetalWidthCm</th>\n",
       "    </tr>\n",
       "  </thead>\n",
       "  <tbody>\n",
       "    <tr>\n",
       "      <th>0</th>\n",
       "      <td>1</td>\n",
       "      <td>5.1</td>\n",
       "      <td>3.5</td>\n",
       "      <td>1.4</td>\n",
       "      <td>0.2</td>\n",
       "    </tr>\n",
       "    <tr>\n",
       "      <th>1</th>\n",
       "      <td>2</td>\n",
       "      <td>4.9</td>\n",
       "      <td>3.0</td>\n",
       "      <td>1.4</td>\n",
       "      <td>0.2</td>\n",
       "    </tr>\n",
       "    <tr>\n",
       "      <th>2</th>\n",
       "      <td>3</td>\n",
       "      <td>4.7</td>\n",
       "      <td>3.2</td>\n",
       "      <td>1.3</td>\n",
       "      <td>0.2</td>\n",
       "    </tr>\n",
       "    <tr>\n",
       "      <th>3</th>\n",
       "      <td>4</td>\n",
       "      <td>4.6</td>\n",
       "      <td>3.1</td>\n",
       "      <td>1.5</td>\n",
       "      <td>0.2</td>\n",
       "    </tr>\n",
       "    <tr>\n",
       "      <th>4</th>\n",
       "      <td>5</td>\n",
       "      <td>5.0</td>\n",
       "      <td>3.6</td>\n",
       "      <td>1.4</td>\n",
       "      <td>0.2</td>\n",
       "    </tr>\n",
       "    <tr>\n",
       "      <th>5</th>\n",
       "      <td>6</td>\n",
       "      <td>5.4</td>\n",
       "      <td>3.9</td>\n",
       "      <td>1.7</td>\n",
       "      <td>0.4</td>\n",
       "    </tr>\n",
       "    <tr>\n",
       "      <th>6</th>\n",
       "      <td>7</td>\n",
       "      <td>4.6</td>\n",
       "      <td>3.4</td>\n",
       "      <td>1.4</td>\n",
       "      <td>0.3</td>\n",
       "    </tr>\n",
       "    <tr>\n",
       "      <th>7</th>\n",
       "      <td>8</td>\n",
       "      <td>5.0</td>\n",
       "      <td>3.4</td>\n",
       "      <td>1.5</td>\n",
       "      <td>0.2</td>\n",
       "    </tr>\n",
       "    <tr>\n",
       "      <th>8</th>\n",
       "      <td>9</td>\n",
       "      <td>4.4</td>\n",
       "      <td>2.9</td>\n",
       "      <td>1.4</td>\n",
       "      <td>0.2</td>\n",
       "    </tr>\n",
       "    <tr>\n",
       "      <th>9</th>\n",
       "      <td>10</td>\n",
       "      <td>4.9</td>\n",
       "      <td>3.1</td>\n",
       "      <td>1.5</td>\n",
       "      <td>0.1</td>\n",
       "    </tr>\n",
       "  </tbody>\n",
       "</table>\n",
       "</div>"
      ],
      "text/plain": [
       "   Id  SepalLengthCm  SepalWidthCm  PetalLengthCm  PetalWidthCm\n",
       "0   1            5.1           3.5            1.4           0.2\n",
       "1   2            4.9           3.0            1.4           0.2\n",
       "2   3            4.7           3.2            1.3           0.2\n",
       "3   4            4.6           3.1            1.5           0.2\n",
       "4   5            5.0           3.6            1.4           0.2\n",
       "5   6            5.4           3.9            1.7           0.4\n",
       "6   7            4.6           3.4            1.4           0.3\n",
       "7   8            5.0           3.4            1.5           0.2\n",
       "8   9            4.4           2.9            1.4           0.2\n",
       "9  10            4.9           3.1            1.5           0.1"
      ]
     },
     "execution_count": 7,
     "metadata": {},
     "output_type": "execute_result"
    }
   ],
   "source": [
    "c=b[['Id', 'SepalLengthCm', 'SepalWidthCm', 'PetalLengthCm', 'PetalWidthCm']]\n",
    "c"
   ]
  },
  {
   "cell_type": "code",
   "execution_count": 8,
   "id": "f6dee985",
   "metadata": {},
   "outputs": [
    {
     "data": {
      "text/plain": [
       "<seaborn.axisgrid.PairGrid at 0x217d2587ac0>"
      ]
     },
     "execution_count": 8,
     "metadata": {},
     "output_type": "execute_result"
    },
    {
     "data": {
      "image/png": "[encoded data removed]",
      "text/plain": [
       "<Figure size 900x900 with 30 Axes>"
      ]
     },
     "metadata": {
      "needs_background": "light"
     },
     "output_type": "display_data"
    }
   ],
   "source": [
    "sns.pairplot(c)"
   ]
  },
  {
   "cell_type": "code",
   "execution_count": 9,
   "id": "8eeb1699",
   "metadata": {},
   "outputs": [
    {
     "name": "stderr",
     "output_type": "stream",
     "text": [
      "C:\\ProgramData\\Anaconda3\\lib\\site-packages\\seaborn\\distributions.py:2557: FutureWarning: `distplot` is a deprecated function and will be removed in a future version. Please adapt your code to use either `displot` (a figure-level function with similar flexibility) or `histplot` (an axes-level function for histograms).\n",
      "  warnings.warn(msg, FutureWarning)\n"
     ]
    },
    {
     "data": {
      "text/plain": [
       "<AxesSubplot:xlabel='SepalLengthCm', ylabel='Density'>"
      ]
     },
     "execution_count": 9,
     "metadata": {},
     "output_type": "execute_result"
    },
    {
     "data": {
      "image/png": "[encoded data removed]",
      "text/plain": [
       "<Figure size 432x288 with 1 Axes>"
      ]
     },
     "metadata": {
      "needs_background": "light"
     },
     "output_type": "display_data"
    }
   ],
   "source": [
    "sns.distplot(c['SepalLengthCm'])"
   ]
  },
  {
   "cell_type": "code",
   "execution_count": 10,
   "id": "00ec8b02",
   "metadata": {},
   "outputs": [
    {
     "data": {
      "text/plain": [
       "<AxesSubplot:>"
      ]
     },
     "execution_count": 10,
     "metadata": {},
     "output_type": "execute_result"
    },
    {
     "data": {
      "image/png": "[encoded data removed]",
      "text/plain": [
       "<Figure size 432x288 with 2 Axes>"
      ]
     },
     "metadata": {
      "needs_background": "light"
     },
     "output_type": "display_data"
    }
   ],
   "source": [
    "sns.heatmap(c.corr())"
   ]
  },
  {
   "cell_type": "code",
   "execution_count": 11,
   "id": "030e3363",
   "metadata": {},
   "outputs": [],
   "source": [
    "x=b[['Id', 'SepalLengthCm', 'SepalWidthCm', 'PetalLengthCm', 'PetalWidthCm']]\n",
    "y=b['SepalWidthCm']"
   ]
  },
  {
   "cell_type": "code",
   "execution_count": 12,
   "id": "f88b57de",
   "metadata": {},
   "outputs": [],
   "source": [
    "from sklearn.model_selection import train_test_split\n",
    "\n",
    "x_train,x_test,y_train,y_test=train_test_split(x,y,test_size=0.3)"
   ]
  },
  {
   "cell_type": "code",
   "execution_count": 13,
   "id": "41ada1f9",
   "metadata": {},
   "outputs": [
    {
     "data": {
      "text/plain": [
       "LinearRegression()"
      ]
     },
     "execution_count": 13,
     "metadata": {},
     "output_type": "execute_result"
    }
   ],
   "source": [
    "from sklearn.linear_model import LinearRegression\n",
    "\n",
    "lr=LinearRegression()\n",
    "lr.fit(x_train,y_train)"
   ]
  },
  {
   "cell_type": "code",
   "execution_count": 14,
   "id": "d2ef8fc0",
   "metadata": {},
   "outputs": [
    {
     "name": "stdout",
     "output_type": "stream",
     "text": [
      "-8.881784197001252e-16\n"
     ]
    }
   ],
   "source": [
    "print(lr.intercept_)"
   ]
  },
  {
   "cell_type": "code",
   "execution_count": 15,
   "id": "5a97f689",
   "metadata": {},
   "outputs": [
    {
     "data": {
      "text/html": [
       "<div>\n",
       "<style scoped>\n",
       "    .dataframe tbody tr th:only-of-type {\n",
       "        vertical-align: middle;\n",
       "    }\n",
       "\n",
       "    .dataframe tbody tr th {\n",
       "        vertical-align: top;\n",
       "    }\n",
       "\n",
       "    .dataframe thead th {\n",
       "        text-align: right;\n",
       "    }\n",
       "</style>\n",
       "<table border=\"1\" class=\"dataframe\">\n",
       "  <thead>\n",
       "    <tr style=\"text-align: right;\">\n",
       "      <th></th>\n",
       "      <th>Co-efficient</th>\n",
       "    </tr>\n",
       "  </thead>\n",
       "  <tbody>\n",
       "    <tr>\n",
       "      <th>Id</th>\n",
       "      <td>0.000000e+00</td>\n",
       "    </tr>\n",
       "    <tr>\n",
       "      <th>SepalLengthCm</th>\n",
       "      <td>-4.724091e-18</td>\n",
       "    </tr>\n",
       "    <tr>\n",
       "      <th>SepalWidthCm</th>\n",
       "      <td>1.000000e+00</td>\n",
       "    </tr>\n",
       "    <tr>\n",
       "      <th>PetalLengthCm</th>\n",
       "      <td>-3.819093e-16</td>\n",
       "    </tr>\n",
       "    <tr>\n",
       "      <th>PetalWidthCm</th>\n",
       "      <td>1.138951e-16</td>\n",
       "    </tr>\n",
       "  </tbody>\n",
       "</table>\n",
       "</div>"
      ],
      "text/plain": [
       "               Co-efficient\n",
       "Id             0.000000e+00\n",
       "SepalLengthCm -4.724091e-18\n",
       "SepalWidthCm   1.000000e+00\n",
       "PetalLengthCm -3.819093e-16\n",
       "PetalWidthCm   1.138951e-16"
      ]
     },
     "execution_count": 15,
     "metadata": {},
     "output_type": "execute_result"
    }
   ],
   "source": [
    "coeff=pd.DataFrame(lr.coef_,x.columns,columns=['Co-efficient'])\n",
    "coeff"
   ]
  },
  {
   "cell_type": "code",
   "execution_count": 16,
   "id": "a2f693c0",
   "metadata": {},
   "outputs": [
    {
     "data": {
      "text/plain": [
       "<matplotlib.collections.PathCollection at 0x217d45a1c40>"
      ]
     },
     "execution_count": 16,
     "metadata": {},
     "output_type": "execute_result"
    },
    {
     "data": {
      "image/png": "[encoded data removed]",
      "text/plain": [
       "<Figure size 432x288 with 1 Axes>"
      ]
     },
     "metadata": {
      "needs_background": "light"
     },
     "output_type": "display_data"
    }
   ],
   "source": [
    "prediction=lr.predict(x_test)\n",
    "plt.scatter(y_test,prediction)"
   ]
  },
  {
   "cell_type": "code",
   "execution_count": 17,
   "id": "af4a63ef",
   "metadata": {},
   "outputs": [
    {
     "name": "stdout",
     "output_type": "stream",
     "text": [
      "1.0\n"
     ]
    }
   ],
   "source": [
    "print(lr.score(x_test,y_test))"
   ]
  },
  {
   "cell_type": "code",
   "execution_count": 18,
   "id": "4db0a181",
   "metadata": {},
   "outputs": [],
   "source": [
    "from sklearn.linear_model import Ridge,Lasso"
   ]
  },
  {
   "cell_type": "code",
   "execution_count": 19,
   "id": "cfe41043",
   "metadata": {},
   "outputs": [
    {
     "data": {
      "text/plain": [
       "Ridge(alpha=10)"
      ]
     },
     "execution_count": 19,
     "metadata": {},
     "output_type": "execute_result"
    }
   ],
   "source": [
    "rr=Ridge(alpha=10)\n",
    "rr.fit(x_train,y_train)"
   ]
  },
  {
   "cell_type": "code",
   "execution_count": 20,
   "id": "9fc35ab4",
   "metadata": {},
   "outputs": [
    {
     "data": {
      "text/plain": [
       "-9.430062712045332"
      ]
     },
     "execution_count": 20,
     "metadata": {},
     "output_type": "execute_result"
    }
   ],
   "source": [
    "rr.score(x_test,y_test)"
   ]
  },
  {
   "cell_type": "code",
   "execution_count": 21,
   "id": "a36fb270",
   "metadata": {},
   "outputs": [
    {
     "data": {
      "text/plain": [
       "Lasso(alpha=10)"
      ]
     },
     "execution_count": 21,
     "metadata": {},
     "output_type": "execute_result"
    }
   ],
   "source": [
    "la=Lasso(alpha=10)\n",
    "la.fit(x_train,y_train)"
   ]
  },
  {
   "cell_type": "code",
   "execution_count": 22,
   "id": "31626154",
   "metadata": {},
   "outputs": [
    {
     "data": {
      "text/plain": [
       "-10.042274052478106"
      ]
     },
     "execution_count": 22,
     "metadata": {},
     "output_type": "execute_result"
    }
   ],
   "source": [
    "la.score(x_test,y_test)"
   ]
  },
  {
   "cell_type": "code",
   "execution_count": 23,
   "id": "41e61732",
   "metadata": {},
   "outputs": [
    {
     "data": {
      "text/plain": [
       "ElasticNet()"
      ]
     },
     "execution_count": 23,
     "metadata": {},
     "output_type": "execute_result"
    }
   ],
   "source": [
    "from sklearn.linear_model import ElasticNet\n",
    "en=ElasticNet()\n",
    "en.fit(x_train,y_train)"
   ]
  },
  {
   "cell_type": "code",
   "execution_count": 24,
   "id": "9f2c1d2f",
   "metadata": {},
   "outputs": [
    {
     "name": "stdout",
     "output_type": "stream",
     "text": [
      "[-0.  0.  0.  0.  0.]\n"
     ]
    }
   ],
   "source": [
    "print(en.coef_)"
   ]
  },
  {
   "cell_type": "code",
   "execution_count": 25,
   "id": "d6a903e4",
   "metadata": {},
   "outputs": [
    {
     "name": "stdout",
     "output_type": "stream",
     "text": [
      "3.4285714285714284\n"
     ]
    }
   ],
   "source": [
    "print(en.intercept_)"
   ]
  },
  {
   "cell_type": "code",
   "execution_count": 26,
   "id": "da30486d",
   "metadata": {},
   "outputs": [
    {
     "name": "stdout",
     "output_type": "stream",
     "text": [
      "-10.042274052478106\n"
     ]
    }
   ],
   "source": [
    "prediction=en.predict(x_test)\n",
    "print(en.score(x_test,y_test))"
   ]
  },
  {
   "cell_type": "markdown",
   "id": "e29b873b",
   "metadata": {},
   "source": [
    "# Evaluation Metrics"
   ]
  },
  {
   "cell_type": "code",
   "execution_count": 27,
   "id": "64dd0658",
   "metadata": {},
   "outputs": [],
   "source": [
    "from sklearn import metrics"
   ]
  },
  {
   "cell_type": "code",
   "execution_count": 28,
   "id": "271a630d",
   "metadata": {},
   "outputs": [
    {
     "name": "stdout",
     "output_type": "stream",
     "text": [
      "Mean Absolute Error: 0.395238095238095\n"
     ]
    }
   ],
   "source": [
    "print('Mean Absolute Error:',metrics.mean_absolute_error(y_test,prediction))"
   ]
  },
  {
   "cell_type": "code",
   "execution_count": 29,
   "id": "80b7c478",
   "metadata": {},
   "outputs": [
    {
     "name": "stdout",
     "output_type": "stream",
     "text": [
      "mean Squared Error: 0.17176870748299308\n"
     ]
    }
   ],
   "source": [
    "print(\"mean Squared Error:\",metrics.mean_squared_error(y_test,prediction))"
   ]
  },
  {
   "cell_type": "code",
   "execution_count": 30,
   "id": "62bc509f",
   "metadata": {},
   "outputs": [
    {
     "name": "stdout",
     "output_type": "stream",
     "text": [
      "Root mean Squared Error: 0.414449885369743\n"
     ]
    }
   ],
   "source": [
    "print(\"Root mean Squared Error:\",np.sqrt(metrics.mean_squared_error(y_test,prediction)))"
   ]
  },
  {
   "cell_type": "markdown",
   "id": "df3b4a7e",
   "metadata": {},
   "source": [
    "# 15. DataSet Horse_Racing"
   ]
  },
  {
   "cell_type": "code",
   "execution_count": 31,
   "id": "0c26a43d",
   "metadata": {},
   "outputs": [
    {
     "data": {
      "text/html": [
       "<div>\n",
       "<style scoped>\n",
       "    .dataframe tbody tr th:only-of-type {\n",
       "        vertical-align: middle;\n",
       "    }\n",
       "\n",
       "    .dataframe tbody tr th {\n",
       "        vertical-align: top;\n",
       "    }\n",
       "\n",
       "    .dataframe thead th {\n",
       "        text-align: right;\n",
       "    }\n",
       "</style>\n",
       "<table border=\"1\" class=\"dataframe\">\n",
       "  <thead>\n",
       "    <tr style=\"text-align: right;\">\n",
       "      <th></th>\n",
       "      <th>Dato</th>\n",
       "      <th>Track</th>\n",
       "      <th>Race Number</th>\n",
       "      <th>Distance</th>\n",
       "      <th>Surface</th>\n",
       "      <th>Prize money</th>\n",
       "      <th>Starting position</th>\n",
       "      <th>Jockey</th>\n",
       "      <th>Jockey weight</th>\n",
       "      <th>Country</th>\n",
       "      <th>...</th>\n",
       "      <th>TrainerName</th>\n",
       "      <th>Race time</th>\n",
       "      <th>Path</th>\n",
       "      <th>Final place</th>\n",
       "      <th>FGrating</th>\n",
       "      <th>Odds</th>\n",
       "      <th>RaceType</th>\n",
       "      <th>HorseId</th>\n",
       "      <th>JockeyId</th>\n",
       "      <th>TrainerID</th>\n",
       "    </tr>\n",
       "  </thead>\n",
       "  <tbody>\n",
       "    <tr>\n",
       "      <th>0</th>\n",
       "      <td>03.09.2017</td>\n",
       "      <td>Sha Tin</td>\n",
       "      <td>10</td>\n",
       "      <td>1400</td>\n",
       "      <td>Gress</td>\n",
       "      <td>1310000</td>\n",
       "      <td>6</td>\n",
       "      <td>K C Leung</td>\n",
       "      <td>52</td>\n",
       "      <td>Sverige</td>\n",
       "      <td>...</td>\n",
       "      <td>CH Yip</td>\n",
       "      <td>83,38</td>\n",
       "      <td>2</td>\n",
       "      <td>9</td>\n",
       "      <td>110</td>\n",
       "      <td>22</td>\n",
       "      <td>Handicap</td>\n",
       "      <td>1736</td>\n",
       "      <td>8656</td>\n",
       "      <td>6687</td>\n",
       "    </tr>\n",
       "    <tr>\n",
       "      <th>1</th>\n",
       "      <td>16.09.2017</td>\n",
       "      <td>Sha Tin</td>\n",
       "      <td>10</td>\n",
       "      <td>1400</td>\n",
       "      <td>Gress</td>\n",
       "      <td>1310000</td>\n",
       "      <td>14</td>\n",
       "      <td>C Y Ho</td>\n",
       "      <td>52</td>\n",
       "      <td>Sverige</td>\n",
       "      <td>...</td>\n",
       "      <td>CH Yip</td>\n",
       "      <td>81,56</td>\n",
       "      <td>3</td>\n",
       "      <td>4</td>\n",
       "      <td>124</td>\n",
       "      <td>48</td>\n",
       "      <td>Handicap</td>\n",
       "      <td>1736</td>\n",
       "      <td>8659</td>\n",
       "      <td>6687</td>\n",
       "    </tr>\n",
       "    <tr>\n",
       "      <th>2</th>\n",
       "      <td>14.10.2017</td>\n",
       "      <td>Sha Tin</td>\n",
       "      <td>10</td>\n",
       "      <td>1400</td>\n",
       "      <td>Gress</td>\n",
       "      <td>1310000</td>\n",
       "      <td>8</td>\n",
       "      <td>C Y Ho</td>\n",
       "      <td>52</td>\n",
       "      <td>Sverige</td>\n",
       "      <td>...</td>\n",
       "      <td>CH Yip</td>\n",
       "      <td>82,36</td>\n",
       "      <td>1</td>\n",
       "      <td>6</td>\n",
       "      <td>118</td>\n",
       "      <td>11</td>\n",
       "      <td>Handicap</td>\n",
       "      <td>1736</td>\n",
       "      <td>8659</td>\n",
       "      <td>6687</td>\n",
       "    </tr>\n",
       "    <tr>\n",
       "      <th>3</th>\n",
       "      <td>11.11.2017</td>\n",
       "      <td>Sha Tin</td>\n",
       "      <td>9</td>\n",
       "      <td>1600</td>\n",
       "      <td>Gress</td>\n",
       "      <td>1310000</td>\n",
       "      <td>13</td>\n",
       "      <td>Brett Prebble</td>\n",
       "      <td>54</td>\n",
       "      <td>Sverige</td>\n",
       "      <td>...</td>\n",
       "      <td>CH Yip</td>\n",
       "      <td>96,53</td>\n",
       "      <td>0</td>\n",
       "      <td>8</td>\n",
       "      <td>107</td>\n",
       "      <td>11</td>\n",
       "      <td>Handicap</td>\n",
       "      <td>1736</td>\n",
       "      <td>8453</td>\n",
       "      <td>6687</td>\n",
       "    </tr>\n",
       "    <tr>\n",
       "      <th>4</th>\n",
       "      <td>26.11.2017</td>\n",
       "      <td>Sha Tin</td>\n",
       "      <td>9</td>\n",
       "      <td>1600</td>\n",
       "      <td>Gress</td>\n",
       "      <td>1310000</td>\n",
       "      <td>9</td>\n",
       "      <td>C Y Ho</td>\n",
       "      <td>52</td>\n",
       "      <td>Sverige</td>\n",
       "      <td>...</td>\n",
       "      <td>CH Yip</td>\n",
       "      <td>94,17</td>\n",
       "      <td>0</td>\n",
       "      <td>3</td>\n",
       "      <td>123</td>\n",
       "      <td>40</td>\n",
       "      <td>Handicap</td>\n",
       "      <td>1736</td>\n",
       "      <td>8659</td>\n",
       "      <td>6687</td>\n",
       "    </tr>\n",
       "    <tr>\n",
       "      <th>...</th>\n",
       "      <td>...</td>\n",
       "      <td>...</td>\n",
       "      <td>...</td>\n",
       "      <td>...</td>\n",
       "      <td>...</td>\n",
       "      <td>...</td>\n",
       "      <td>...</td>\n",
       "      <td>...</td>\n",
       "      <td>...</td>\n",
       "      <td>...</td>\n",
       "      <td>...</td>\n",
       "      <td>...</td>\n",
       "      <td>...</td>\n",
       "      <td>...</td>\n",
       "      <td>...</td>\n",
       "      <td>...</td>\n",
       "      <td>...</td>\n",
       "      <td>...</td>\n",
       "      <td>...</td>\n",
       "      <td>...</td>\n",
       "      <td>...</td>\n",
       "    </tr>\n",
       "    <tr>\n",
       "      <th>27003</th>\n",
       "      <td>14.06.2020</td>\n",
       "      <td>Sha Tin</td>\n",
       "      <td>11</td>\n",
       "      <td>1200</td>\n",
       "      <td>Gress</td>\n",
       "      <td>1450000</td>\n",
       "      <td>6</td>\n",
       "      <td>A Hamelin</td>\n",
       "      <td>59</td>\n",
       "      <td>Australia</td>\n",
       "      <td>...</td>\n",
       "      <td>WY So</td>\n",
       "      <td>70,87</td>\n",
       "      <td>1</td>\n",
       "      <td>9</td>\n",
       "      <td>104</td>\n",
       "      <td>25</td>\n",
       "      <td>Handicap</td>\n",
       "      <td>29038</td>\n",
       "      <td>9111</td>\n",
       "      <td>6683</td>\n",
       "    </tr>\n",
       "    <tr>\n",
       "      <th>27004</th>\n",
       "      <td>21.06.2020</td>\n",
       "      <td>Sha Tin</td>\n",
       "      <td>2</td>\n",
       "      <td>1200</td>\n",
       "      <td>Gress</td>\n",
       "      <td>967000</td>\n",
       "      <td>7</td>\n",
       "      <td>K C Leung</td>\n",
       "      <td>57</td>\n",
       "      <td>Australia</td>\n",
       "      <td>...</td>\n",
       "      <td>KL Man</td>\n",
       "      <td>69,91</td>\n",
       "      <td>2</td>\n",
       "      <td>5</td>\n",
       "      <td>110</td>\n",
       "      <td>124</td>\n",
       "      <td>Handicap</td>\n",
       "      <td>29056</td>\n",
       "      <td>8656</td>\n",
       "      <td>6693</td>\n",
       "    </tr>\n",
       "    <tr>\n",
       "      <th>27005</th>\n",
       "      <td>21.06.2020</td>\n",
       "      <td>Sha Tin</td>\n",
       "      <td>4</td>\n",
       "      <td>1200</td>\n",
       "      <td>Gress</td>\n",
       "      <td>967000</td>\n",
       "      <td>6</td>\n",
       "      <td>Blake Shinn</td>\n",
       "      <td>57</td>\n",
       "      <td>Australia</td>\n",
       "      <td>...</td>\n",
       "      <td>P O'Sullivan</td>\n",
       "      <td>69,49</td>\n",
       "      <td>0</td>\n",
       "      <td>3</td>\n",
       "      <td>114</td>\n",
       "      <td>88</td>\n",
       "      <td>Handicap</td>\n",
       "      <td>29057</td>\n",
       "      <td>8778</td>\n",
       "      <td>6691</td>\n",
       "    </tr>\n",
       "    <tr>\n",
       "      <th>27006</th>\n",
       "      <td>21.06.2020</td>\n",
       "      <td>Sha Tin</td>\n",
       "      <td>5</td>\n",
       "      <td>1200</td>\n",
       "      <td>Gress</td>\n",
       "      <td>967000</td>\n",
       "      <td>14</td>\n",
       "      <td>Joao Moreira</td>\n",
       "      <td>57</td>\n",
       "      <td>New Zealand</td>\n",
       "      <td>...</td>\n",
       "      <td>AS Cruz</td>\n",
       "      <td>70,08</td>\n",
       "      <td>2</td>\n",
       "      <td>7</td>\n",
       "      <td>109</td>\n",
       "      <td>22</td>\n",
       "      <td>Handicap</td>\n",
       "      <td>29058</td>\n",
       "      <td>8443</td>\n",
       "      <td>6684</td>\n",
       "    </tr>\n",
       "    <tr>\n",
       "      <th>27007</th>\n",
       "      <td>21.06.2020</td>\n",
       "      <td>Sha Tin</td>\n",
       "      <td>11</td>\n",
       "      <td>1200</td>\n",
       "      <td>Gress</td>\n",
       "      <td>1450000</td>\n",
       "      <td>7</td>\n",
       "      <td>C Schofield</td>\n",
       "      <td>55</td>\n",
       "      <td>New Zealand</td>\n",
       "      <td>...</td>\n",
       "      <td>WY So</td>\n",
       "      <td>69,51</td>\n",
       "      <td>2</td>\n",
       "      <td>9</td>\n",
       "      <td>118</td>\n",
       "      <td>55</td>\n",
       "      <td>Handicap</td>\n",
       "      <td>29059</td>\n",
       "      <td>8655</td>\n",
       "      <td>6683</td>\n",
       "    </tr>\n",
       "  </tbody>\n",
       "</table>\n",
       "<p>27008 rows × 21 columns</p>\n",
       "</div>"
      ],
      "text/plain": [
       "             Dato    Track  Race Number  Distance Surface  Prize money  \\\n",
       "0      03.09.2017  Sha Tin           10      1400   Gress      1310000   \n",
       "1      16.09.2017  Sha Tin           10      1400   Gress      1310000   \n",
       "2      14.10.2017  Sha Tin           10      1400   Gress      1310000   \n",
       "3      11.11.2017  Sha Tin            9      1600   Gress      1310000   \n",
       "4      26.11.2017  Sha Tin            9      1600   Gress      1310000   \n",
       "...           ...      ...          ...       ...     ...          ...   \n",
       "27003  14.06.2020  Sha Tin           11      1200   Gress      1450000   \n",
       "27004  21.06.2020  Sha Tin            2      1200   Gress       967000   \n",
       "27005  21.06.2020  Sha Tin            4      1200   Gress       967000   \n",
       "27006  21.06.2020  Sha Tin            5      1200   Gress       967000   \n",
       "27007  21.06.2020  Sha Tin           11      1200   Gress      1450000   \n",
       "\n",
       "       Starting position         Jockey  Jockey weight      Country  ...  \\\n",
       "0                      6      K C Leung             52      Sverige  ...   \n",
       "1                     14         C Y Ho             52      Sverige  ...   \n",
       "2                      8         C Y Ho             52      Sverige  ...   \n",
       "3                     13  Brett Prebble             54      Sverige  ...   \n",
       "4                      9         C Y Ho             52      Sverige  ...   \n",
       "...                  ...            ...            ...          ...  ...   \n",
       "27003                  6      A Hamelin             59    Australia  ...   \n",
       "27004                  7      K C Leung             57    Australia  ...   \n",
       "27005                  6    Blake Shinn             57    Australia  ...   \n",
       "27006                 14   Joao Moreira             57  New Zealand  ...   \n",
       "27007                  7    C Schofield             55  New Zealand  ...   \n",
       "\n",
       "        TrainerName Race time Path  Final place  FGrating  Odds  RaceType  \\\n",
       "0            CH Yip     83,38    2            9       110    22  Handicap   \n",
       "1            CH Yip     81,56    3            4       124    48  Handicap   \n",
       "2            CH Yip     82,36    1            6       118    11  Handicap   \n",
       "3            CH Yip     96,53    0            8       107    11  Handicap   \n",
       "4            CH Yip     94,17    0            3       123    40  Handicap   \n",
       "...             ...       ...  ...          ...       ...   ...       ...   \n",
       "27003         WY So     70,87    1            9       104    25  Handicap   \n",
       "27004        KL Man     69,91    2            5       110   124  Handicap   \n",
       "27005  P O'Sullivan     69,49    0            3       114    88  Handicap   \n",
       "27006       AS Cruz     70,08    2            7       109    22  Handicap   \n",
       "27007         WY So     69,51    2            9       118    55  Handicap   \n",
       "\n",
       "      HorseId  JockeyId  TrainerID  \n",
       "0        1736      8656       6687  \n",
       "1        1736      8659       6687  \n",
       "2        1736      8659       6687  \n",
       "3        1736      8453       6687  \n",
       "4        1736      8659       6687  \n",
       "...       ...       ...        ...  \n",
       "27003   29038      9111       6683  \n",
       "27004   29056      8656       6693  \n",
       "27005   29057      8778       6691  \n",
       "27006   29058      8443       6684  \n",
       "27007   29059      8655       6683  \n",
       "\n",
       "[27008 rows x 21 columns]"
      ]
     },
     "execution_count": 31,
     "metadata": {},
     "output_type": "execute_result"
    }
   ],
   "source": [
    "a=pd.read_csv(r\"C:\\Users\\user\\Downloads\\15_Horse Racing Results.CSV - 15_Horse Racing Results.CSV.csv\")\n",
    "a"
   ]
  },
  {
   "cell_type": "code",
   "execution_count": 32,
   "id": "48e627b8",
   "metadata": {},
   "outputs": [
    {
     "data": {
      "text/html": [
       "<div>\n",
       "<style scoped>\n",
       "    .dataframe tbody tr th:only-of-type {\n",
       "        vertical-align: middle;\n",
       "    }\n",
       "\n",
       "    .dataframe tbody tr th {\n",
       "        vertical-align: top;\n",
       "    }\n",
       "\n",
       "    .dataframe thead th {\n",
       "        text-align: right;\n",
       "    }\n",
       "</style>\n",
       "<table border=\"1\" class=\"dataframe\">\n",
       "  <thead>\n",
       "    <tr style=\"text-align: right;\">\n",
       "      <th></th>\n",
       "      <th>Dato</th>\n",
       "      <th>Track</th>\n",
       "      <th>Race Number</th>\n",
       "      <th>Distance</th>\n",
       "      <th>Surface</th>\n",
       "      <th>Prize money</th>\n",
       "      <th>Starting position</th>\n",
       "      <th>Jockey</th>\n",
       "      <th>Jockey weight</th>\n",
       "      <th>Country</th>\n",
       "      <th>...</th>\n",
       "      <th>TrainerName</th>\n",
       "      <th>Race time</th>\n",
       "      <th>Path</th>\n",
       "      <th>Final place</th>\n",
       "      <th>FGrating</th>\n",
       "      <th>Odds</th>\n",
       "      <th>RaceType</th>\n",
       "      <th>HorseId</th>\n",
       "      <th>JockeyId</th>\n",
       "      <th>TrainerID</th>\n",
       "    </tr>\n",
       "  </thead>\n",
       "  <tbody>\n",
       "    <tr>\n",
       "      <th>0</th>\n",
       "      <td>03.09.2017</td>\n",
       "      <td>Sha Tin</td>\n",
       "      <td>10</td>\n",
       "      <td>1400</td>\n",
       "      <td>Gress</td>\n",
       "      <td>1310000</td>\n",
       "      <td>6</td>\n",
       "      <td>K C Leung</td>\n",
       "      <td>52</td>\n",
       "      <td>Sverige</td>\n",
       "      <td>...</td>\n",
       "      <td>CH Yip</td>\n",
       "      <td>83,38</td>\n",
       "      <td>2</td>\n",
       "      <td>9</td>\n",
       "      <td>110</td>\n",
       "      <td>22</td>\n",
       "      <td>Handicap</td>\n",
       "      <td>1736</td>\n",
       "      <td>8656</td>\n",
       "      <td>6687</td>\n",
       "    </tr>\n",
       "    <tr>\n",
       "      <th>1</th>\n",
       "      <td>16.09.2017</td>\n",
       "      <td>Sha Tin</td>\n",
       "      <td>10</td>\n",
       "      <td>1400</td>\n",
       "      <td>Gress</td>\n",
       "      <td>1310000</td>\n",
       "      <td>14</td>\n",
       "      <td>C Y Ho</td>\n",
       "      <td>52</td>\n",
       "      <td>Sverige</td>\n",
       "      <td>...</td>\n",
       "      <td>CH Yip</td>\n",
       "      <td>81,56</td>\n",
       "      <td>3</td>\n",
       "      <td>4</td>\n",
       "      <td>124</td>\n",
       "      <td>48</td>\n",
       "      <td>Handicap</td>\n",
       "      <td>1736</td>\n",
       "      <td>8659</td>\n",
       "      <td>6687</td>\n",
       "    </tr>\n",
       "    <tr>\n",
       "      <th>2</th>\n",
       "      <td>14.10.2017</td>\n",
       "      <td>Sha Tin</td>\n",
       "      <td>10</td>\n",
       "      <td>1400</td>\n",
       "      <td>Gress</td>\n",
       "      <td>1310000</td>\n",
       "      <td>8</td>\n",
       "      <td>C Y Ho</td>\n",
       "      <td>52</td>\n",
       "      <td>Sverige</td>\n",
       "      <td>...</td>\n",
       "      <td>CH Yip</td>\n",
       "      <td>82,36</td>\n",
       "      <td>1</td>\n",
       "      <td>6</td>\n",
       "      <td>118</td>\n",
       "      <td>11</td>\n",
       "      <td>Handicap</td>\n",
       "      <td>1736</td>\n",
       "      <td>8659</td>\n",
       "      <td>6687</td>\n",
       "    </tr>\n",
       "    <tr>\n",
       "      <th>3</th>\n",
       "      <td>11.11.2017</td>\n",
       "      <td>Sha Tin</td>\n",
       "      <td>9</td>\n",
       "      <td>1600</td>\n",
       "      <td>Gress</td>\n",
       "      <td>1310000</td>\n",
       "      <td>13</td>\n",
       "      <td>Brett Prebble</td>\n",
       "      <td>54</td>\n",
       "      <td>Sverige</td>\n",
       "      <td>...</td>\n",
       "      <td>CH Yip</td>\n",
       "      <td>96,53</td>\n",
       "      <td>0</td>\n",
       "      <td>8</td>\n",
       "      <td>107</td>\n",
       "      <td>11</td>\n",
       "      <td>Handicap</td>\n",
       "      <td>1736</td>\n",
       "      <td>8453</td>\n",
       "      <td>6687</td>\n",
       "    </tr>\n",
       "    <tr>\n",
       "      <th>4</th>\n",
       "      <td>26.11.2017</td>\n",
       "      <td>Sha Tin</td>\n",
       "      <td>9</td>\n",
       "      <td>1600</td>\n",
       "      <td>Gress</td>\n",
       "      <td>1310000</td>\n",
       "      <td>9</td>\n",
       "      <td>C Y Ho</td>\n",
       "      <td>52</td>\n",
       "      <td>Sverige</td>\n",
       "      <td>...</td>\n",
       "      <td>CH Yip</td>\n",
       "      <td>94,17</td>\n",
       "      <td>0</td>\n",
       "      <td>3</td>\n",
       "      <td>123</td>\n",
       "      <td>40</td>\n",
       "      <td>Handicap</td>\n",
       "      <td>1736</td>\n",
       "      <td>8659</td>\n",
       "      <td>6687</td>\n",
       "    </tr>\n",
       "    <tr>\n",
       "      <th>5</th>\n",
       "      <td>10.12.2017</td>\n",
       "      <td>Sha Tin</td>\n",
       "      <td>1</td>\n",
       "      <td>1800</td>\n",
       "      <td>Gress</td>\n",
       "      <td>1310000</td>\n",
       "      <td>4</td>\n",
       "      <td>C Y Ho</td>\n",
       "      <td>52</td>\n",
       "      <td>Sverige</td>\n",
       "      <td>...</td>\n",
       "      <td>CH Yip</td>\n",
       "      <td>107,92</td>\n",
       "      <td>2</td>\n",
       "      <td>3</td>\n",
       "      <td>123</td>\n",
       "      <td>8,1</td>\n",
       "      <td>Handicap</td>\n",
       "      <td>1736</td>\n",
       "      <td>8659</td>\n",
       "      <td>6687</td>\n",
       "    </tr>\n",
       "    <tr>\n",
       "      <th>6</th>\n",
       "      <td>01.01.2018</td>\n",
       "      <td>Sha Tin</td>\n",
       "      <td>9</td>\n",
       "      <td>1800</td>\n",
       "      <td>Gress</td>\n",
       "      <td>1310000</td>\n",
       "      <td>9</td>\n",
       "      <td>C Schofield</td>\n",
       "      <td>54</td>\n",
       "      <td>Sverige</td>\n",
       "      <td>...</td>\n",
       "      <td>CH Yip</td>\n",
       "      <td>108,63</td>\n",
       "      <td>5</td>\n",
       "      <td>1</td>\n",
       "      <td>125</td>\n",
       "      <td>6,9</td>\n",
       "      <td>Handicap</td>\n",
       "      <td>1736</td>\n",
       "      <td>8655</td>\n",
       "      <td>6687</td>\n",
       "    </tr>\n",
       "    <tr>\n",
       "      <th>7</th>\n",
       "      <td>04.02.2018</td>\n",
       "      <td>Sha Tin</td>\n",
       "      <td>5</td>\n",
       "      <td>1800</td>\n",
       "      <td>Gress</td>\n",
       "      <td>1310000</td>\n",
       "      <td>6</td>\n",
       "      <td>Joao Moreira</td>\n",
       "      <td>57</td>\n",
       "      <td>Sverige</td>\n",
       "      <td>...</td>\n",
       "      <td>CH Yip</td>\n",
       "      <td>108,19</td>\n",
       "      <td>0</td>\n",
       "      <td>4</td>\n",
       "      <td>122</td>\n",
       "      <td>3,7</td>\n",
       "      <td>Handicap</td>\n",
       "      <td>1736</td>\n",
       "      <td>8443</td>\n",
       "      <td>6687</td>\n",
       "    </tr>\n",
       "    <tr>\n",
       "      <th>8</th>\n",
       "      <td>03.03.2018</td>\n",
       "      <td>Sha Tin</td>\n",
       "      <td>8</td>\n",
       "      <td>1800</td>\n",
       "      <td>Gress</td>\n",
       "      <td>1310000</td>\n",
       "      <td>3</td>\n",
       "      <td>C Y Ho</td>\n",
       "      <td>56</td>\n",
       "      <td>Sverige</td>\n",
       "      <td>...</td>\n",
       "      <td>CH Yip</td>\n",
       "      <td>107,65</td>\n",
       "      <td>1</td>\n",
       "      <td>3</td>\n",
       "      <td>125</td>\n",
       "      <td>9</td>\n",
       "      <td>Handicap</td>\n",
       "      <td>1736</td>\n",
       "      <td>8659</td>\n",
       "      <td>6687</td>\n",
       "    </tr>\n",
       "    <tr>\n",
       "      <th>9</th>\n",
       "      <td>11.03.2018</td>\n",
       "      <td>Sha Tin</td>\n",
       "      <td>10</td>\n",
       "      <td>1600</td>\n",
       "      <td>Gress</td>\n",
       "      <td>1310000</td>\n",
       "      <td>8</td>\n",
       "      <td>C Y Ho</td>\n",
       "      <td>57</td>\n",
       "      <td>Sverige</td>\n",
       "      <td>...</td>\n",
       "      <td>CH Yip</td>\n",
       "      <td>94,46</td>\n",
       "      <td>1</td>\n",
       "      <td>6</td>\n",
       "      <td>124</td>\n",
       "      <td>14</td>\n",
       "      <td>Handicap</td>\n",
       "      <td>1736</td>\n",
       "      <td>8659</td>\n",
       "      <td>6687</td>\n",
       "    </tr>\n",
       "  </tbody>\n",
       "</table>\n",
       "<p>10 rows × 21 columns</p>\n",
       "</div>"
      ],
      "text/plain": [
       "         Dato    Track  Race Number  Distance Surface  Prize money  \\\n",
       "0  03.09.2017  Sha Tin           10      1400   Gress      1310000   \n",
       "1  16.09.2017  Sha Tin           10      1400   Gress      1310000   \n",
       "2  14.10.2017  Sha Tin           10      1400   Gress      1310000   \n",
       "3  11.11.2017  Sha Tin            9      1600   Gress      1310000   \n",
       "4  26.11.2017  Sha Tin            9      1600   Gress      1310000   \n",
       "5  10.12.2017  Sha Tin            1      1800   Gress      1310000   \n",
       "6  01.01.2018  Sha Tin            9      1800   Gress      1310000   \n",
       "7  04.02.2018  Sha Tin            5      1800   Gress      1310000   \n",
       "8  03.03.2018  Sha Tin            8      1800   Gress      1310000   \n",
       "9  11.03.2018  Sha Tin           10      1600   Gress      1310000   \n",
       "\n",
       "   Starting position         Jockey  Jockey weight  Country  ...  TrainerName  \\\n",
       "0                  6      K C Leung             52  Sverige  ...       CH Yip   \n",
       "1                 14         C Y Ho             52  Sverige  ...       CH Yip   \n",
       "2                  8         C Y Ho             52  Sverige  ...       CH Yip   \n",
       "3                 13  Brett Prebble             54  Sverige  ...       CH Yip   \n",
       "4                  9         C Y Ho             52  Sverige  ...       CH Yip   \n",
       "5                  4         C Y Ho             52  Sverige  ...       CH Yip   \n",
       "6                  9    C Schofield             54  Sverige  ...       CH Yip   \n",
       "7                  6   Joao Moreira             57  Sverige  ...       CH Yip   \n",
       "8                  3         C Y Ho             56  Sverige  ...       CH Yip   \n",
       "9                  8         C Y Ho             57  Sverige  ...       CH Yip   \n",
       "\n",
       "  Race time Path  Final place  FGrating  Odds  RaceType HorseId  JockeyId  \\\n",
       "0     83,38    2            9       110    22  Handicap    1736      8656   \n",
       "1     81,56    3            4       124    48  Handicap    1736      8659   \n",
       "2     82,36    1            6       118    11  Handicap    1736      8659   \n",
       "3     96,53    0            8       107    11  Handicap    1736      8453   \n",
       "4     94,17    0            3       123    40  Handicap    1736      8659   \n",
       "5    107,92    2            3       123   8,1  Handicap    1736      8659   \n",
       "6    108,63    5            1       125   6,9  Handicap    1736      8655   \n",
       "7    108,19    0            4       122   3,7  Handicap    1736      8443   \n",
       "8    107,65    1            3       125     9  Handicap    1736      8659   \n",
       "9     94,46    1            6       124    14  Handicap    1736      8659   \n",
       "\n",
       "   TrainerID  \n",
       "0       6687  \n",
       "1       6687  \n",
       "2       6687  \n",
       "3       6687  \n",
       "4       6687  \n",
       "5       6687  \n",
       "6       6687  \n",
       "7       6687  \n",
       "8       6687  \n",
       "9       6687  \n",
       "\n",
       "[10 rows x 21 columns]"
      ]
     },
     "execution_count": 32,
     "metadata": {},
     "output_type": "execute_result"
    }
   ],
   "source": [
    "b=a.head(10)\n",
    "b"
   ]
  },
  {
   "cell_type": "code",
   "execution_count": 33,
   "id": "c7c7583b",
   "metadata": {},
   "outputs": [
    {
     "name": "stdout",
     "output_type": "stream",
     "text": [
      "<class 'pandas.core.frame.DataFrame'>\n",
      "RangeIndex: 27008 entries, 0 to 27007\n",
      "Data columns (total 21 columns):\n",
      " #   Column             Non-Null Count  Dtype \n",
      "---  ------             --------------  ----- \n",
      " 0   Dato               27008 non-null  object\n",
      " 1   Track              27008 non-null  object\n",
      " 2   Race Number        27008 non-null  int64 \n",
      " 3   Distance           27008 non-null  int64 \n",
      " 4   Surface            27008 non-null  object\n",
      " 5   Prize money        27008 non-null  int64 \n",
      " 6   Starting position  27008 non-null  int64 \n",
      " 7   Jockey             27008 non-null  object\n",
      " 8   Jockey weight      27008 non-null  int64 \n",
      " 9   Country            27008 non-null  object\n",
      " 10  Horse age          27008 non-null  int64 \n",
      " 11  TrainerName        27008 non-null  object\n",
      " 12  Race time          27008 non-null  object\n",
      " 13  Path               27008 non-null  int64 \n",
      " 14  Final place        27008 non-null  int64 \n",
      " 15  FGrating           27008 non-null  int64 \n",
      " 16  Odds               27008 non-null  object\n",
      " 17  RaceType           27008 non-null  object\n",
      " 18  HorseId            27008 non-null  int64 \n",
      " 19  JockeyId           27008 non-null  int64 \n",
      " 20  TrainerID          27008 non-null  int64 \n",
      "dtypes: int64(12), object(9)\n",
      "memory usage: 4.3+ MB\n"
     ]
    }
   ],
   "source": [
    "a.info()"
   ]
  },
  {
   "cell_type": "code",
   "execution_count": 34,
   "id": "4ef51887",
   "metadata": {},
   "outputs": [
    {
     "data": {
      "text/html": [
       "<div>\n",
       "<style scoped>\n",
       "    .dataframe tbody tr th:only-of-type {\n",
       "        vertical-align: middle;\n",
       "    }\n",
       "\n",
       "    .dataframe tbody tr th {\n",
       "        vertical-align: top;\n",
       "    }\n",
       "\n",
       "    .dataframe thead th {\n",
       "        text-align: right;\n",
       "    }\n",
       "</style>\n",
       "<table border=\"1\" class=\"dataframe\">\n",
       "  <thead>\n",
       "    <tr style=\"text-align: right;\">\n",
       "      <th></th>\n",
       "      <th>Race Number</th>\n",
       "      <th>Distance</th>\n",
       "      <th>Prize money</th>\n",
       "      <th>Starting position</th>\n",
       "      <th>Jockey weight</th>\n",
       "      <th>Horse age</th>\n",
       "      <th>Path</th>\n",
       "      <th>Final place</th>\n",
       "      <th>FGrating</th>\n",
       "      <th>HorseId</th>\n",
       "      <th>JockeyId</th>\n",
       "      <th>TrainerID</th>\n",
       "    </tr>\n",
       "  </thead>\n",
       "  <tbody>\n",
       "    <tr>\n",
       "      <th>count</th>\n",
       "      <td>27008.000000</td>\n",
       "      <td>27008.000000</td>\n",
       "      <td>2.700800e+04</td>\n",
       "      <td>27008.000000</td>\n",
       "      <td>27008.000000</td>\n",
       "      <td>27008.000000</td>\n",
       "      <td>27008.000000</td>\n",
       "      <td>27008.000000</td>\n",
       "      <td>27008.000000</td>\n",
       "      <td>27008.000000</td>\n",
       "      <td>27008.000000</td>\n",
       "      <td>27008.000000</td>\n",
       "    </tr>\n",
       "    <tr>\n",
       "      <th>mean</th>\n",
       "      <td>5.268624</td>\n",
       "      <td>1401.666173</td>\n",
       "      <td>1.479445e+06</td>\n",
       "      <td>6.741447</td>\n",
       "      <td>55.867373</td>\n",
       "      <td>5.246408</td>\n",
       "      <td>1.678021</td>\n",
       "      <td>6.685834</td>\n",
       "      <td>113.428318</td>\n",
       "      <td>23904.874889</td>\n",
       "      <td>8586.732042</td>\n",
       "      <td>6668.559205</td>\n",
       "    </tr>\n",
       "    <tr>\n",
       "      <th>std</th>\n",
       "      <td>2.780088</td>\n",
       "      <td>276.065045</td>\n",
       "      <td>2.162109e+06</td>\n",
       "      <td>3.691071</td>\n",
       "      <td>2.737006</td>\n",
       "      <td>1.519880</td>\n",
       "      <td>1.631784</td>\n",
       "      <td>3.664551</td>\n",
       "      <td>13.314949</td>\n",
       "      <td>2028.860311</td>\n",
       "      <td>569.616932</td>\n",
       "      <td>79.978067</td>\n",
       "    </tr>\n",
       "    <tr>\n",
       "      <th>min</th>\n",
       "      <td>1.000000</td>\n",
       "      <td>1000.000000</td>\n",
       "      <td>6.600000e+05</td>\n",
       "      <td>1.000000</td>\n",
       "      <td>47.000000</td>\n",
       "      <td>2.000000</td>\n",
       "      <td>0.000000</td>\n",
       "      <td>1.000000</td>\n",
       "      <td>-5.000000</td>\n",
       "      <td>1736.000000</td>\n",
       "      <td>227.000000</td>\n",
       "      <td>6431.000000</td>\n",
       "    </tr>\n",
       "    <tr>\n",
       "      <th>25%</th>\n",
       "      <td>3.000000</td>\n",
       "      <td>1200.000000</td>\n",
       "      <td>9.200000e+05</td>\n",
       "      <td>4.000000</td>\n",
       "      <td>54.000000</td>\n",
       "      <td>4.000000</td>\n",
       "      <td>0.000000</td>\n",
       "      <td>4.000000</td>\n",
       "      <td>106.000000</td>\n",
       "      <td>22364.000000</td>\n",
       "      <td>8651.000000</td>\n",
       "      <td>6683.000000</td>\n",
       "    </tr>\n",
       "    <tr>\n",
       "      <th>50%</th>\n",
       "      <td>5.000000</td>\n",
       "      <td>1400.000000</td>\n",
       "      <td>9.670000e+05</td>\n",
       "      <td>7.000000</td>\n",
       "      <td>56.000000</td>\n",
       "      <td>5.000000</td>\n",
       "      <td>1.000000</td>\n",
       "      <td>7.000000</td>\n",
       "      <td>114.000000</td>\n",
       "      <td>22868.500000</td>\n",
       "      <td>8658.000000</td>\n",
       "      <td>6687.000000</td>\n",
       "    </tr>\n",
       "    <tr>\n",
       "      <th>75%</th>\n",
       "      <td>8.000000</td>\n",
       "      <td>1650.000000</td>\n",
       "      <td>1.450000e+06</td>\n",
       "      <td>10.000000</td>\n",
       "      <td>58.000000</td>\n",
       "      <td>6.000000</td>\n",
       "      <td>3.000000</td>\n",
       "      <td>10.000000</td>\n",
       "      <td>122.000000</td>\n",
       "      <td>25310.000000</td>\n",
       "      <td>8663.000000</td>\n",
       "      <td>6693.000000</td>\n",
       "    </tr>\n",
       "    <tr>\n",
       "      <th>max</th>\n",
       "      <td>11.000000</td>\n",
       "      <td>2400.000000</td>\n",
       "      <td>2.800000e+07</td>\n",
       "      <td>14.000000</td>\n",
       "      <td>63.000000</td>\n",
       "      <td>12.000000</td>\n",
       "      <td>11.000000</td>\n",
       "      <td>14.000000</td>\n",
       "      <td>157.000000</td>\n",
       "      <td>29059.000000</td>\n",
       "      <td>9113.000000</td>\n",
       "      <td>7004.000000</td>\n",
       "    </tr>\n",
       "  </tbody>\n",
       "</table>\n",
       "</div>"
      ],
      "text/plain": [
       "        Race Number      Distance   Prize money  Starting position  \\\n",
       "count  27008.000000  27008.000000  2.700800e+04       27008.000000   \n",
       "mean       5.268624   1401.666173  1.479445e+06           6.741447   \n",
       "std        2.780088    276.065045  2.162109e+06           3.691071   \n",
       "min        1.000000   1000.000000  6.600000e+05           1.000000   \n",
       "25%        3.000000   1200.000000  9.200000e+05           4.000000   \n",
       "50%        5.000000   1400.000000  9.670000e+05           7.000000   \n",
       "75%        8.000000   1650.000000  1.450000e+06          10.000000   \n",
       "max       11.000000   2400.000000  2.800000e+07          14.000000   \n",
       "\n",
       "       Jockey weight     Horse age          Path   Final place      FGrating  \\\n",
       "count   27008.000000  27008.000000  27008.000000  27008.000000  27008.000000   \n",
       "mean       55.867373      5.246408      1.678021      6.685834    113.428318   \n",
       "std         2.737006      1.519880      1.631784      3.664551     13.314949   \n",
       "min        47.000000      2.000000      0.000000      1.000000     -5.000000   \n",
       "25%        54.000000      4.000000      0.000000      4.000000    106.000000   \n",
       "50%        56.000000      5.000000      1.000000      7.000000    114.000000   \n",
       "75%        58.000000      6.000000      3.000000     10.000000    122.000000   \n",
       "max        63.000000     12.000000     11.000000     14.000000    157.000000   \n",
       "\n",
       "            HorseId      JockeyId     TrainerID  \n",
       "count  27008.000000  27008.000000  27008.000000  \n",
       "mean   23904.874889   8586.732042   6668.559205  \n",
       "std     2028.860311    569.616932     79.978067  \n",
       "min     1736.000000    227.000000   6431.000000  \n",
       "25%    22364.000000   8651.000000   6683.000000  \n",
       "50%    22868.500000   8658.000000   6687.000000  \n",
       "75%    25310.000000   8663.000000   6693.000000  \n",
       "max    29059.000000   9113.000000   7004.000000  "
      ]
     },
     "execution_count": 34,
     "metadata": {},
     "output_type": "execute_result"
    }
   ],
   "source": [
    "a.describe()"
   ]
  },
  {
   "cell_type": "code",
   "execution_count": 35,
   "id": "452a4f58",
   "metadata": {},
   "outputs": [
    {
     "data": {
      "text/plain": [
       "Index(['Dato', 'Track', 'Race Number', 'Distance', 'Surface', 'Prize money',\n",
       "       'Starting position', 'Jockey', 'Jockey weight', 'Country', 'Horse age',\n",
       "       'TrainerName', 'Race time', 'Path', 'Final place', 'FGrating', 'Odds',\n",
       "       'RaceType', 'HorseId', 'JockeyId', 'TrainerID'],\n",
       "      dtype='object')"
      ]
     },
     "execution_count": 35,
     "metadata": {},
     "output_type": "execute_result"
    }
   ],
   "source": [
    "a.columns"
   ]
  },
  {
   "cell_type": "code",
   "execution_count": 36,
   "id": "16058792",
   "metadata": {},
   "outputs": [
    {
     "data": {
      "text/html": [
       "<div>\n",
       "<style scoped>\n",
       "    .dataframe tbody tr th:only-of-type {\n",
       "        vertical-align: middle;\n",
       "    }\n",
       "\n",
       "    .dataframe tbody tr th {\n",
       "        vertical-align: top;\n",
       "    }\n",
       "\n",
       "    .dataframe thead th {\n",
       "        text-align: right;\n",
       "    }\n",
       "</style>\n",
       "<table border=\"1\" class=\"dataframe\">\n",
       "  <thead>\n",
       "    <tr style=\"text-align: right;\">\n",
       "      <th></th>\n",
       "      <th>Race Number</th>\n",
       "      <th>Distance</th>\n",
       "      <th>Surface</th>\n",
       "      <th>Prize money</th>\n",
       "      <th>Starting position</th>\n",
       "    </tr>\n",
       "  </thead>\n",
       "  <tbody>\n",
       "    <tr>\n",
       "      <th>0</th>\n",
       "      <td>10</td>\n",
       "      <td>1400</td>\n",
       "      <td>Gress</td>\n",
       "      <td>1310000</td>\n",
       "      <td>6</td>\n",
       "    </tr>\n",
       "    <tr>\n",
       "      <th>1</th>\n",
       "      <td>10</td>\n",
       "      <td>1400</td>\n",
       "      <td>Gress</td>\n",
       "      <td>1310000</td>\n",
       "      <td>14</td>\n",
       "    </tr>\n",
       "    <tr>\n",
       "      <th>2</th>\n",
       "      <td>10</td>\n",
       "      <td>1400</td>\n",
       "      <td>Gress</td>\n",
       "      <td>1310000</td>\n",
       "      <td>8</td>\n",
       "    </tr>\n",
       "    <tr>\n",
       "      <th>3</th>\n",
       "      <td>9</td>\n",
       "      <td>1600</td>\n",
       "      <td>Gress</td>\n",
       "      <td>1310000</td>\n",
       "      <td>13</td>\n",
       "    </tr>\n",
       "    <tr>\n",
       "      <th>4</th>\n",
       "      <td>9</td>\n",
       "      <td>1600</td>\n",
       "      <td>Gress</td>\n",
       "      <td>1310000</td>\n",
       "      <td>9</td>\n",
       "    </tr>\n",
       "    <tr>\n",
       "      <th>5</th>\n",
       "      <td>1</td>\n",
       "      <td>1800</td>\n",
       "      <td>Gress</td>\n",
       "      <td>1310000</td>\n",
       "      <td>4</td>\n",
       "    </tr>\n",
       "    <tr>\n",
       "      <th>6</th>\n",
       "      <td>9</td>\n",
       "      <td>1800</td>\n",
       "      <td>Gress</td>\n",
       "      <td>1310000</td>\n",
       "      <td>9</td>\n",
       "    </tr>\n",
       "    <tr>\n",
       "      <th>7</th>\n",
       "      <td>5</td>\n",
       "      <td>1800</td>\n",
       "      <td>Gress</td>\n",
       "      <td>1310000</td>\n",
       "      <td>6</td>\n",
       "    </tr>\n",
       "    <tr>\n",
       "      <th>8</th>\n",
       "      <td>8</td>\n",
       "      <td>1800</td>\n",
       "      <td>Gress</td>\n",
       "      <td>1310000</td>\n",
       "      <td>3</td>\n",
       "    </tr>\n",
       "    <tr>\n",
       "      <th>9</th>\n",
       "      <td>10</td>\n",
       "      <td>1600</td>\n",
       "      <td>Gress</td>\n",
       "      <td>1310000</td>\n",
       "      <td>8</td>\n",
       "    </tr>\n",
       "  </tbody>\n",
       "</table>\n",
       "</div>"
      ],
      "text/plain": [
       "   Race Number  Distance Surface  Prize money  Starting position\n",
       "0           10      1400   Gress      1310000                  6\n",
       "1           10      1400   Gress      1310000                 14\n",
       "2           10      1400   Gress      1310000                  8\n",
       "3            9      1600   Gress      1310000                 13\n",
       "4            9      1600   Gress      1310000                  9\n",
       "5            1      1800   Gress      1310000                  4\n",
       "6            9      1800   Gress      1310000                  9\n",
       "7            5      1800   Gress      1310000                  6\n",
       "8            8      1800   Gress      1310000                  3\n",
       "9           10      1600   Gress      1310000                  8"
      ]
     },
     "execution_count": 36,
     "metadata": {},
     "output_type": "execute_result"
    }
   ],
   "source": [
    "c=b[['Race Number', 'Distance', 'Surface', 'Prize money',\n",
    "       'Starting position']]\n",
    "c"
   ]
  },
  {
   "cell_type": "code",
   "execution_count": 37,
   "id": "c310951d",
   "metadata": {},
   "outputs": [
    {
     "data": {
      "text/plain": [
       "<seaborn.axisgrid.PairGrid at 0x217d4a2c160>"
      ]
     },
     "execution_count": 37,
     "metadata": {},
     "output_type": "execute_result"
    },
    {
     "data": {
      "image/png": "[encoded data removed]",
      "text/plain": [
       "<Figure size 720x720 with 20 Axes>"
      ]
     },
     "metadata": {
      "needs_background": "light"
     },
     "output_type": "display_data"
    }
   ],
   "source": [
    "sns.pairplot(c)"
   ]
  },
  {
   "cell_type": "code",
   "execution_count": 38,
   "id": "62048d95",
   "metadata": {},
   "outputs": [
    {
     "name": "stderr",
     "output_type": "stream",
     "text": [
      "C:\\ProgramData\\Anaconda3\\lib\\site-packages\\seaborn\\distributions.py:2557: FutureWarning: `distplot` is a deprecated function and will be removed in a future version. Please adapt your code to use either `displot` (a figure-level function with similar flexibility) or `histplot` (an axes-level function for histograms).\n",
      "  warnings.warn(msg, FutureWarning)\n"
     ]
    },
    {
     "data": {
      "text/plain": [
       "<AxesSubplot:xlabel='Distance', ylabel='Density'>"
      ]
     },
     "execution_count": 38,
     "metadata": {},
     "output_type": "execute_result"
    },
    {
     "data": {
      "image/png": "[encoded data removed]",
      "text/plain": [
       "<Figure size 432x288 with 1 Axes>"
      ]
     },
     "metadata": {
      "needs_background": "light"
     },
     "output_type": "display_data"
    }
   ],
   "source": [
    "sns.distplot(c['Distance'])"
   ]
  },
  {
   "cell_type": "code",
   "execution_count": 39,
   "id": "1cb00ab2",
   "metadata": {},
   "outputs": [
    {
     "data": {
      "text/plain": [
       "<AxesSubplot:>"
      ]
     },
     "execution_count": 39,
     "metadata": {},
     "output_type": "execute_result"
    },
    {
     "data": {
      "image/png": "[encoded data removed]",
      "text/plain": [
       "<Figure size 432x288 with 2 Axes>"
      ]
     },
     "metadata": {
      "needs_background": "light"
     },
     "output_type": "display_data"
    }
   ],
   "source": [
    "sns.heatmap(c.corr())"
   ]
  },
  {
   "cell_type": "code",
   "execution_count": 40,
   "id": "f2110194",
   "metadata": {},
   "outputs": [],
   "source": [
    "x=b[['Race Number', 'Distance', 'Prize money',\n",
    "       'Starting position']]\n",
    "y=b['Path']"
   ]
  },
  {
   "cell_type": "code",
   "execution_count": 41,
   "id": "69f0584f",
   "metadata": {},
   "outputs": [],
   "source": [
    "x_train,x_test,y_train,y_test=train_test_split(x,y,test_size=0.3)"
   ]
  },
  {
   "cell_type": "code",
   "execution_count": 42,
   "id": "49cff58c",
   "metadata": {},
   "outputs": [
    {
     "data": {
      "text/plain": [
       "LinearRegression()"
      ]
     },
     "execution_count": 42,
     "metadata": {},
     "output_type": "execute_result"
    }
   ],
   "source": [
    "lr=LinearRegression()\n",
    "lr.fit(x_train,y_train)"
   ]
  },
  {
   "cell_type": "code",
   "execution_count": 43,
   "id": "00191142",
   "metadata": {},
   "outputs": [
    {
     "name": "stdout",
     "output_type": "stream",
     "text": [
      "-16.134030197444815\n"
     ]
    }
   ],
   "source": [
    "print(lr.intercept_)\n"
   ]
  },
  {
   "cell_type": "code",
   "execution_count": 44,
   "id": "7545b4c9",
   "metadata": {},
   "outputs": [
    {
     "data": {
      "text/html": [
       "<div>\n",
       "<style scoped>\n",
       "    .dataframe tbody tr th:only-of-type {\n",
       "        vertical-align: middle;\n",
       "    }\n",
       "\n",
       "    .dataframe tbody tr th {\n",
       "        vertical-align: top;\n",
       "    }\n",
       "\n",
       "    .dataframe thead th {\n",
       "        text-align: right;\n",
       "    }\n",
       "</style>\n",
       "<table border=\"1\" class=\"dataframe\">\n",
       "  <thead>\n",
       "    <tr style=\"text-align: right;\">\n",
       "      <th></th>\n",
       "      <th>Co-efficient</th>\n",
       "    </tr>\n",
       "  </thead>\n",
       "  <tbody>\n",
       "    <tr>\n",
       "      <th>Race Number</th>\n",
       "      <td>0.660163</td>\n",
       "    </tr>\n",
       "    <tr>\n",
       "      <th>Distance</th>\n",
       "      <td>0.006267</td>\n",
       "    </tr>\n",
       "    <tr>\n",
       "      <th>Prize money</th>\n",
       "      <td>0.000000</td>\n",
       "    </tr>\n",
       "    <tr>\n",
       "      <th>Starting position</th>\n",
       "      <td>0.240418</td>\n",
       "    </tr>\n",
       "  </tbody>\n",
       "</table>\n",
       "</div>"
      ],
      "text/plain": [
       "                   Co-efficient\n",
       "Race Number            0.660163\n",
       "Distance               0.006267\n",
       "Prize money            0.000000\n",
       "Starting position      0.240418"
      ]
     },
     "execution_count": 44,
     "metadata": {},
     "output_type": "execute_result"
    }
   ],
   "source": [
    "coeff=pd.DataFrame(lr.coef_,x.columns,columns=['Co-efficient'])\n",
    "coeff"
   ]
  },
  {
   "cell_type": "code",
   "execution_count": 45,
   "id": "92677186",
   "metadata": {},
   "outputs": [
    {
     "data": {
      "text/plain": [
       "<matplotlib.collections.PathCollection at 0x217d57e49a0>"
      ]
     },
     "execution_count": 45,
     "metadata": {},
     "output_type": "execute_result"
    },
    {
     "data": {
      "image/png": "[encoded data removed]",
      "text/plain": [
       "<Figure size 432x288 with 1 Axes>"
      ]
     },
     "metadata": {
      "needs_background": "light"
     },
     "output_type": "display_data"
    }
   ],
   "source": [
    "prediction=lr.predict(x_test)\n",
    "plt.scatter(y_test,prediction)"
   ]
  },
  {
   "cell_type": "code",
   "execution_count": 46,
   "id": "74bca386",
   "metadata": {},
   "outputs": [
    {
     "name": "stdout",
     "output_type": "stream",
     "text": [
      "-17.078783064286586\n"
     ]
    }
   ],
   "source": [
    "print(lr.score(x_test,y_test))"
   ]
  },
  {
   "cell_type": "code",
   "execution_count": 47,
   "id": "30ac3e3f",
   "metadata": {},
   "outputs": [],
   "source": [
    "from sklearn.linear_model import Ridge,Lasso"
   ]
  },
  {
   "cell_type": "code",
   "execution_count": 48,
   "id": "b683536e",
   "metadata": {},
   "outputs": [
    {
     "data": {
      "text/plain": [
       "Ridge(alpha=10)"
      ]
     },
     "execution_count": 48,
     "metadata": {},
     "output_type": "execute_result"
    }
   ],
   "source": [
    "rr=Ridge(alpha=10)\n",
    "rr.fit(x_train,y_train)"
   ]
  },
  {
   "cell_type": "code",
   "execution_count": 49,
   "id": "c758b904",
   "metadata": {},
   "outputs": [
    {
     "data": {
      "text/plain": [
       "-7.724029079501507"
      ]
     },
     "execution_count": 49,
     "metadata": {},
     "output_type": "execute_result"
    }
   ],
   "source": [
    "rr.score(x_test,y_test)"
   ]
  },
  {
   "cell_type": "code",
   "execution_count": 50,
   "id": "ced7610c",
   "metadata": {},
   "outputs": [
    {
     "data": {
      "text/plain": [
       "Lasso(alpha=10)"
      ]
     },
     "execution_count": 50,
     "metadata": {},
     "output_type": "execute_result"
    }
   ],
   "source": [
    "la=Lasso(alpha=10)\n",
    "la.fit(x_train,y_train)"
   ]
  },
  {
   "cell_type": "code",
   "execution_count": 51,
   "id": "061762fe",
   "metadata": {},
   "outputs": [
    {
     "data": {
      "text/plain": [
       "-0.8690625000000003"
      ]
     },
     "execution_count": 51,
     "metadata": {},
     "output_type": "execute_result"
    }
   ],
   "source": [
    "la.score(x_test,y_test)"
   ]
  },
  {
   "cell_type": "code",
   "execution_count": 52,
   "id": "f953821c",
   "metadata": {},
   "outputs": [
    {
     "data": {
      "text/plain": [
       "ElasticNet()"
      ]
     },
     "execution_count": 52,
     "metadata": {},
     "output_type": "execute_result"
    }
   ],
   "source": [
    "en=ElasticNet()\n",
    "en.fit(x_train,y_train)"
   ]
  },
  {
   "cell_type": "code",
   "execution_count": 53,
   "id": "f7defbb0",
   "metadata": {},
   "outputs": [
    {
     "name": "stdout",
     "output_type": "stream",
     "text": [
      "[0.24550125 0.00280497 0.         0.18344861]\n"
     ]
    }
   ],
   "source": [
    "print(en.coef_)"
   ]
  },
  {
   "cell_type": "code",
   "execution_count": 54,
   "id": "60f0d2d6",
   "metadata": {},
   "outputs": [
    {
     "name": "stdout",
     "output_type": "stream",
     "text": [
      "-6.434565790561453\n"
     ]
    }
   ],
   "source": [
    "print(en.intercept_)"
   ]
  },
  {
   "cell_type": "code",
   "execution_count": 55,
   "id": "2bcc90a9",
   "metadata": {},
   "outputs": [
    {
     "name": "stdout",
     "output_type": "stream",
     "text": [
      "-5.48654541826254\n"
     ]
    }
   ],
   "source": [
    "prediction=en.predict(x_test)\n",
    "print(en.score(x_test,y_test))"
   ]
  },
  {
   "cell_type": "markdown",
   "id": "0e23fdea",
   "metadata": {},
   "source": [
    "# Evaluation Metrics"
   ]
  },
  {
   "cell_type": "code",
   "execution_count": 56,
   "id": "2c71a34c",
   "metadata": {},
   "outputs": [
    {
     "name": "stdout",
     "output_type": "stream",
     "text": [
      "Mean Absolute Error: 1.8230175459888072\n"
     ]
    }
   ],
   "source": [
    "print('Mean Absolute Error:',metrics.mean_absolute_error(y_test,prediction))"
   ]
  },
  {
   "cell_type": "code",
   "execution_count": 57,
   "id": "4b770f22",
   "metadata": {},
   "outputs": [
    {
     "name": "stdout",
     "output_type": "stream",
     "text": [
      "mean Squared Error: 4.324363612175026\n"
     ]
    }
   ],
   "source": [
    "print(\"mean Squared Error:\",metrics.mean_squared_error(y_test,prediction))"
   ]
  },
  {
   "cell_type": "code",
   "execution_count": 58,
   "id": "6ff11eab",
   "metadata": {},
   "outputs": [
    {
     "name": "stdout",
     "output_type": "stream",
     "text": [
      "Root mean Squared Error: 2.0795104260799047\n"
     ]
    }
   ],
   "source": [
    "print(\"Root mean Squared Error:\",np.sqrt(metrics.mean_squared_error(y_test,prediction)))"
   ]
  },
  {
   "cell_type": "markdown",
   "id": "7cb8fe8c",
   "metadata": {},
   "source": [
    "# 16. DataSet Sleep_Health"
   ]
  },
  {
   "cell_type": "code",
   "execution_count": 59,
   "id": "d9a49bb7",
   "metadata": {},
   "outputs": [
    {
     "data": {
      "text/html": [
       "<div>\n",
       "<style scoped>\n",
       "    .dataframe tbody tr th:only-of-type {\n",
       "        vertical-align: middle;\n",
       "    }\n",
       "\n",
       "    .dataframe tbody tr th {\n",
       "        vertical-align: top;\n",
       "    }\n",
       "\n",
       "    .dataframe thead th {\n",
       "        text-align: right;\n",
       "    }\n",
       "</style>\n",
       "<table border=\"1\" class=\"dataframe\">\n",
       "  <thead>\n",
       "    <tr style=\"text-align: right;\">\n",
       "      <th></th>\n",
       "      <th>Person ID</th>\n",
       "      <th>Gender</th>\n",
       "      <th>Age</th>\n",
       "      <th>Occupation</th>\n",
       "      <th>Sleep Duration</th>\n",
       "      <th>Quality of Sleep</th>\n",
       "      <th>Physical Activity Level</th>\n",
       "      <th>Stress Level</th>\n",
       "      <th>BMI Category</th>\n",
       "      <th>Blood Pressure</th>\n",
       "      <th>Heart Rate</th>\n",
       "      <th>Daily Steps</th>\n",
       "      <th>Sleep Disorder</th>\n",
       "    </tr>\n",
       "  </thead>\n",
       "  <tbody>\n",
       "    <tr>\n",
       "      <th>0</th>\n",
       "      <td>1</td>\n",
       "      <td>Male</td>\n",
       "      <td>27</td>\n",
       "      <td>Software Engineer</td>\n",
       "      <td>6.1</td>\n",
       "      <td>6</td>\n",
       "      <td>42</td>\n",
       "      <td>6</td>\n",
       "      <td>Overweight</td>\n",
       "      <td>126/83</td>\n",
       "      <td>77</td>\n",
       "      <td>4200</td>\n",
       "      <td>None</td>\n",
       "    </tr>\n",
       "    <tr>\n",
       "      <th>1</th>\n",
       "      <td>2</td>\n",
       "      <td>Male</td>\n",
       "      <td>28</td>\n",
       "      <td>Doctor</td>\n",
       "      <td>6.2</td>\n",
       "      <td>6</td>\n",
       "      <td>60</td>\n",
       "      <td>8</td>\n",
       "      <td>Normal</td>\n",
       "      <td>125/80</td>\n",
       "      <td>75</td>\n",
       "      <td>10000</td>\n",
       "      <td>None</td>\n",
       "    </tr>\n",
       "    <tr>\n",
       "      <th>2</th>\n",
       "      <td>3</td>\n",
       "      <td>Male</td>\n",
       "      <td>28</td>\n",
       "      <td>Doctor</td>\n",
       "      <td>6.2</td>\n",
       "      <td>6</td>\n",
       "      <td>60</td>\n",
       "      <td>8</td>\n",
       "      <td>Normal</td>\n",
       "      <td>125/80</td>\n",
       "      <td>75</td>\n",
       "      <td>10000</td>\n",
       "      <td>None</td>\n",
       "    </tr>\n",
       "    <tr>\n",
       "      <th>3</th>\n",
       "      <td>4</td>\n",
       "      <td>Male</td>\n",
       "      <td>28</td>\n",
       "      <td>Sales Representative</td>\n",
       "      <td>5.9</td>\n",
       "      <td>4</td>\n",
       "      <td>30</td>\n",
       "      <td>8</td>\n",
       "      <td>Obese</td>\n",
       "      <td>140/90</td>\n",
       "      <td>85</td>\n",
       "      <td>3000</td>\n",
       "      <td>Sleep Apnea</td>\n",
       "    </tr>\n",
       "    <tr>\n",
       "      <th>4</th>\n",
       "      <td>5</td>\n",
       "      <td>Male</td>\n",
       "      <td>28</td>\n",
       "      <td>Sales Representative</td>\n",
       "      <td>5.9</td>\n",
       "      <td>4</td>\n",
       "      <td>30</td>\n",
       "      <td>8</td>\n",
       "      <td>Obese</td>\n",
       "      <td>140/90</td>\n",
       "      <td>85</td>\n",
       "      <td>3000</td>\n",
       "      <td>Sleep Apnea</td>\n",
       "    </tr>\n",
       "    <tr>\n",
       "      <th>...</th>\n",
       "      <td>...</td>\n",
       "      <td>...</td>\n",
       "      <td>...</td>\n",
       "      <td>...</td>\n",
       "      <td>...</td>\n",
       "      <td>...</td>\n",
       "      <td>...</td>\n",
       "      <td>...</td>\n",
       "      <td>...</td>\n",
       "      <td>...</td>\n",
       "      <td>...</td>\n",
       "      <td>...</td>\n",
       "      <td>...</td>\n",
       "    </tr>\n",
       "    <tr>\n",
       "      <th>369</th>\n",
       "      <td>370</td>\n",
       "      <td>Female</td>\n",
       "      <td>59</td>\n",
       "      <td>Nurse</td>\n",
       "      <td>8.1</td>\n",
       "      <td>9</td>\n",
       "      <td>75</td>\n",
       "      <td>3</td>\n",
       "      <td>Overweight</td>\n",
       "      <td>140/95</td>\n",
       "      <td>68</td>\n",
       "      <td>7000</td>\n",
       "      <td>Sleep Apnea</td>\n",
       "    </tr>\n",
       "    <tr>\n",
       "      <th>370</th>\n",
       "      <td>371</td>\n",
       "      <td>Female</td>\n",
       "      <td>59</td>\n",
       "      <td>Nurse</td>\n",
       "      <td>8.0</td>\n",
       "      <td>9</td>\n",
       "      <td>75</td>\n",
       "      <td>3</td>\n",
       "      <td>Overweight</td>\n",
       "      <td>140/95</td>\n",
       "      <td>68</td>\n",
       "      <td>7000</td>\n",
       "      <td>Sleep Apnea</td>\n",
       "    </tr>\n",
       "    <tr>\n",
       "      <th>371</th>\n",
       "      <td>372</td>\n",
       "      <td>Female</td>\n",
       "      <td>59</td>\n",
       "      <td>Nurse</td>\n",
       "      <td>8.1</td>\n",
       "      <td>9</td>\n",
       "      <td>75</td>\n",
       "      <td>3</td>\n",
       "      <td>Overweight</td>\n",
       "      <td>140/95</td>\n",
       "      <td>68</td>\n",
       "      <td>7000</td>\n",
       "      <td>Sleep Apnea</td>\n",
       "    </tr>\n",
       "    <tr>\n",
       "      <th>372</th>\n",
       "      <td>373</td>\n",
       "      <td>Female</td>\n",
       "      <td>59</td>\n",
       "      <td>Nurse</td>\n",
       "      <td>8.1</td>\n",
       "      <td>9</td>\n",
       "      <td>75</td>\n",
       "      <td>3</td>\n",
       "      <td>Overweight</td>\n",
       "      <td>140/95</td>\n",
       "      <td>68</td>\n",
       "      <td>7000</td>\n",
       "      <td>Sleep Apnea</td>\n",
       "    </tr>\n",
       "    <tr>\n",
       "      <th>373</th>\n",
       "      <td>374</td>\n",
       "      <td>Female</td>\n",
       "      <td>59</td>\n",
       "      <td>Nurse</td>\n",
       "      <td>8.1</td>\n",
       "      <td>9</td>\n",
       "      <td>75</td>\n",
       "      <td>3</td>\n",
       "      <td>Overweight</td>\n",
       "      <td>140/95</td>\n",
       "      <td>68</td>\n",
       "      <td>7000</td>\n",
       "      <td>Sleep Apnea</td>\n",
       "    </tr>\n",
       "  </tbody>\n",
       "</table>\n",
       "<p>374 rows × 13 columns</p>\n",
       "</div>"
      ],
      "text/plain": [
       "     Person ID  Gender  Age            Occupation  Sleep Duration  \\\n",
       "0            1    Male   27     Software Engineer             6.1   \n",
       "1            2    Male   28                Doctor             6.2   \n",
       "2            3    Male   28                Doctor             6.2   \n",
       "3            4    Male   28  Sales Representative             5.9   \n",
       "4            5    Male   28  Sales Representative             5.9   \n",
       "..         ...     ...  ...                   ...             ...   \n",
       "369        370  Female   59                 Nurse             8.1   \n",
       "370        371  Female   59                 Nurse             8.0   \n",
       "371        372  Female   59                 Nurse             8.1   \n",
       "372        373  Female   59                 Nurse             8.1   \n",
       "373        374  Female   59                 Nurse             8.1   \n",
       "\n",
       "     Quality of Sleep  Physical Activity Level  Stress Level BMI Category  \\\n",
       "0                   6                       42             6   Overweight   \n",
       "1                   6                       60             8       Normal   \n",
       "2                   6                       60             8       Normal   \n",
       "3                   4                       30             8        Obese   \n",
       "4                   4                       30             8        Obese   \n",
       "..                ...                      ...           ...          ...   \n",
       "369                 9                       75             3   Overweight   \n",
       "370                 9                       75             3   Overweight   \n",
       "371                 9                       75             3   Overweight   \n",
       "372                 9                       75             3   Overweight   \n",
       "373                 9                       75             3   Overweight   \n",
       "\n",
       "    Blood Pressure  Heart Rate  Daily Steps Sleep Disorder  \n",
       "0           126/83          77         4200           None  \n",
       "1           125/80          75        10000           None  \n",
       "2           125/80          75        10000           None  \n",
       "3           140/90          85         3000    Sleep Apnea  \n",
       "4           140/90          85         3000    Sleep Apnea  \n",
       "..             ...         ...          ...            ...  \n",
       "369         140/95          68         7000    Sleep Apnea  \n",
       "370         140/95          68         7000    Sleep Apnea  \n",
       "371         140/95          68         7000    Sleep Apnea  \n",
       "372         140/95          68         7000    Sleep Apnea  \n",
       "373         140/95          68         7000    Sleep Apnea  \n",
       "\n",
       "[374 rows x 13 columns]"
      ]
     },
     "execution_count": 59,
     "metadata": {},
     "output_type": "execute_result"
    }
   ],
   "source": [
    "a=pd.read_csv(r\"C:\\Users\\user\\Downloads\\16_Sleep_health_and_lifestyle_dataset.csv\")\n",
    "a"
   ]
  },
  {
   "cell_type": "code",
   "execution_count": 60,
   "id": "aff61d16",
   "metadata": {},
   "outputs": [
    {
     "data": {
      "text/html": [
       "<div>\n",
       "<style scoped>\n",
       "    .dataframe tbody tr th:only-of-type {\n",
       "        vertical-align: middle;\n",
       "    }\n",
       "\n",
       "    .dataframe tbody tr th {\n",
       "        vertical-align: top;\n",
       "    }\n",
       "\n",
       "    .dataframe thead th {\n",
       "        text-align: right;\n",
       "    }\n",
       "</style>\n",
       "<table border=\"1\" class=\"dataframe\">\n",
       "  <thead>\n",
       "    <tr style=\"text-align: right;\">\n",
       "      <th></th>\n",
       "      <th>Person ID</th>\n",
       "      <th>Gender</th>\n",
       "      <th>Age</th>\n",
       "      <th>Occupation</th>\n",
       "      <th>Sleep Duration</th>\n",
       "      <th>Quality of Sleep</th>\n",
       "      <th>Physical Activity Level</th>\n",
       "      <th>Stress Level</th>\n",
       "      <th>BMI Category</th>\n",
       "      <th>Blood Pressure</th>\n",
       "      <th>Heart Rate</th>\n",
       "      <th>Daily Steps</th>\n",
       "      <th>Sleep Disorder</th>\n",
       "    </tr>\n",
       "  </thead>\n",
       "  <tbody>\n",
       "    <tr>\n",
       "      <th>0</th>\n",
       "      <td>1</td>\n",
       "      <td>Male</td>\n",
       "      <td>27</td>\n",
       "      <td>Software Engineer</td>\n",
       "      <td>6.1</td>\n",
       "      <td>6</td>\n",
       "      <td>42</td>\n",
       "      <td>6</td>\n",
       "      <td>Overweight</td>\n",
       "      <td>126/83</td>\n",
       "      <td>77</td>\n",
       "      <td>4200</td>\n",
       "      <td>None</td>\n",
       "    </tr>\n",
       "    <tr>\n",
       "      <th>1</th>\n",
       "      <td>2</td>\n",
       "      <td>Male</td>\n",
       "      <td>28</td>\n",
       "      <td>Doctor</td>\n",
       "      <td>6.2</td>\n",
       "      <td>6</td>\n",
       "      <td>60</td>\n",
       "      <td>8</td>\n",
       "      <td>Normal</td>\n",
       "      <td>125/80</td>\n",
       "      <td>75</td>\n",
       "      <td>10000</td>\n",
       "      <td>None</td>\n",
       "    </tr>\n",
       "    <tr>\n",
       "      <th>2</th>\n",
       "      <td>3</td>\n",
       "      <td>Male</td>\n",
       "      <td>28</td>\n",
       "      <td>Doctor</td>\n",
       "      <td>6.2</td>\n",
       "      <td>6</td>\n",
       "      <td>60</td>\n",
       "      <td>8</td>\n",
       "      <td>Normal</td>\n",
       "      <td>125/80</td>\n",
       "      <td>75</td>\n",
       "      <td>10000</td>\n",
       "      <td>None</td>\n",
       "    </tr>\n",
       "    <tr>\n",
       "      <th>3</th>\n",
       "      <td>4</td>\n",
       "      <td>Male</td>\n",
       "      <td>28</td>\n",
       "      <td>Sales Representative</td>\n",
       "      <td>5.9</td>\n",
       "      <td>4</td>\n",
       "      <td>30</td>\n",
       "      <td>8</td>\n",
       "      <td>Obese</td>\n",
       "      <td>140/90</td>\n",
       "      <td>85</td>\n",
       "      <td>3000</td>\n",
       "      <td>Sleep Apnea</td>\n",
       "    </tr>\n",
       "    <tr>\n",
       "      <th>4</th>\n",
       "      <td>5</td>\n",
       "      <td>Male</td>\n",
       "      <td>28</td>\n",
       "      <td>Sales Representative</td>\n",
       "      <td>5.9</td>\n",
       "      <td>4</td>\n",
       "      <td>30</td>\n",
       "      <td>8</td>\n",
       "      <td>Obese</td>\n",
       "      <td>140/90</td>\n",
       "      <td>85</td>\n",
       "      <td>3000</td>\n",
       "      <td>Sleep Apnea</td>\n",
       "    </tr>\n",
       "    <tr>\n",
       "      <th>5</th>\n",
       "      <td>6</td>\n",
       "      <td>Male</td>\n",
       "      <td>28</td>\n",
       "      <td>Software Engineer</td>\n",
       "      <td>5.9</td>\n",
       "      <td>4</td>\n",
       "      <td>30</td>\n",
       "      <td>8</td>\n",
       "      <td>Obese</td>\n",
       "      <td>140/90</td>\n",
       "      <td>85</td>\n",
       "      <td>3000</td>\n",
       "      <td>Insomnia</td>\n",
       "    </tr>\n",
       "    <tr>\n",
       "      <th>6</th>\n",
       "      <td>7</td>\n",
       "      <td>Male</td>\n",
       "      <td>29</td>\n",
       "      <td>Teacher</td>\n",
       "      <td>6.3</td>\n",
       "      <td>6</td>\n",
       "      <td>40</td>\n",
       "      <td>7</td>\n",
       "      <td>Obese</td>\n",
       "      <td>140/90</td>\n",
       "      <td>82</td>\n",
       "      <td>3500</td>\n",
       "      <td>Insomnia</td>\n",
       "    </tr>\n",
       "    <tr>\n",
       "      <th>7</th>\n",
       "      <td>8</td>\n",
       "      <td>Male</td>\n",
       "      <td>29</td>\n",
       "      <td>Doctor</td>\n",
       "      <td>7.8</td>\n",
       "      <td>7</td>\n",
       "      <td>75</td>\n",
       "      <td>6</td>\n",
       "      <td>Normal</td>\n",
       "      <td>120/80</td>\n",
       "      <td>70</td>\n",
       "      <td>8000</td>\n",
       "      <td>None</td>\n",
       "    </tr>\n",
       "    <tr>\n",
       "      <th>8</th>\n",
       "      <td>9</td>\n",
       "      <td>Male</td>\n",
       "      <td>29</td>\n",
       "      <td>Doctor</td>\n",
       "      <td>7.8</td>\n",
       "      <td>7</td>\n",
       "      <td>75</td>\n",
       "      <td>6</td>\n",
       "      <td>Normal</td>\n",
       "      <td>120/80</td>\n",
       "      <td>70</td>\n",
       "      <td>8000</td>\n",
       "      <td>None</td>\n",
       "    </tr>\n",
       "    <tr>\n",
       "      <th>9</th>\n",
       "      <td>10</td>\n",
       "      <td>Male</td>\n",
       "      <td>29</td>\n",
       "      <td>Doctor</td>\n",
       "      <td>7.8</td>\n",
       "      <td>7</td>\n",
       "      <td>75</td>\n",
       "      <td>6</td>\n",
       "      <td>Normal</td>\n",
       "      <td>120/80</td>\n",
       "      <td>70</td>\n",
       "      <td>8000</td>\n",
       "      <td>None</td>\n",
       "    </tr>\n",
       "  </tbody>\n",
       "</table>\n",
       "</div>"
      ],
      "text/plain": [
       "   Person ID Gender  Age            Occupation  Sleep Duration  \\\n",
       "0          1   Male   27     Software Engineer             6.1   \n",
       "1          2   Male   28                Doctor             6.2   \n",
       "2          3   Male   28                Doctor             6.2   \n",
       "3          4   Male   28  Sales Representative             5.9   \n",
       "4          5   Male   28  Sales Representative             5.9   \n",
       "5          6   Male   28     Software Engineer             5.9   \n",
       "6          7   Male   29               Teacher             6.3   \n",
       "7          8   Male   29                Doctor             7.8   \n",
       "8          9   Male   29                Doctor             7.8   \n",
       "9         10   Male   29                Doctor             7.8   \n",
       "\n",
       "   Quality of Sleep  Physical Activity Level  Stress Level BMI Category  \\\n",
       "0                 6                       42             6   Overweight   \n",
       "1                 6                       60             8       Normal   \n",
       "2                 6                       60             8       Normal   \n",
       "3                 4                       30             8        Obese   \n",
       "4                 4                       30             8        Obese   \n",
       "5                 4                       30             8        Obese   \n",
       "6                 6                       40             7        Obese   \n",
       "7                 7                       75             6       Normal   \n",
       "8                 7                       75             6       Normal   \n",
       "9                 7                       75             6       Normal   \n",
       "\n",
       "  Blood Pressure  Heart Rate  Daily Steps Sleep Disorder  \n",
       "0         126/83          77         4200           None  \n",
       "1         125/80          75        10000           None  \n",
       "2         125/80          75        10000           None  \n",
       "3         140/90          85         3000    Sleep Apnea  \n",
       "4         140/90          85         3000    Sleep Apnea  \n",
       "5         140/90          85         3000       Insomnia  \n",
       "6         140/90          82         3500       Insomnia  \n",
       "7         120/80          70         8000           None  \n",
       "8         120/80          70         8000           None  \n",
       "9         120/80          70         8000           None  "
      ]
     },
     "execution_count": 60,
     "metadata": {},
     "output_type": "execute_result"
    }
   ],
   "source": [
    "b=a.head(10)\n",
    "b"
   ]
  },
  {
   "cell_type": "code",
   "execution_count": 61,
   "id": "a5bbe870",
   "metadata": {},
   "outputs": [
    {
     "name": "stdout",
     "output_type": "stream",
     "text": [
      "<class 'pandas.core.frame.DataFrame'>\n",
      "RangeIndex: 374 entries, 0 to 373\n",
      "Data columns (total 13 columns):\n",
      " #   Column                   Non-Null Count  Dtype  \n",
      "---  ------                   --------------  -----  \n",
      " 0   Person ID                374 non-null    int64  \n",
      " 1   Gender                   374 non-null    object \n",
      " 2   Age                      374 non-null    int64  \n",
      " 3   Occupation               374 non-null    object \n",
      " 4   Sleep Duration           374 non-null    float64\n",
      " 5   Quality of Sleep         374 non-null    int64  \n",
      " 6   Physical Activity Level  374 non-null    int64  \n",
      " 7   Stress Level             374 non-null    int64  \n",
      " 8   BMI Category             374 non-null    object \n",
      " 9   Blood Pressure           374 non-null    object \n",
      " 10  Heart Rate               374 non-null    int64  \n",
      " 11  Daily Steps              374 non-null    int64  \n",
      " 12  Sleep Disorder           374 non-null    object \n",
      "dtypes: float64(1), int64(7), object(5)\n",
      "memory usage: 38.1+ KB\n"
     ]
    }
   ],
   "source": [
    "a.info()"
   ]
  },
  {
   "cell_type": "code",
   "execution_count": 62,
   "id": "e9269b76",
   "metadata": {},
   "outputs": [
    {
     "data": {
      "text/html": [
       "<div>\n",
       "<style scoped>\n",
       "    .dataframe tbody tr th:only-of-type {\n",
       "        vertical-align: middle;\n",
       "    }\n",
       "\n",
       "    .dataframe tbody tr th {\n",
       "        vertical-align: top;\n",
       "    }\n",
       "\n",
       "    .dataframe thead th {\n",
       "        text-align: right;\n",
       "    }\n",
       "</style>\n",
       "<table border=\"1\" class=\"dataframe\">\n",
       "  <thead>\n",
       "    <tr style=\"text-align: right;\">\n",
       "      <th></th>\n",
       "      <th>Person ID</th>\n",
       "      <th>Age</th>\n",
       "      <th>Sleep Duration</th>\n",
       "      <th>Quality of Sleep</th>\n",
       "      <th>Physical Activity Level</th>\n",
       "      <th>Stress Level</th>\n",
       "      <th>Heart Rate</th>\n",
       "      <th>Daily Steps</th>\n",
       "    </tr>\n",
       "  </thead>\n",
       "  <tbody>\n",
       "    <tr>\n",
       "      <th>count</th>\n",
       "      <td>374.000000</td>\n",
       "      <td>374.000000</td>\n",
       "      <td>374.000000</td>\n",
       "      <td>374.000000</td>\n",
       "      <td>374.000000</td>\n",
       "      <td>374.000000</td>\n",
       "      <td>374.000000</td>\n",
       "      <td>374.000000</td>\n",
       "    </tr>\n",
       "    <tr>\n",
       "      <th>mean</th>\n",
       "      <td>187.500000</td>\n",
       "      <td>42.184492</td>\n",
       "      <td>7.132086</td>\n",
       "      <td>7.312834</td>\n",
       "      <td>59.171123</td>\n",
       "      <td>5.385027</td>\n",
       "      <td>70.165775</td>\n",
       "      <td>6816.844920</td>\n",
       "    </tr>\n",
       "    <tr>\n",
       "      <th>std</th>\n",
       "      <td>108.108742</td>\n",
       "      <td>8.673133</td>\n",
       "      <td>0.795657</td>\n",
       "      <td>1.196956</td>\n",
       "      <td>20.830804</td>\n",
       "      <td>1.774526</td>\n",
       "      <td>4.135676</td>\n",
       "      <td>1617.915679</td>\n",
       "    </tr>\n",
       "    <tr>\n",
       "      <th>min</th>\n",
       "      <td>1.000000</td>\n",
       "      <td>27.000000</td>\n",
       "      <td>5.800000</td>\n",
       "      <td>4.000000</td>\n",
       "      <td>30.000000</td>\n",
       "      <td>3.000000</td>\n",
       "      <td>65.000000</td>\n",
       "      <td>3000.000000</td>\n",
       "    </tr>\n",
       "    <tr>\n",
       "      <th>25%</th>\n",
       "      <td>94.250000</td>\n",
       "      <td>35.250000</td>\n",
       "      <td>6.400000</td>\n",
       "      <td>6.000000</td>\n",
       "      <td>45.000000</td>\n",
       "      <td>4.000000</td>\n",
       "      <td>68.000000</td>\n",
       "      <td>5600.000000</td>\n",
       "    </tr>\n",
       "    <tr>\n",
       "      <th>50%</th>\n",
       "      <td>187.500000</td>\n",
       "      <td>43.000000</td>\n",
       "      <td>7.200000</td>\n",
       "      <td>7.000000</td>\n",
       "      <td>60.000000</td>\n",
       "      <td>5.000000</td>\n",
       "      <td>70.000000</td>\n",
       "      <td>7000.000000</td>\n",
       "    </tr>\n",
       "    <tr>\n",
       "      <th>75%</th>\n",
       "      <td>280.750000</td>\n",
       "      <td>50.000000</td>\n",
       "      <td>7.800000</td>\n",
       "      <td>8.000000</td>\n",
       "      <td>75.000000</td>\n",
       "      <td>7.000000</td>\n",
       "      <td>72.000000</td>\n",
       "      <td>8000.000000</td>\n",
       "    </tr>\n",
       "    <tr>\n",
       "      <th>max</th>\n",
       "      <td>374.000000</td>\n",
       "      <td>59.000000</td>\n",
       "      <td>8.500000</td>\n",
       "      <td>9.000000</td>\n",
       "      <td>90.000000</td>\n",
       "      <td>8.000000</td>\n",
       "      <td>86.000000</td>\n",
       "      <td>10000.000000</td>\n",
       "    </tr>\n",
       "  </tbody>\n",
       "</table>\n",
       "</div>"
      ],
      "text/plain": [
       "        Person ID         Age  Sleep Duration  Quality of Sleep  \\\n",
       "count  374.000000  374.000000      374.000000        374.000000   \n",
       "mean   187.500000   42.184492        7.132086          7.312834   \n",
       "std    108.108742    8.673133        0.795657          1.196956   \n",
       "min      1.000000   27.000000        5.800000          4.000000   \n",
       "25%     94.250000   35.250000        6.400000          6.000000   \n",
       "50%    187.500000   43.000000        7.200000          7.000000   \n",
       "75%    280.750000   50.000000        7.800000          8.000000   \n",
       "max    374.000000   59.000000        8.500000          9.000000   \n",
       "\n",
       "       Physical Activity Level  Stress Level  Heart Rate   Daily Steps  \n",
       "count               374.000000    374.000000  374.000000    374.000000  \n",
       "mean                 59.171123      5.385027   70.165775   6816.844920  \n",
       "std                  20.830804      1.774526    4.135676   1617.915679  \n",
       "min                  30.000000      3.000000   65.000000   3000.000000  \n",
       "25%                  45.000000      4.000000   68.000000   5600.000000  \n",
       "50%                  60.000000      5.000000   70.000000   7000.000000  \n",
       "75%                  75.000000      7.000000   72.000000   8000.000000  \n",
       "max                  90.000000      8.000000   86.000000  10000.000000  "
      ]
     },
     "execution_count": 62,
     "metadata": {},
     "output_type": "execute_result"
    }
   ],
   "source": [
    "a.describe()"
   ]
  },
  {
   "cell_type": "code",
   "execution_count": 63,
   "id": "cdf11115",
   "metadata": {},
   "outputs": [
    {
     "data": {
      "text/plain": [
       "Index(['Person ID', 'Gender', 'Age', 'Occupation', 'Sleep Duration',\n",
       "       'Quality of Sleep', 'Physical Activity Level', 'Stress Level',\n",
       "       'BMI Category', 'Blood Pressure', 'Heart Rate', 'Daily Steps',\n",
       "       'Sleep Disorder'],\n",
       "      dtype='object')"
      ]
     },
     "execution_count": 63,
     "metadata": {},
     "output_type": "execute_result"
    }
   ],
   "source": [
    "a.columns"
   ]
  },
  {
   "cell_type": "code",
   "execution_count": 64,
   "id": "d0f3be9e",
   "metadata": {},
   "outputs": [
    {
     "data": {
      "text/html": [
       "<div>\n",
       "<style scoped>\n",
       "    .dataframe tbody tr th:only-of-type {\n",
       "        vertical-align: middle;\n",
       "    }\n",
       "\n",
       "    .dataframe tbody tr th {\n",
       "        vertical-align: top;\n",
       "    }\n",
       "\n",
       "    .dataframe thead th {\n",
       "        text-align: right;\n",
       "    }\n",
       "</style>\n",
       "<table border=\"1\" class=\"dataframe\">\n",
       "  <thead>\n",
       "    <tr style=\"text-align: right;\">\n",
       "      <th></th>\n",
       "      <th>Sleep Duration</th>\n",
       "      <th>Quality of Sleep</th>\n",
       "      <th>Physical Activity Level</th>\n",
       "      <th>Stress Level</th>\n",
       "    </tr>\n",
       "  </thead>\n",
       "  <tbody>\n",
       "    <tr>\n",
       "      <th>0</th>\n",
       "      <td>6.1</td>\n",
       "      <td>6</td>\n",
       "      <td>42</td>\n",
       "      <td>6</td>\n",
       "    </tr>\n",
       "    <tr>\n",
       "      <th>1</th>\n",
       "      <td>6.2</td>\n",
       "      <td>6</td>\n",
       "      <td>60</td>\n",
       "      <td>8</td>\n",
       "    </tr>\n",
       "    <tr>\n",
       "      <th>2</th>\n",
       "      <td>6.2</td>\n",
       "      <td>6</td>\n",
       "      <td>60</td>\n",
       "      <td>8</td>\n",
       "    </tr>\n",
       "    <tr>\n",
       "      <th>3</th>\n",
       "      <td>5.9</td>\n",
       "      <td>4</td>\n",
       "      <td>30</td>\n",
       "      <td>8</td>\n",
       "    </tr>\n",
       "    <tr>\n",
       "      <th>4</th>\n",
       "      <td>5.9</td>\n",
       "      <td>4</td>\n",
       "      <td>30</td>\n",
       "      <td>8</td>\n",
       "    </tr>\n",
       "    <tr>\n",
       "      <th>5</th>\n",
       "      <td>5.9</td>\n",
       "      <td>4</td>\n",
       "      <td>30</td>\n",
       "      <td>8</td>\n",
       "    </tr>\n",
       "    <tr>\n",
       "      <th>6</th>\n",
       "      <td>6.3</td>\n",
       "      <td>6</td>\n",
       "      <td>40</td>\n",
       "      <td>7</td>\n",
       "    </tr>\n",
       "    <tr>\n",
       "      <th>7</th>\n",
       "      <td>7.8</td>\n",
       "      <td>7</td>\n",
       "      <td>75</td>\n",
       "      <td>6</td>\n",
       "    </tr>\n",
       "    <tr>\n",
       "      <th>8</th>\n",
       "      <td>7.8</td>\n",
       "      <td>7</td>\n",
       "      <td>75</td>\n",
       "      <td>6</td>\n",
       "    </tr>\n",
       "    <tr>\n",
       "      <th>9</th>\n",
       "      <td>7.8</td>\n",
       "      <td>7</td>\n",
       "      <td>75</td>\n",
       "      <td>6</td>\n",
       "    </tr>\n",
       "  </tbody>\n",
       "</table>\n",
       "</div>"
      ],
      "text/plain": [
       "   Sleep Duration  Quality of Sleep  Physical Activity Level  Stress Level\n",
       "0             6.1                 6                       42             6\n",
       "1             6.2                 6                       60             8\n",
       "2             6.2                 6                       60             8\n",
       "3             5.9                 4                       30             8\n",
       "4             5.9                 4                       30             8\n",
       "5             5.9                 4                       30             8\n",
       "6             6.3                 6                       40             7\n",
       "7             7.8                 7                       75             6\n",
       "8             7.8                 7                       75             6\n",
       "9             7.8                 7                       75             6"
      ]
     },
     "execution_count": 64,
     "metadata": {},
     "output_type": "execute_result"
    }
   ],
   "source": [
    "c=b[['Sleep Duration',\n",
    "       'Quality of Sleep', 'Physical Activity Level', 'Stress Level']]\n",
    "c"
   ]
  },
  {
   "cell_type": "code",
   "execution_count": 65,
   "id": "def27382",
   "metadata": {},
   "outputs": [
    {
     "data": {
      "text/plain": [
       "<seaborn.axisgrid.PairGrid at 0x217d583d400>"
      ]
     },
     "execution_count": 65,
     "metadata": {},
     "output_type": "execute_result"
    },
    {
     "data": {
      "image/png": "[encoded data removed]",
      "text/plain": [
       "<Figure size 720x720 with 20 Axes>"
      ]
     },
     "metadata": {
      "needs_background": "light"
     },
     "output_type": "display_data"
    }
   ],
   "source": [
    "sns.pairplot(c)"
   ]
  },
  {
   "cell_type": "code",
   "execution_count": 66,
   "id": "11b413e5",
   "metadata": {},
   "outputs": [
    {
     "name": "stderr",
     "output_type": "stream",
     "text": [
      "C:\\ProgramData\\Anaconda3\\lib\\site-packages\\seaborn\\distributions.py:2557: FutureWarning: `distplot` is a deprecated function and will be removed in a future version. Please adapt your code to use either `displot` (a figure-level function with similar flexibility) or `histplot` (an axes-level function for histograms).\n",
      "  warnings.warn(msg, FutureWarning)\n"
     ]
    },
    {
     "data": {
      "text/plain": [
       "<AxesSubplot:xlabel='Daily Steps', ylabel='Density'>"
      ]
     },
     "execution_count": 66,
     "metadata": {},
     "output_type": "execute_result"
    },
    {
     "data": {
      "image/png": "[encoded data removed]",
      "text/plain": [
       "<Figure size 432x288 with 1 Axes>"
      ]
     },
     "metadata": {
      "needs_background": "light"
     },
     "output_type": "display_data"
    }
   ],
   "source": [
    "sns.distplot(b['Daily Steps'])"
   ]
  },
  {
   "cell_type": "code",
   "execution_count": 67,
   "id": "5ef5e0f2",
   "metadata": {},
   "outputs": [
    {
     "data": {
      "text/plain": [
       "<AxesSubplot:>"
      ]
     },
     "execution_count": 67,
     "metadata": {},
     "output_type": "execute_result"
    },
    {
     "data": {
      "image/png": "[encoded data removed]",
      "text/plain": [
       "<Figure size 432x288 with 2 Axes>"
      ]
     },
     "metadata": {
      "needs_background": "light"
     },
     "output_type": "display_data"
    }
   ],
   "source": [
    "sns.heatmap(c.corr())"
   ]
  },
  {
   "cell_type": "code",
   "execution_count": 68,
   "id": "49720c7f",
   "metadata": {},
   "outputs": [],
   "source": [
    "x=b[['Age', 'Sleep Duration',\n",
    "       'Quality of Sleep', 'Physical Activity Level', 'Stress Level']]\n",
    "y=b['Heart Rate']"
   ]
  },
  {
   "cell_type": "code",
   "execution_count": 69,
   "id": "1e427d1a",
   "metadata": {},
   "outputs": [],
   "source": [
    "x_train,x_test,y_train,y_test=train_test_split(x,y,test_size=0.3)"
   ]
  },
  {
   "cell_type": "code",
   "execution_count": 70,
   "id": "252f3dbd",
   "metadata": {},
   "outputs": [
    {
     "data": {
      "text/plain": [
       "LinearRegression()"
      ]
     },
     "execution_count": 70,
     "metadata": {},
     "output_type": "execute_result"
    }
   ],
   "source": [
    "lr=LinearRegression()\n",
    "lr.fit(x_train,y_train)"
   ]
  },
  {
   "cell_type": "code",
   "execution_count": 71,
   "id": "be3600cf",
   "metadata": {},
   "outputs": [
    {
     "name": "stdout",
     "output_type": "stream",
     "text": [
      "92.64886316724176\n"
     ]
    }
   ],
   "source": [
    "print(lr.intercept_)\n"
   ]
  },
  {
   "cell_type": "code",
   "execution_count": 72,
   "id": "5eb58812",
   "metadata": {},
   "outputs": [
    {
     "data": {
      "text/html": [
       "<div>\n",
       "<style scoped>\n",
       "    .dataframe tbody tr th:only-of-type {\n",
       "        vertical-align: middle;\n",
       "    }\n",
       "\n",
       "    .dataframe tbody tr th {\n",
       "        vertical-align: top;\n",
       "    }\n",
       "\n",
       "    .dataframe thead th {\n",
       "        text-align: right;\n",
       "    }\n",
       "</style>\n",
       "<table border=\"1\" class=\"dataframe\">\n",
       "  <thead>\n",
       "    <tr style=\"text-align: right;\">\n",
       "      <th></th>\n",
       "      <th>Co-efficient</th>\n",
       "    </tr>\n",
       "  </thead>\n",
       "  <tbody>\n",
       "    <tr>\n",
       "      <th>Age</th>\n",
       "      <td>0.085580</td>\n",
       "    </tr>\n",
       "    <tr>\n",
       "      <th>Sleep Duration</th>\n",
       "      <td>-0.068389</td>\n",
       "    </tr>\n",
       "    <tr>\n",
       "      <th>Quality of Sleep</th>\n",
       "      <td>0.196109</td>\n",
       "    </tr>\n",
       "    <tr>\n",
       "      <th>Physical Activity Level</th>\n",
       "      <td>-0.345723</td>\n",
       "    </tr>\n",
       "    <tr>\n",
       "      <th>Stress Level</th>\n",
       "      <td>-0.006792</td>\n",
       "    </tr>\n",
       "  </tbody>\n",
       "</table>\n",
       "</div>"
      ],
      "text/plain": [
       "                         Co-efficient\n",
       "Age                          0.085580\n",
       "Sleep Duration              -0.068389\n",
       "Quality of Sleep             0.196109\n",
       "Physical Activity Level     -0.345723\n",
       "Stress Level                -0.006792"
      ]
     },
     "execution_count": 72,
     "metadata": {},
     "output_type": "execute_result"
    }
   ],
   "source": [
    "coeff=pd.DataFrame(lr.coef_,x.columns,columns=['Co-efficient'])\n",
    "coeff"
   ]
  },
  {
   "cell_type": "code",
   "execution_count": 73,
   "id": "e21dc364",
   "metadata": {},
   "outputs": [
    {
     "data": {
      "text/plain": [
       "<matplotlib.collections.PathCollection at 0x217d3cc96d0>"
      ]
     },
     "execution_count": 73,
     "metadata": {},
     "output_type": "execute_result"
    },
    {
     "data": {
      "image/png": "[encoded data removed]",
      "text/plain": [
       "<Figure size 432x288 with 1 Axes>"
      ]
     },
     "metadata": {
      "needs_background": "light"
     },
     "output_type": "display_data"
    }
   ],
   "source": [
    "prediction=lr.predict(x_test)\n",
    "plt.scatter(y_test,prediction)"
   ]
  },
  {
   "cell_type": "code",
   "execution_count": 74,
   "id": "8df4d9de",
   "metadata": {},
   "outputs": [
    {
     "name": "stdout",
     "output_type": "stream",
     "text": [
      "0.5948164949109942\n"
     ]
    }
   ],
   "source": [
    "print(lr.score(x_test,y_test))"
   ]
  },
  {
   "cell_type": "code",
   "execution_count": 75,
   "id": "5c70b726",
   "metadata": {},
   "outputs": [],
   "source": [
    "from sklearn.linear_model import Ridge,Lasso"
   ]
  },
  {
   "cell_type": "code",
   "execution_count": 76,
   "id": "4be3c69b",
   "metadata": {},
   "outputs": [
    {
     "data": {
      "text/plain": [
       "Ridge(alpha=10)"
      ]
     },
     "execution_count": 76,
     "metadata": {},
     "output_type": "execute_result"
    }
   ],
   "source": [
    "rr=Ridge(alpha=10)\n",
    "rr.fit(x_train,y_train)"
   ]
  },
  {
   "cell_type": "code",
   "execution_count": 77,
   "id": "5183a641",
   "metadata": {},
   "outputs": [
    {
     "data": {
      "text/plain": [
       "0.6107776395910929"
      ]
     },
     "execution_count": 77,
     "metadata": {},
     "output_type": "execute_result"
    }
   ],
   "source": [
    "rr.score(x_test,y_test)"
   ]
  },
  {
   "cell_type": "code",
   "execution_count": 78,
   "id": "21d5ac6b",
   "metadata": {},
   "outputs": [
    {
     "data": {
      "text/plain": [
       "Lasso(alpha=10)"
      ]
     },
     "execution_count": 78,
     "metadata": {},
     "output_type": "execute_result"
    }
   ],
   "source": [
    "la=Lasso(alpha=10)\n",
    "la.fit(x_train,y_train)"
   ]
  },
  {
   "cell_type": "code",
   "execution_count": 79,
   "id": "a0b0c103",
   "metadata": {},
   "outputs": [
    {
     "data": {
      "text/plain": [
       "0.676799228718691"
      ]
     },
     "execution_count": 79,
     "metadata": {},
     "output_type": "execute_result"
    }
   ],
   "source": [
    "la.score(x_test,y_test)"
   ]
  },
  {
   "cell_type": "code",
   "execution_count": 80,
   "id": "c3a5b0f1",
   "metadata": {},
   "outputs": [
    {
     "data": {
      "text/plain": [
       "ElasticNet()"
      ]
     },
     "execution_count": 80,
     "metadata": {},
     "output_type": "execute_result"
    }
   ],
   "source": [
    "en=ElasticNet()\n",
    "en.fit(x_train,y_train)"
   ]
  },
  {
   "cell_type": "code",
   "execution_count": 81,
   "id": "adbb6f68",
   "metadata": {},
   "outputs": [
    {
     "name": "stdout",
     "output_type": "stream",
     "text": [
      "[ 0.         -0.          0.         -0.33422547 -0.        ]\n"
     ]
    }
   ],
   "source": [
    "print(en.coef_)"
   ]
  },
  {
   "cell_type": "code",
   "execution_count": 82,
   "id": "5db2339f",
   "metadata": {},
   "outputs": [
    {
     "name": "stdout",
     "output_type": "stream",
     "text": [
      "95.100509964194\n"
     ]
    }
   ],
   "source": [
    "print(en.intercept_)"
   ]
  },
  {
   "cell_type": "code",
   "execution_count": 83,
   "id": "bdc929eb",
   "metadata": {},
   "outputs": [
    {
     "name": "stdout",
     "output_type": "stream",
     "text": [
      "0.6128318822957425\n"
     ]
    }
   ],
   "source": [
    "prediction=en.predict(x_test)\n",
    "print(en.score(x_test,y_test))"
   ]
  },
  {
   "cell_type": "markdown",
   "id": "33cc89a5",
   "metadata": {},
   "source": [
    "# Evaluation Metrics"
   ]
  },
  {
   "cell_type": "code",
   "execution_count": 84,
   "id": "bd5d8fa4",
   "metadata": {},
   "outputs": [
    {
     "name": "stdout",
     "output_type": "stream",
     "text": [
      "Mean Absolute Error: 1.403510675491584\n"
     ]
    }
   ],
   "source": [
    "print('Mean Absolute Error:',metrics.mean_absolute_error(y_test,prediction))"
   ]
  },
  {
   "cell_type": "code",
   "execution_count": 85,
   "id": "ca53d353",
   "metadata": {},
   "outputs": [
    {
     "name": "stdout",
     "output_type": "stream",
     "text": [
      "mean Squared Error: 5.50639100734944\n"
     ]
    }
   ],
   "source": [
    "print(\"mean Squared Error:\",metrics.mean_squared_error(y_test,prediction))"
   ]
  },
  {
   "cell_type": "code",
   "execution_count": 86,
   "id": "68e6dd6f",
   "metadata": {},
   "outputs": [
    {
     "name": "stdout",
     "output_type": "stream",
     "text": [
      "Root mean Squared Error: 2.3465700516603887\n"
     ]
    }
   ],
   "source": [
    "print(\"Root mean Squared Error:\",np.sqrt(metrics.mean_squared_error(y_test,prediction)))"
   ]
  },
  {
   "cell_type": "markdown",
   "id": "68a3e30c",
   "metadata": {},
   "source": [
    "# 17. DataSet Student_Marks"
   ]
  },
  {
   "cell_type": "code",
   "execution_count": 87,
   "id": "c54f204c",
   "metadata": {},
   "outputs": [
    {
     "data": {
      "text/html": [
       "<div>\n",
       "<style scoped>\n",
       "    .dataframe tbody tr th:only-of-type {\n",
       "        vertical-align: middle;\n",
       "    }\n",
       "\n",
       "    .dataframe tbody tr th {\n",
       "        vertical-align: top;\n",
       "    }\n",
       "\n",
       "    .dataframe thead th {\n",
       "        text-align: right;\n",
       "    }\n",
       "</style>\n",
       "<table border=\"1\" class=\"dataframe\">\n",
       "  <thead>\n",
       "    <tr style=\"text-align: right;\">\n",
       "      <th></th>\n",
       "      <th>Student_ID</th>\n",
       "      <th>Test_1</th>\n",
       "      <th>Test_2</th>\n",
       "      <th>Test_3</th>\n",
       "      <th>Test_4</th>\n",
       "      <th>Test_5</th>\n",
       "      <th>Test_6</th>\n",
       "      <th>Test_7</th>\n",
       "      <th>Test_8</th>\n",
       "      <th>Test_9</th>\n",
       "      <th>Test_10</th>\n",
       "      <th>Test_11</th>\n",
       "      <th>Test_12</th>\n",
       "    </tr>\n",
       "  </thead>\n",
       "  <tbody>\n",
       "    <tr>\n",
       "      <th>0</th>\n",
       "      <td>22000</td>\n",
       "      <td>78</td>\n",
       "      <td>87</td>\n",
       "      <td>91</td>\n",
       "      <td>91</td>\n",
       "      <td>88</td>\n",
       "      <td>98</td>\n",
       "      <td>94</td>\n",
       "      <td>100</td>\n",
       "      <td>100</td>\n",
       "      <td>100</td>\n",
       "      <td>100</td>\n",
       "      <td>93</td>\n",
       "    </tr>\n",
       "    <tr>\n",
       "      <th>1</th>\n",
       "      <td>22001</td>\n",
       "      <td>79</td>\n",
       "      <td>71</td>\n",
       "      <td>81</td>\n",
       "      <td>72</td>\n",
       "      <td>73</td>\n",
       "      <td>68</td>\n",
       "      <td>59</td>\n",
       "      <td>69</td>\n",
       "      <td>59</td>\n",
       "      <td>60</td>\n",
       "      <td>61</td>\n",
       "      <td>67</td>\n",
       "    </tr>\n",
       "    <tr>\n",
       "      <th>2</th>\n",
       "      <td>22002</td>\n",
       "      <td>66</td>\n",
       "      <td>65</td>\n",
       "      <td>70</td>\n",
       "      <td>74</td>\n",
       "      <td>78</td>\n",
       "      <td>86</td>\n",
       "      <td>87</td>\n",
       "      <td>96</td>\n",
       "      <td>88</td>\n",
       "      <td>82</td>\n",
       "      <td>90</td>\n",
       "      <td>86</td>\n",
       "    </tr>\n",
       "    <tr>\n",
       "      <th>3</th>\n",
       "      <td>22003</td>\n",
       "      <td>60</td>\n",
       "      <td>58</td>\n",
       "      <td>54</td>\n",
       "      <td>61</td>\n",
       "      <td>54</td>\n",
       "      <td>57</td>\n",
       "      <td>64</td>\n",
       "      <td>62</td>\n",
       "      <td>72</td>\n",
       "      <td>63</td>\n",
       "      <td>72</td>\n",
       "      <td>76</td>\n",
       "    </tr>\n",
       "    <tr>\n",
       "      <th>4</th>\n",
       "      <td>22004</td>\n",
       "      <td>99</td>\n",
       "      <td>95</td>\n",
       "      <td>96</td>\n",
       "      <td>93</td>\n",
       "      <td>97</td>\n",
       "      <td>89</td>\n",
       "      <td>92</td>\n",
       "      <td>98</td>\n",
       "      <td>91</td>\n",
       "      <td>98</td>\n",
       "      <td>95</td>\n",
       "      <td>88</td>\n",
       "    </tr>\n",
       "    <tr>\n",
       "      <th>5</th>\n",
       "      <td>22005</td>\n",
       "      <td>41</td>\n",
       "      <td>36</td>\n",
       "      <td>35</td>\n",
       "      <td>28</td>\n",
       "      <td>35</td>\n",
       "      <td>36</td>\n",
       "      <td>27</td>\n",
       "      <td>26</td>\n",
       "      <td>19</td>\n",
       "      <td>22</td>\n",
       "      <td>27</td>\n",
       "      <td>31</td>\n",
       "    </tr>\n",
       "    <tr>\n",
       "      <th>6</th>\n",
       "      <td>22006</td>\n",
       "      <td>47</td>\n",
       "      <td>50</td>\n",
       "      <td>47</td>\n",
       "      <td>57</td>\n",
       "      <td>62</td>\n",
       "      <td>64</td>\n",
       "      <td>71</td>\n",
       "      <td>75</td>\n",
       "      <td>85</td>\n",
       "      <td>87</td>\n",
       "      <td>85</td>\n",
       "      <td>89</td>\n",
       "    </tr>\n",
       "    <tr>\n",
       "      <th>7</th>\n",
       "      <td>22007</td>\n",
       "      <td>84</td>\n",
       "      <td>74</td>\n",
       "      <td>70</td>\n",
       "      <td>68</td>\n",
       "      <td>58</td>\n",
       "      <td>59</td>\n",
       "      <td>56</td>\n",
       "      <td>56</td>\n",
       "      <td>64</td>\n",
       "      <td>70</td>\n",
       "      <td>67</td>\n",
       "      <td>59</td>\n",
       "    </tr>\n",
       "    <tr>\n",
       "      <th>8</th>\n",
       "      <td>22008</td>\n",
       "      <td>74</td>\n",
       "      <td>64</td>\n",
       "      <td>58</td>\n",
       "      <td>57</td>\n",
       "      <td>53</td>\n",
       "      <td>51</td>\n",
       "      <td>47</td>\n",
       "      <td>45</td>\n",
       "      <td>42</td>\n",
       "      <td>43</td>\n",
       "      <td>34</td>\n",
       "      <td>24</td>\n",
       "    </tr>\n",
       "    <tr>\n",
       "      <th>9</th>\n",
       "      <td>22009</td>\n",
       "      <td>87</td>\n",
       "      <td>81</td>\n",
       "      <td>73</td>\n",
       "      <td>74</td>\n",
       "      <td>71</td>\n",
       "      <td>63</td>\n",
       "      <td>53</td>\n",
       "      <td>45</td>\n",
       "      <td>39</td>\n",
       "      <td>43</td>\n",
       "      <td>46</td>\n",
       "      <td>38</td>\n",
       "    </tr>\n",
       "    <tr>\n",
       "      <th>10</th>\n",
       "      <td>22010</td>\n",
       "      <td>40</td>\n",
       "      <td>34</td>\n",
       "      <td>37</td>\n",
       "      <td>33</td>\n",
       "      <td>31</td>\n",
       "      <td>35</td>\n",
       "      <td>39</td>\n",
       "      <td>38</td>\n",
       "      <td>40</td>\n",
       "      <td>48</td>\n",
       "      <td>44</td>\n",
       "      <td>50</td>\n",
       "    </tr>\n",
       "    <tr>\n",
       "      <th>11</th>\n",
       "      <td>22011</td>\n",
       "      <td>91</td>\n",
       "      <td>84</td>\n",
       "      <td>78</td>\n",
       "      <td>74</td>\n",
       "      <td>76</td>\n",
       "      <td>80</td>\n",
       "      <td>80</td>\n",
       "      <td>73</td>\n",
       "      <td>75</td>\n",
       "      <td>71</td>\n",
       "      <td>79</td>\n",
       "      <td>70</td>\n",
       "    </tr>\n",
       "    <tr>\n",
       "      <th>12</th>\n",
       "      <td>22012</td>\n",
       "      <td>81</td>\n",
       "      <td>83</td>\n",
       "      <td>93</td>\n",
       "      <td>88</td>\n",
       "      <td>89</td>\n",
       "      <td>90</td>\n",
       "      <td>99</td>\n",
       "      <td>99</td>\n",
       "      <td>95</td>\n",
       "      <td>85</td>\n",
       "      <td>75</td>\n",
       "      <td>84</td>\n",
       "    </tr>\n",
       "    <tr>\n",
       "      <th>13</th>\n",
       "      <td>22013</td>\n",
       "      <td>52</td>\n",
       "      <td>50</td>\n",
       "      <td>42</td>\n",
       "      <td>38</td>\n",
       "      <td>33</td>\n",
       "      <td>30</td>\n",
       "      <td>28</td>\n",
       "      <td>22</td>\n",
       "      <td>12</td>\n",
       "      <td>20</td>\n",
       "      <td>19</td>\n",
       "      <td>20</td>\n",
       "    </tr>\n",
       "    <tr>\n",
       "      <th>14</th>\n",
       "      <td>22014</td>\n",
       "      <td>63</td>\n",
       "      <td>67</td>\n",
       "      <td>65</td>\n",
       "      <td>74</td>\n",
       "      <td>80</td>\n",
       "      <td>86</td>\n",
       "      <td>95</td>\n",
       "      <td>96</td>\n",
       "      <td>92</td>\n",
       "      <td>83</td>\n",
       "      <td>75</td>\n",
       "      <td>81</td>\n",
       "    </tr>\n",
       "    <tr>\n",
       "      <th>15</th>\n",
       "      <td>22015</td>\n",
       "      <td>76</td>\n",
       "      <td>82</td>\n",
       "      <td>88</td>\n",
       "      <td>94</td>\n",
       "      <td>85</td>\n",
       "      <td>76</td>\n",
       "      <td>70</td>\n",
       "      <td>60</td>\n",
       "      <td>50</td>\n",
       "      <td>58</td>\n",
       "      <td>49</td>\n",
       "      <td>59</td>\n",
       "    </tr>\n",
       "    <tr>\n",
       "      <th>16</th>\n",
       "      <td>22016</td>\n",
       "      <td>83</td>\n",
       "      <td>78</td>\n",
       "      <td>71</td>\n",
       "      <td>71</td>\n",
       "      <td>77</td>\n",
       "      <td>72</td>\n",
       "      <td>66</td>\n",
       "      <td>75</td>\n",
       "      <td>66</td>\n",
       "      <td>61</td>\n",
       "      <td>61</td>\n",
       "      <td>66</td>\n",
       "    </tr>\n",
       "    <tr>\n",
       "      <th>17</th>\n",
       "      <td>22017</td>\n",
       "      <td>55</td>\n",
       "      <td>45</td>\n",
       "      <td>43</td>\n",
       "      <td>38</td>\n",
       "      <td>43</td>\n",
       "      <td>35</td>\n",
       "      <td>44</td>\n",
       "      <td>37</td>\n",
       "      <td>45</td>\n",
       "      <td>37</td>\n",
       "      <td>45</td>\n",
       "      <td>54</td>\n",
       "    </tr>\n",
       "    <tr>\n",
       "      <th>18</th>\n",
       "      <td>22018</td>\n",
       "      <td>71</td>\n",
       "      <td>67</td>\n",
       "      <td>76</td>\n",
       "      <td>74</td>\n",
       "      <td>64</td>\n",
       "      <td>61</td>\n",
       "      <td>57</td>\n",
       "      <td>64</td>\n",
       "      <td>61</td>\n",
       "      <td>51</td>\n",
       "      <td>51</td>\n",
       "      <td>58</td>\n",
       "    </tr>\n",
       "    <tr>\n",
       "      <th>19</th>\n",
       "      <td>22019</td>\n",
       "      <td>62</td>\n",
       "      <td>61</td>\n",
       "      <td>53</td>\n",
       "      <td>49</td>\n",
       "      <td>54</td>\n",
       "      <td>59</td>\n",
       "      <td>68</td>\n",
       "      <td>74</td>\n",
       "      <td>65</td>\n",
       "      <td>55</td>\n",
       "      <td>60</td>\n",
       "      <td>61</td>\n",
       "    </tr>\n",
       "    <tr>\n",
       "      <th>20</th>\n",
       "      <td>22020</td>\n",
       "      <td>44</td>\n",
       "      <td>38</td>\n",
       "      <td>36</td>\n",
       "      <td>34</td>\n",
       "      <td>26</td>\n",
       "      <td>34</td>\n",
       "      <td>39</td>\n",
       "      <td>44</td>\n",
       "      <td>36</td>\n",
       "      <td>45</td>\n",
       "      <td>35</td>\n",
       "      <td>44</td>\n",
       "    </tr>\n",
       "    <tr>\n",
       "      <th>21</th>\n",
       "      <td>22021</td>\n",
       "      <td>50</td>\n",
       "      <td>56</td>\n",
       "      <td>53</td>\n",
       "      <td>46</td>\n",
       "      <td>41</td>\n",
       "      <td>38</td>\n",
       "      <td>47</td>\n",
       "      <td>39</td>\n",
       "      <td>44</td>\n",
       "      <td>36</td>\n",
       "      <td>43</td>\n",
       "      <td>46</td>\n",
       "    </tr>\n",
       "    <tr>\n",
       "      <th>22</th>\n",
       "      <td>22022</td>\n",
       "      <td>57</td>\n",
       "      <td>48</td>\n",
       "      <td>40</td>\n",
       "      <td>45</td>\n",
       "      <td>43</td>\n",
       "      <td>36</td>\n",
       "      <td>26</td>\n",
       "      <td>19</td>\n",
       "      <td>9</td>\n",
       "      <td>12</td>\n",
       "      <td>22</td>\n",
       "      <td>27</td>\n",
       "    </tr>\n",
       "    <tr>\n",
       "      <th>23</th>\n",
       "      <td>22023</td>\n",
       "      <td>59</td>\n",
       "      <td>56</td>\n",
       "      <td>52</td>\n",
       "      <td>44</td>\n",
       "      <td>50</td>\n",
       "      <td>40</td>\n",
       "      <td>45</td>\n",
       "      <td>46</td>\n",
       "      <td>54</td>\n",
       "      <td>57</td>\n",
       "      <td>52</td>\n",
       "      <td>47</td>\n",
       "    </tr>\n",
       "    <tr>\n",
       "      <th>24</th>\n",
       "      <td>22024</td>\n",
       "      <td>84</td>\n",
       "      <td>92</td>\n",
       "      <td>89</td>\n",
       "      <td>80</td>\n",
       "      <td>90</td>\n",
       "      <td>80</td>\n",
       "      <td>84</td>\n",
       "      <td>74</td>\n",
       "      <td>68</td>\n",
       "      <td>73</td>\n",
       "      <td>81</td>\n",
       "      <td>74</td>\n",
       "    </tr>\n",
       "    <tr>\n",
       "      <th>25</th>\n",
       "      <td>22025</td>\n",
       "      <td>74</td>\n",
       "      <td>80</td>\n",
       "      <td>86</td>\n",
       "      <td>87</td>\n",
       "      <td>90</td>\n",
       "      <td>100</td>\n",
       "      <td>95</td>\n",
       "      <td>87</td>\n",
       "      <td>85</td>\n",
       "      <td>79</td>\n",
       "      <td>85</td>\n",
       "      <td>88</td>\n",
       "    </tr>\n",
       "    <tr>\n",
       "      <th>26</th>\n",
       "      <td>22026</td>\n",
       "      <td>92</td>\n",
       "      <td>84</td>\n",
       "      <td>74</td>\n",
       "      <td>83</td>\n",
       "      <td>93</td>\n",
       "      <td>83</td>\n",
       "      <td>75</td>\n",
       "      <td>82</td>\n",
       "      <td>81</td>\n",
       "      <td>73</td>\n",
       "      <td>70</td>\n",
       "      <td>73</td>\n",
       "    </tr>\n",
       "    <tr>\n",
       "      <th>27</th>\n",
       "      <td>22027</td>\n",
       "      <td>63</td>\n",
       "      <td>70</td>\n",
       "      <td>74</td>\n",
       "      <td>65</td>\n",
       "      <td>64</td>\n",
       "      <td>55</td>\n",
       "      <td>61</td>\n",
       "      <td>58</td>\n",
       "      <td>48</td>\n",
       "      <td>46</td>\n",
       "      <td>46</td>\n",
       "      <td>51</td>\n",
       "    </tr>\n",
       "    <tr>\n",
       "      <th>28</th>\n",
       "      <td>22028</td>\n",
       "      <td>78</td>\n",
       "      <td>77</td>\n",
       "      <td>69</td>\n",
       "      <td>76</td>\n",
       "      <td>78</td>\n",
       "      <td>74</td>\n",
       "      <td>67</td>\n",
       "      <td>69</td>\n",
       "      <td>78</td>\n",
       "      <td>68</td>\n",
       "      <td>65</td>\n",
       "      <td>68</td>\n",
       "    </tr>\n",
       "    <tr>\n",
       "      <th>29</th>\n",
       "      <td>22029</td>\n",
       "      <td>55</td>\n",
       "      <td>58</td>\n",
       "      <td>59</td>\n",
       "      <td>67</td>\n",
       "      <td>71</td>\n",
       "      <td>62</td>\n",
       "      <td>53</td>\n",
       "      <td>61</td>\n",
       "      <td>67</td>\n",
       "      <td>76</td>\n",
       "      <td>75</td>\n",
       "      <td>70</td>\n",
       "    </tr>\n",
       "    <tr>\n",
       "      <th>30</th>\n",
       "      <td>22030</td>\n",
       "      <td>54</td>\n",
       "      <td>54</td>\n",
       "      <td>48</td>\n",
       "      <td>38</td>\n",
       "      <td>35</td>\n",
       "      <td>45</td>\n",
       "      <td>46</td>\n",
       "      <td>47</td>\n",
       "      <td>41</td>\n",
       "      <td>37</td>\n",
       "      <td>30</td>\n",
       "      <td>25</td>\n",
       "    </tr>\n",
       "    <tr>\n",
       "      <th>31</th>\n",
       "      <td>22031</td>\n",
       "      <td>84</td>\n",
       "      <td>93</td>\n",
       "      <td>97</td>\n",
       "      <td>89</td>\n",
       "      <td>86</td>\n",
       "      <td>95</td>\n",
       "      <td>100</td>\n",
       "      <td>100</td>\n",
       "      <td>100</td>\n",
       "      <td>99</td>\n",
       "      <td>100</td>\n",
       "      <td>100</td>\n",
       "    </tr>\n",
       "    <tr>\n",
       "      <th>32</th>\n",
       "      <td>22032</td>\n",
       "      <td>95</td>\n",
       "      <td>100</td>\n",
       "      <td>94</td>\n",
       "      <td>100</td>\n",
       "      <td>98</td>\n",
       "      <td>99</td>\n",
       "      <td>100</td>\n",
       "      <td>90</td>\n",
       "      <td>80</td>\n",
       "      <td>84</td>\n",
       "      <td>75</td>\n",
       "      <td>80</td>\n",
       "    </tr>\n",
       "    <tr>\n",
       "      <th>33</th>\n",
       "      <td>22033</td>\n",
       "      <td>64</td>\n",
       "      <td>61</td>\n",
       "      <td>63</td>\n",
       "      <td>73</td>\n",
       "      <td>63</td>\n",
       "      <td>68</td>\n",
       "      <td>64</td>\n",
       "      <td>58</td>\n",
       "      <td>50</td>\n",
       "      <td>51</td>\n",
       "      <td>56</td>\n",
       "      <td>64</td>\n",
       "    </tr>\n",
       "    <tr>\n",
       "      <th>34</th>\n",
       "      <td>22034</td>\n",
       "      <td>76</td>\n",
       "      <td>79</td>\n",
       "      <td>73</td>\n",
       "      <td>77</td>\n",
       "      <td>83</td>\n",
       "      <td>86</td>\n",
       "      <td>95</td>\n",
       "      <td>89</td>\n",
       "      <td>90</td>\n",
       "      <td>95</td>\n",
       "      <td>100</td>\n",
       "      <td>100</td>\n",
       "    </tr>\n",
       "    <tr>\n",
       "      <th>35</th>\n",
       "      <td>22035</td>\n",
       "      <td>78</td>\n",
       "      <td>71</td>\n",
       "      <td>61</td>\n",
       "      <td>55</td>\n",
       "      <td>54</td>\n",
       "      <td>48</td>\n",
       "      <td>41</td>\n",
       "      <td>32</td>\n",
       "      <td>41</td>\n",
       "      <td>40</td>\n",
       "      <td>48</td>\n",
       "      <td>38</td>\n",
       "    </tr>\n",
       "    <tr>\n",
       "      <th>36</th>\n",
       "      <td>22036</td>\n",
       "      <td>95</td>\n",
       "      <td>89</td>\n",
       "      <td>91</td>\n",
       "      <td>84</td>\n",
       "      <td>89</td>\n",
       "      <td>94</td>\n",
       "      <td>85</td>\n",
       "      <td>91</td>\n",
       "      <td>100</td>\n",
       "      <td>100</td>\n",
       "      <td>100</td>\n",
       "      <td>92</td>\n",
       "    </tr>\n",
       "    <tr>\n",
       "      <th>37</th>\n",
       "      <td>22037</td>\n",
       "      <td>99</td>\n",
       "      <td>89</td>\n",
       "      <td>79</td>\n",
       "      <td>87</td>\n",
       "      <td>87</td>\n",
       "      <td>81</td>\n",
       "      <td>82</td>\n",
       "      <td>74</td>\n",
       "      <td>64</td>\n",
       "      <td>54</td>\n",
       "      <td>51</td>\n",
       "      <td>50</td>\n",
       "    </tr>\n",
       "    <tr>\n",
       "      <th>38</th>\n",
       "      <td>22038</td>\n",
       "      <td>82</td>\n",
       "      <td>83</td>\n",
       "      <td>85</td>\n",
       "      <td>86</td>\n",
       "      <td>89</td>\n",
       "      <td>80</td>\n",
       "      <td>88</td>\n",
       "      <td>95</td>\n",
       "      <td>87</td>\n",
       "      <td>93</td>\n",
       "      <td>90</td>\n",
       "      <td>89</td>\n",
       "    </tr>\n",
       "    <tr>\n",
       "      <th>39</th>\n",
       "      <td>22039</td>\n",
       "      <td>65</td>\n",
       "      <td>56</td>\n",
       "      <td>64</td>\n",
       "      <td>62</td>\n",
       "      <td>58</td>\n",
       "      <td>51</td>\n",
       "      <td>61</td>\n",
       "      <td>68</td>\n",
       "      <td>70</td>\n",
       "      <td>70</td>\n",
       "      <td>63</td>\n",
       "      <td>73</td>\n",
       "    </tr>\n",
       "    <tr>\n",
       "      <th>40</th>\n",
       "      <td>22040</td>\n",
       "      <td>100</td>\n",
       "      <td>93</td>\n",
       "      <td>92</td>\n",
       "      <td>86</td>\n",
       "      <td>84</td>\n",
       "      <td>76</td>\n",
       "      <td>82</td>\n",
       "      <td>74</td>\n",
       "      <td>79</td>\n",
       "      <td>72</td>\n",
       "      <td>79</td>\n",
       "      <td>85</td>\n",
       "    </tr>\n",
       "    <tr>\n",
       "      <th>41</th>\n",
       "      <td>22041</td>\n",
       "      <td>78</td>\n",
       "      <td>72</td>\n",
       "      <td>73</td>\n",
       "      <td>79</td>\n",
       "      <td>81</td>\n",
       "      <td>73</td>\n",
       "      <td>71</td>\n",
       "      <td>77</td>\n",
       "      <td>83</td>\n",
       "      <td>92</td>\n",
       "      <td>97</td>\n",
       "      <td>99</td>\n",
       "    </tr>\n",
       "    <tr>\n",
       "      <th>42</th>\n",
       "      <td>22042</td>\n",
       "      <td>98</td>\n",
       "      <td>100</td>\n",
       "      <td>100</td>\n",
       "      <td>93</td>\n",
       "      <td>94</td>\n",
       "      <td>92</td>\n",
       "      <td>100</td>\n",
       "      <td>100</td>\n",
       "      <td>98</td>\n",
       "      <td>94</td>\n",
       "      <td>97</td>\n",
       "      <td>100</td>\n",
       "    </tr>\n",
       "    <tr>\n",
       "      <th>43</th>\n",
       "      <td>22043</td>\n",
       "      <td>58</td>\n",
       "      <td>62</td>\n",
       "      <td>67</td>\n",
       "      <td>77</td>\n",
       "      <td>71</td>\n",
       "      <td>63</td>\n",
       "      <td>64</td>\n",
       "      <td>73</td>\n",
       "      <td>83</td>\n",
       "      <td>76</td>\n",
       "      <td>86</td>\n",
       "      <td>91</td>\n",
       "    </tr>\n",
       "    <tr>\n",
       "      <th>44</th>\n",
       "      <td>22044</td>\n",
       "      <td>96</td>\n",
       "      <td>92</td>\n",
       "      <td>94</td>\n",
       "      <td>100</td>\n",
       "      <td>99</td>\n",
       "      <td>95</td>\n",
       "      <td>98</td>\n",
       "      <td>92</td>\n",
       "      <td>84</td>\n",
       "      <td>84</td>\n",
       "      <td>84</td>\n",
       "      <td>91</td>\n",
       "    </tr>\n",
       "    <tr>\n",
       "      <th>45</th>\n",
       "      <td>22045</td>\n",
       "      <td>86</td>\n",
       "      <td>87</td>\n",
       "      <td>85</td>\n",
       "      <td>84</td>\n",
       "      <td>85</td>\n",
       "      <td>91</td>\n",
       "      <td>86</td>\n",
       "      <td>82</td>\n",
       "      <td>85</td>\n",
       "      <td>87</td>\n",
       "      <td>84</td>\n",
       "      <td>83</td>\n",
       "    </tr>\n",
       "    <tr>\n",
       "      <th>46</th>\n",
       "      <td>22046</td>\n",
       "      <td>48</td>\n",
       "      <td>55</td>\n",
       "      <td>46</td>\n",
       "      <td>40</td>\n",
       "      <td>34</td>\n",
       "      <td>29</td>\n",
       "      <td>37</td>\n",
       "      <td>34</td>\n",
       "      <td>39</td>\n",
       "      <td>41</td>\n",
       "      <td>31</td>\n",
       "      <td>40</td>\n",
       "    </tr>\n",
       "    <tr>\n",
       "      <th>47</th>\n",
       "      <td>22047</td>\n",
       "      <td>56</td>\n",
       "      <td>52</td>\n",
       "      <td>54</td>\n",
       "      <td>47</td>\n",
       "      <td>40</td>\n",
       "      <td>35</td>\n",
       "      <td>43</td>\n",
       "      <td>44</td>\n",
       "      <td>40</td>\n",
       "      <td>39</td>\n",
       "      <td>47</td>\n",
       "      <td>43</td>\n",
       "    </tr>\n",
       "    <tr>\n",
       "      <th>48</th>\n",
       "      <td>22048</td>\n",
       "      <td>42</td>\n",
       "      <td>44</td>\n",
       "      <td>46</td>\n",
       "      <td>53</td>\n",
       "      <td>62</td>\n",
       "      <td>59</td>\n",
       "      <td>57</td>\n",
       "      <td>53</td>\n",
       "      <td>43</td>\n",
       "      <td>35</td>\n",
       "      <td>37</td>\n",
       "      <td>43</td>\n",
       "    </tr>\n",
       "    <tr>\n",
       "      <th>49</th>\n",
       "      <td>22049</td>\n",
       "      <td>64</td>\n",
       "      <td>54</td>\n",
       "      <td>49</td>\n",
       "      <td>59</td>\n",
       "      <td>54</td>\n",
       "      <td>55</td>\n",
       "      <td>57</td>\n",
       "      <td>59</td>\n",
       "      <td>63</td>\n",
       "      <td>73</td>\n",
       "      <td>78</td>\n",
       "      <td>88</td>\n",
       "    </tr>\n",
       "    <tr>\n",
       "      <th>50</th>\n",
       "      <td>22050</td>\n",
       "      <td>50</td>\n",
       "      <td>44</td>\n",
       "      <td>37</td>\n",
       "      <td>29</td>\n",
       "      <td>37</td>\n",
       "      <td>46</td>\n",
       "      <td>53</td>\n",
       "      <td>57</td>\n",
       "      <td>55</td>\n",
       "      <td>61</td>\n",
       "      <td>64</td>\n",
       "      <td>68</td>\n",
       "    </tr>\n",
       "    <tr>\n",
       "      <th>51</th>\n",
       "      <td>22051</td>\n",
       "      <td>70</td>\n",
       "      <td>60</td>\n",
       "      <td>70</td>\n",
       "      <td>62</td>\n",
       "      <td>67</td>\n",
       "      <td>67</td>\n",
       "      <td>68</td>\n",
       "      <td>67</td>\n",
       "      <td>72</td>\n",
       "      <td>69</td>\n",
       "      <td>64</td>\n",
       "      <td>65</td>\n",
       "    </tr>\n",
       "    <tr>\n",
       "      <th>52</th>\n",
       "      <td>22052</td>\n",
       "      <td>63</td>\n",
       "      <td>73</td>\n",
       "      <td>70</td>\n",
       "      <td>63</td>\n",
       "      <td>60</td>\n",
       "      <td>67</td>\n",
       "      <td>61</td>\n",
       "      <td>59</td>\n",
       "      <td>52</td>\n",
       "      <td>58</td>\n",
       "      <td>56</td>\n",
       "      <td>46</td>\n",
       "    </tr>\n",
       "    <tr>\n",
       "      <th>53</th>\n",
       "      <td>22053</td>\n",
       "      <td>92</td>\n",
       "      <td>100</td>\n",
       "      <td>100</td>\n",
       "      <td>100</td>\n",
       "      <td>100</td>\n",
       "      <td>100</td>\n",
       "      <td>92</td>\n",
       "      <td>87</td>\n",
       "      <td>94</td>\n",
       "      <td>100</td>\n",
       "      <td>94</td>\n",
       "      <td>98</td>\n",
       "    </tr>\n",
       "    <tr>\n",
       "      <th>54</th>\n",
       "      <td>22054</td>\n",
       "      <td>64</td>\n",
       "      <td>55</td>\n",
       "      <td>54</td>\n",
       "      <td>61</td>\n",
       "      <td>63</td>\n",
       "      <td>57</td>\n",
       "      <td>47</td>\n",
       "      <td>37</td>\n",
       "      <td>44</td>\n",
       "      <td>48</td>\n",
       "      <td>54</td>\n",
       "      <td>54</td>\n",
       "    </tr>\n",
       "    <tr>\n",
       "      <th>55</th>\n",
       "      <td>22055</td>\n",
       "      <td>60</td>\n",
       "      <td>66</td>\n",
       "      <td>68</td>\n",
       "      <td>58</td>\n",
       "      <td>49</td>\n",
       "      <td>47</td>\n",
       "      <td>39</td>\n",
       "      <td>29</td>\n",
       "      <td>39</td>\n",
       "      <td>44</td>\n",
       "      <td>39</td>\n",
       "      <td>45</td>\n",
       "    </tr>\n",
       "  </tbody>\n",
       "</table>\n",
       "</div>"
      ],
      "text/plain": [
       "    Student_ID  Test_1  Test_2  Test_3  Test_4  Test_5  Test_6  Test_7  \\\n",
       "0        22000      78      87      91      91      88      98      94   \n",
       "1        22001      79      71      81      72      73      68      59   \n",
       "2        22002      66      65      70      74      78      86      87   \n",
       "3        22003      60      58      54      61      54      57      64   \n",
       "4        22004      99      95      96      93      97      89      92   \n",
       "5        22005      41      36      35      28      35      36      27   \n",
       "6        22006      47      50      47      57      62      64      71   \n",
       "7        22007      84      74      70      68      58      59      56   \n",
       "8        22008      74      64      58      57      53      51      47   \n",
       "9        22009      87      81      73      74      71      63      53   \n",
       "10       22010      40      34      37      33      31      35      39   \n",
       "11       22011      91      84      78      74      76      80      80   \n",
       "12       22012      81      83      93      88      89      90      99   \n",
       "13       22013      52      50      42      38      33      30      28   \n",
       "14       22014      63      67      65      74      80      86      95   \n",
       "15       22015      76      82      88      94      85      76      70   \n",
       "16       22016      83      78      71      71      77      72      66   \n",
       "17       22017      55      45      43      38      43      35      44   \n",
       "18       22018      71      67      76      74      64      61      57   \n",
       "19       22019      62      61      53      49      54      59      68   \n",
       "20       22020      44      38      36      34      26      34      39   \n",
       "21       22021      50      56      53      46      41      38      47   \n",
       "22       22022      57      48      40      45      43      36      26   \n",
       "23       22023      59      56      52      44      50      40      45   \n",
       "24       22024      84      92      89      80      90      80      84   \n",
       "25       22025      74      80      86      87      90     100      95   \n",
       "26       22026      92      84      74      83      93      83      75   \n",
       "27       22027      63      70      74      65      64      55      61   \n",
       "28       22028      78      77      69      76      78      74      67   \n",
       "29       22029      55      58      59      67      71      62      53   \n",
       "30       22030      54      54      48      38      35      45      46   \n",
       "31       22031      84      93      97      89      86      95     100   \n",
       "32       22032      95     100      94     100      98      99     100   \n",
       "33       22033      64      61      63      73      63      68      64   \n",
       "34       22034      76      79      73      77      83      86      95   \n",
       "35       22035      78      71      61      55      54      48      41   \n",
       "36       22036      95      89      91      84      89      94      85   \n",
       "37       22037      99      89      79      87      87      81      82   \n",
       "38       22038      82      83      85      86      89      80      88   \n",
       "39       22039      65      56      64      62      58      51      61   \n",
       "40       22040     100      93      92      86      84      76      82   \n",
       "41       22041      78      72      73      79      81      73      71   \n",
       "42       22042      98     100     100      93      94      92     100   \n",
       "43       22043      58      62      67      77      71      63      64   \n",
       "44       22044      96      92      94     100      99      95      98   \n",
       "45       22045      86      87      85      84      85      91      86   \n",
       "46       22046      48      55      46      40      34      29      37   \n",
       "47       22047      56      52      54      47      40      35      43   \n",
       "48       22048      42      44      46      53      62      59      57   \n",
       "49       22049      64      54      49      59      54      55      57   \n",
       "50       22050      50      44      37      29      37      46      53   \n",
       "51       22051      70      60      70      62      67      67      68   \n",
       "52       22052      63      73      70      63      60      67      61   \n",
       "53       22053      92     100     100     100     100     100      92   \n",
       "54       22054      64      55      54      61      63      57      47   \n",
       "55       22055      60      66      68      58      49      47      39   \n",
       "\n",
       "    Test_8  Test_9  Test_10  Test_11  Test_12  \n",
       "0      100     100      100      100       93  \n",
       "1       69      59       60       61       67  \n",
       "2       96      88       82       90       86  \n",
       "3       62      72       63       72       76  \n",
       "4       98      91       98       95       88  \n",
       "5       26      19       22       27       31  \n",
       "6       75      85       87       85       89  \n",
       "7       56      64       70       67       59  \n",
       "8       45      42       43       34       24  \n",
       "9       45      39       43       46       38  \n",
       "10      38      40       48       44       50  \n",
       "11      73      75       71       79       70  \n",
       "12      99      95       85       75       84  \n",
       "13      22      12       20       19       20  \n",
       "14      96      92       83       75       81  \n",
       "15      60      50       58       49       59  \n",
       "16      75      66       61       61       66  \n",
       "17      37      45       37       45       54  \n",
       "18      64      61       51       51       58  \n",
       "19      74      65       55       60       61  \n",
       "20      44      36       45       35       44  \n",
       "21      39      44       36       43       46  \n",
       "22      19       9       12       22       27  \n",
       "23      46      54       57       52       47  \n",
       "24      74      68       73       81       74  \n",
       "25      87      85       79       85       88  \n",
       "26      82      81       73       70       73  \n",
       "27      58      48       46       46       51  \n",
       "28      69      78       68       65       68  \n",
       "29      61      67       76       75       70  \n",
       "30      47      41       37       30       25  \n",
       "31     100     100       99      100      100  \n",
       "32      90      80       84       75       80  \n",
       "33      58      50       51       56       64  \n",
       "34      89      90       95      100      100  \n",
       "35      32      41       40       48       38  \n",
       "36      91     100      100      100       92  \n",
       "37      74      64       54       51       50  \n",
       "38      95      87       93       90       89  \n",
       "39      68      70       70       63       73  \n",
       "40      74      79       72       79       85  \n",
       "41      77      83       92       97       99  \n",
       "42     100      98       94       97      100  \n",
       "43      73      83       76       86       91  \n",
       "44      92      84       84       84       91  \n",
       "45      82      85       87       84       83  \n",
       "46      34      39       41       31       40  \n",
       "47      44      40       39       47       43  \n",
       "48      53      43       35       37       43  \n",
       "49      59      63       73       78       88  \n",
       "50      57      55       61       64       68  \n",
       "51      67      72       69       64       65  \n",
       "52      59      52       58       56       46  \n",
       "53      87      94      100       94       98  \n",
       "54      37      44       48       54       54  \n",
       "55      29      39       44       39       45  "
      ]
     },
     "execution_count": 87,
     "metadata": {},
     "output_type": "execute_result"
    }
   ],
   "source": [
    "a=pd.read_csv(r\"C:\\Users\\user\\Downloads\\17_student_marks.csv\")\n",
    "a"
   ]
  },
  {
   "cell_type": "code",
   "execution_count": 88,
   "id": "9b198abc",
   "metadata": {},
   "outputs": [
    {
     "data": {
      "text/html": [
       "<div>\n",
       "<style scoped>\n",
       "    .dataframe tbody tr th:only-of-type {\n",
       "        vertical-align: middle;\n",
       "    }\n",
       "\n",
       "    .dataframe tbody tr th {\n",
       "        vertical-align: top;\n",
       "    }\n",
       "\n",
       "    .dataframe thead th {\n",
       "        text-align: right;\n",
       "    }\n",
       "</style>\n",
       "<table border=\"1\" class=\"dataframe\">\n",
       "  <thead>\n",
       "    <tr style=\"text-align: right;\">\n",
       "      <th></th>\n",
       "      <th>Student_ID</th>\n",
       "      <th>Test_1</th>\n",
       "      <th>Test_2</th>\n",
       "      <th>Test_3</th>\n",
       "      <th>Test_4</th>\n",
       "      <th>Test_5</th>\n",
       "      <th>Test_6</th>\n",
       "      <th>Test_7</th>\n",
       "      <th>Test_8</th>\n",
       "      <th>Test_9</th>\n",
       "      <th>Test_10</th>\n",
       "      <th>Test_11</th>\n",
       "      <th>Test_12</th>\n",
       "    </tr>\n",
       "  </thead>\n",
       "  <tbody>\n",
       "    <tr>\n",
       "      <th>0</th>\n",
       "      <td>22000</td>\n",
       "      <td>78</td>\n",
       "      <td>87</td>\n",
       "      <td>91</td>\n",
       "      <td>91</td>\n",
       "      <td>88</td>\n",
       "      <td>98</td>\n",
       "      <td>94</td>\n",
       "      <td>100</td>\n",
       "      <td>100</td>\n",
       "      <td>100</td>\n",
       "      <td>100</td>\n",
       "      <td>93</td>\n",
       "    </tr>\n",
       "    <tr>\n",
       "      <th>1</th>\n",
       "      <td>22001</td>\n",
       "      <td>79</td>\n",
       "      <td>71</td>\n",
       "      <td>81</td>\n",
       "      <td>72</td>\n",
       "      <td>73</td>\n",
       "      <td>68</td>\n",
       "      <td>59</td>\n",
       "      <td>69</td>\n",
       "      <td>59</td>\n",
       "      <td>60</td>\n",
       "      <td>61</td>\n",
       "      <td>67</td>\n",
       "    </tr>\n",
       "    <tr>\n",
       "      <th>2</th>\n",
       "      <td>22002</td>\n",
       "      <td>66</td>\n",
       "      <td>65</td>\n",
       "      <td>70</td>\n",
       "      <td>74</td>\n",
       "      <td>78</td>\n",
       "      <td>86</td>\n",
       "      <td>87</td>\n",
       "      <td>96</td>\n",
       "      <td>88</td>\n",
       "      <td>82</td>\n",
       "      <td>90</td>\n",
       "      <td>86</td>\n",
       "    </tr>\n",
       "    <tr>\n",
       "      <th>3</th>\n",
       "      <td>22003</td>\n",
       "      <td>60</td>\n",
       "      <td>58</td>\n",
       "      <td>54</td>\n",
       "      <td>61</td>\n",
       "      <td>54</td>\n",
       "      <td>57</td>\n",
       "      <td>64</td>\n",
       "      <td>62</td>\n",
       "      <td>72</td>\n",
       "      <td>63</td>\n",
       "      <td>72</td>\n",
       "      <td>76</td>\n",
       "    </tr>\n",
       "    <tr>\n",
       "      <th>4</th>\n",
       "      <td>22004</td>\n",
       "      <td>99</td>\n",
       "      <td>95</td>\n",
       "      <td>96</td>\n",
       "      <td>93</td>\n",
       "      <td>97</td>\n",
       "      <td>89</td>\n",
       "      <td>92</td>\n",
       "      <td>98</td>\n",
       "      <td>91</td>\n",
       "      <td>98</td>\n",
       "      <td>95</td>\n",
       "      <td>88</td>\n",
       "    </tr>\n",
       "    <tr>\n",
       "      <th>5</th>\n",
       "      <td>22005</td>\n",
       "      <td>41</td>\n",
       "      <td>36</td>\n",
       "      <td>35</td>\n",
       "      <td>28</td>\n",
       "      <td>35</td>\n",
       "      <td>36</td>\n",
       "      <td>27</td>\n",
       "      <td>26</td>\n",
       "      <td>19</td>\n",
       "      <td>22</td>\n",
       "      <td>27</td>\n",
       "      <td>31</td>\n",
       "    </tr>\n",
       "    <tr>\n",
       "      <th>6</th>\n",
       "      <td>22006</td>\n",
       "      <td>47</td>\n",
       "      <td>50</td>\n",
       "      <td>47</td>\n",
       "      <td>57</td>\n",
       "      <td>62</td>\n",
       "      <td>64</td>\n",
       "      <td>71</td>\n",
       "      <td>75</td>\n",
       "      <td>85</td>\n",
       "      <td>87</td>\n",
       "      <td>85</td>\n",
       "      <td>89</td>\n",
       "    </tr>\n",
       "    <tr>\n",
       "      <th>7</th>\n",
       "      <td>22007</td>\n",
       "      <td>84</td>\n",
       "      <td>74</td>\n",
       "      <td>70</td>\n",
       "      <td>68</td>\n",
       "      <td>58</td>\n",
       "      <td>59</td>\n",
       "      <td>56</td>\n",
       "      <td>56</td>\n",
       "      <td>64</td>\n",
       "      <td>70</td>\n",
       "      <td>67</td>\n",
       "      <td>59</td>\n",
       "    </tr>\n",
       "    <tr>\n",
       "      <th>8</th>\n",
       "      <td>22008</td>\n",
       "      <td>74</td>\n",
       "      <td>64</td>\n",
       "      <td>58</td>\n",
       "      <td>57</td>\n",
       "      <td>53</td>\n",
       "      <td>51</td>\n",
       "      <td>47</td>\n",
       "      <td>45</td>\n",
       "      <td>42</td>\n",
       "      <td>43</td>\n",
       "      <td>34</td>\n",
       "      <td>24</td>\n",
       "    </tr>\n",
       "    <tr>\n",
       "      <th>9</th>\n",
       "      <td>22009</td>\n",
       "      <td>87</td>\n",
       "      <td>81</td>\n",
       "      <td>73</td>\n",
       "      <td>74</td>\n",
       "      <td>71</td>\n",
       "      <td>63</td>\n",
       "      <td>53</td>\n",
       "      <td>45</td>\n",
       "      <td>39</td>\n",
       "      <td>43</td>\n",
       "      <td>46</td>\n",
       "      <td>38</td>\n",
       "    </tr>\n",
       "  </tbody>\n",
       "</table>\n",
       "</div>"
      ],
      "text/plain": [
       "   Student_ID  Test_1  Test_2  Test_3  Test_4  Test_5  Test_6  Test_7  Test_8  \\\n",
       "0       22000      78      87      91      91      88      98      94     100   \n",
       "1       22001      79      71      81      72      73      68      59      69   \n",
       "2       22002      66      65      70      74      78      86      87      96   \n",
       "3       22003      60      58      54      61      54      57      64      62   \n",
       "4       22004      99      95      96      93      97      89      92      98   \n",
       "5       22005      41      36      35      28      35      36      27      26   \n",
       "6       22006      47      50      47      57      62      64      71      75   \n",
       "7       22007      84      74      70      68      58      59      56      56   \n",
       "8       22008      74      64      58      57      53      51      47      45   \n",
       "9       22009      87      81      73      74      71      63      53      45   \n",
       "\n",
       "   Test_9  Test_10  Test_11  Test_12  \n",
       "0     100      100      100       93  \n",
       "1      59       60       61       67  \n",
       "2      88       82       90       86  \n",
       "3      72       63       72       76  \n",
       "4      91       98       95       88  \n",
       "5      19       22       27       31  \n",
       "6      85       87       85       89  \n",
       "7      64       70       67       59  \n",
       "8      42       43       34       24  \n",
       "9      39       43       46       38  "
      ]
     },
     "execution_count": 88,
     "metadata": {},
     "output_type": "execute_result"
    }
   ],
   "source": [
    "b=a.head(10)\n",
    "b"
   ]
  },
  {
   "cell_type": "code",
   "execution_count": 89,
   "id": "eb413531",
   "metadata": {},
   "outputs": [
    {
     "name": "stdout",
     "output_type": "stream",
     "text": [
      "<class 'pandas.core.frame.DataFrame'>\n",
      "RangeIndex: 56 entries, 0 to 55\n",
      "Data columns (total 13 columns):\n",
      " #   Column      Non-Null Count  Dtype\n",
      "---  ------      --------------  -----\n",
      " 0   Student_ID  56 non-null     int64\n",
      " 1   Test_1      56 non-null     int64\n",
      " 2   Test_2      56 non-null     int64\n",
      " 3   Test_3      56 non-null     int64\n",
      " 4   Test_4      56 non-null     int64\n",
      " 5   Test_5      56 non-null     int64\n",
      " 6   Test_6      56 non-null     int64\n",
      " 7   Test_7      56 non-null     int64\n",
      " 8   Test_8      56 non-null     int64\n",
      " 9   Test_9      56 non-null     int64\n",
      " 10  Test_10     56 non-null     int64\n",
      " 11  Test_11     56 non-null     int64\n",
      " 12  Test_12     56 non-null     int64\n",
      "dtypes: int64(13)\n",
      "memory usage: 5.8 KB\n"
     ]
    }
   ],
   "source": [
    "a.info()"
   ]
  },
  {
   "cell_type": "code",
   "execution_count": 90,
   "id": "4e6c0be0",
   "metadata": {},
   "outputs": [
    {
     "data": {
      "text/html": [
       "<div>\n",
       "<style scoped>\n",
       "    .dataframe tbody tr th:only-of-type {\n",
       "        vertical-align: middle;\n",
       "    }\n",
       "\n",
       "    .dataframe tbody tr th {\n",
       "        vertical-align: top;\n",
       "    }\n",
       "\n",
       "    .dataframe thead th {\n",
       "        text-align: right;\n",
       "    }\n",
       "</style>\n",
       "<table border=\"1\" class=\"dataframe\">\n",
       "  <thead>\n",
       "    <tr style=\"text-align: right;\">\n",
       "      <th></th>\n",
       "      <th>Student_ID</th>\n",
       "      <th>Test_1</th>\n",
       "      <th>Test_2</th>\n",
       "      <th>Test_3</th>\n",
       "      <th>Test_4</th>\n",
       "      <th>Test_5</th>\n",
       "      <th>Test_6</th>\n",
       "      <th>Test_7</th>\n",
       "      <th>Test_8</th>\n",
       "      <th>Test_9</th>\n",
       "      <th>Test_10</th>\n",
       "      <th>Test_11</th>\n",
       "      <th>Test_12</th>\n",
       "    </tr>\n",
       "  </thead>\n",
       "  <tbody>\n",
       "    <tr>\n",
       "      <th>count</th>\n",
       "      <td>56.000000</td>\n",
       "      <td>56.000000</td>\n",
       "      <td>56.000000</td>\n",
       "      <td>56.000000</td>\n",
       "      <td>56.000000</td>\n",
       "      <td>56.000000</td>\n",
       "      <td>56.000000</td>\n",
       "      <td>56.000000</td>\n",
       "      <td>56.000000</td>\n",
       "      <td>56.000000</td>\n",
       "      <td>56.000000</td>\n",
       "      <td>56.000000</td>\n",
       "      <td>56.000000</td>\n",
       "    </tr>\n",
       "    <tr>\n",
       "      <th>mean</th>\n",
       "      <td>22027.500000</td>\n",
       "      <td>70.750000</td>\n",
       "      <td>69.196429</td>\n",
       "      <td>68.089286</td>\n",
       "      <td>67.446429</td>\n",
       "      <td>67.303571</td>\n",
       "      <td>66.000000</td>\n",
       "      <td>66.160714</td>\n",
       "      <td>65.303571</td>\n",
       "      <td>64.392857</td>\n",
       "      <td>64.250000</td>\n",
       "      <td>64.517857</td>\n",
       "      <td>65.928571</td>\n",
       "    </tr>\n",
       "    <tr>\n",
       "      <th>std</th>\n",
       "      <td>16.309506</td>\n",
       "      <td>17.009356</td>\n",
       "      <td>17.712266</td>\n",
       "      <td>18.838333</td>\n",
       "      <td>19.807179</td>\n",
       "      <td>20.746890</td>\n",
       "      <td>21.054043</td>\n",
       "      <td>21.427914</td>\n",
       "      <td>22.728372</td>\n",
       "      <td>23.211814</td>\n",
       "      <td>22.598673</td>\n",
       "      <td>22.610529</td>\n",
       "      <td>22.464402</td>\n",
       "    </tr>\n",
       "    <tr>\n",
       "      <th>min</th>\n",
       "      <td>22000.000000</td>\n",
       "      <td>40.000000</td>\n",
       "      <td>34.000000</td>\n",
       "      <td>35.000000</td>\n",
       "      <td>28.000000</td>\n",
       "      <td>26.000000</td>\n",
       "      <td>29.000000</td>\n",
       "      <td>26.000000</td>\n",
       "      <td>19.000000</td>\n",
       "      <td>9.000000</td>\n",
       "      <td>12.000000</td>\n",
       "      <td>19.000000</td>\n",
       "      <td>20.000000</td>\n",
       "    </tr>\n",
       "    <tr>\n",
       "      <th>25%</th>\n",
       "      <td>22013.750000</td>\n",
       "      <td>57.750000</td>\n",
       "      <td>55.750000</td>\n",
       "      <td>53.000000</td>\n",
       "      <td>54.500000</td>\n",
       "      <td>53.750000</td>\n",
       "      <td>50.250000</td>\n",
       "      <td>47.000000</td>\n",
       "      <td>45.750000</td>\n",
       "      <td>44.000000</td>\n",
       "      <td>45.750000</td>\n",
       "      <td>46.750000</td>\n",
       "      <td>46.750000</td>\n",
       "    </tr>\n",
       "    <tr>\n",
       "      <th>50%</th>\n",
       "      <td>22027.500000</td>\n",
       "      <td>70.500000</td>\n",
       "      <td>68.500000</td>\n",
       "      <td>70.000000</td>\n",
       "      <td>71.500000</td>\n",
       "      <td>69.000000</td>\n",
       "      <td>65.500000</td>\n",
       "      <td>64.000000</td>\n",
       "      <td>67.500000</td>\n",
       "      <td>65.500000</td>\n",
       "      <td>65.500000</td>\n",
       "      <td>64.000000</td>\n",
       "      <td>67.500000</td>\n",
       "    </tr>\n",
       "    <tr>\n",
       "      <th>75%</th>\n",
       "      <td>22041.250000</td>\n",
       "      <td>84.000000</td>\n",
       "      <td>83.250000</td>\n",
       "      <td>85.000000</td>\n",
       "      <td>84.000000</td>\n",
       "      <td>85.250000</td>\n",
       "      <td>83.750000</td>\n",
       "      <td>85.250000</td>\n",
       "      <td>83.250000</td>\n",
       "      <td>84.250000</td>\n",
       "      <td>83.250000</td>\n",
       "      <td>84.000000</td>\n",
       "      <td>86.500000</td>\n",
       "    </tr>\n",
       "    <tr>\n",
       "      <th>max</th>\n",
       "      <td>22055.000000</td>\n",
       "      <td>100.000000</td>\n",
       "      <td>100.000000</td>\n",
       "      <td>100.000000</td>\n",
       "      <td>100.000000</td>\n",
       "      <td>100.000000</td>\n",
       "      <td>100.000000</td>\n",
       "      <td>100.000000</td>\n",
       "      <td>100.000000</td>\n",
       "      <td>100.000000</td>\n",
       "      <td>100.000000</td>\n",
       "      <td>100.000000</td>\n",
       "      <td>100.000000</td>\n",
       "    </tr>\n",
       "  </tbody>\n",
       "</table>\n",
       "</div>"
      ],
      "text/plain": [
       "         Student_ID      Test_1      Test_2      Test_3      Test_4  \\\n",
       "count     56.000000   56.000000   56.000000   56.000000   56.000000   \n",
       "mean   22027.500000   70.750000   69.196429   68.089286   67.446429   \n",
       "std       16.309506   17.009356   17.712266   18.838333   19.807179   \n",
       "min    22000.000000   40.000000   34.000000   35.000000   28.000000   \n",
       "25%    22013.750000   57.750000   55.750000   53.000000   54.500000   \n",
       "50%    22027.500000   70.500000   68.500000   70.000000   71.500000   \n",
       "75%    22041.250000   84.000000   83.250000   85.000000   84.000000   \n",
       "max    22055.000000  100.000000  100.000000  100.000000  100.000000   \n",
       "\n",
       "           Test_5      Test_6      Test_7      Test_8      Test_9     Test_10  \\\n",
       "count   56.000000   56.000000   56.000000   56.000000   56.000000   56.000000   \n",
       "mean    67.303571   66.000000   66.160714   65.303571   64.392857   64.250000   \n",
       "std     20.746890   21.054043   21.427914   22.728372   23.211814   22.598673   \n",
       "min     26.000000   29.000000   26.000000   19.000000    9.000000   12.000000   \n",
       "25%     53.750000   50.250000   47.000000   45.750000   44.000000   45.750000   \n",
       "50%     69.000000   65.500000   64.000000   67.500000   65.500000   65.500000   \n",
       "75%     85.250000   83.750000   85.250000   83.250000   84.250000   83.250000   \n",
       "max    100.000000  100.000000  100.000000  100.000000  100.000000  100.000000   \n",
       "\n",
       "          Test_11     Test_12  \n",
       "count   56.000000   56.000000  \n",
       "mean    64.517857   65.928571  \n",
       "std     22.610529   22.464402  \n",
       "min     19.000000   20.000000  \n",
       "25%     46.750000   46.750000  \n",
       "50%     64.000000   67.500000  \n",
       "75%     84.000000   86.500000  \n",
       "max    100.000000  100.000000  "
      ]
     },
     "execution_count": 90,
     "metadata": {},
     "output_type": "execute_result"
    }
   ],
   "source": [
    "a.describe()"
   ]
  },
  {
   "cell_type": "code",
   "execution_count": 91,
   "id": "0f31601e",
   "metadata": {},
   "outputs": [
    {
     "data": {
      "text/plain": [
       "Index(['Student_ID', 'Test_1', 'Test_2', 'Test_3', 'Test_4', 'Test_5',\n",
       "       'Test_6', 'Test_7', 'Test_8', 'Test_9', 'Test_10', 'Test_11',\n",
       "       'Test_12'],\n",
       "      dtype='object')"
      ]
     },
     "execution_count": 91,
     "metadata": {},
     "output_type": "execute_result"
    }
   ],
   "source": [
    "a.columns"
   ]
  },
  {
   "cell_type": "code",
   "execution_count": 92,
   "id": "6de83963",
   "metadata": {},
   "outputs": [
    {
     "data": {
      "text/plain": [
       "<seaborn.axisgrid.PairGrid at 0x217d65aa6d0>"
      ]
     },
     "execution_count": 92,
     "metadata": {},
     "output_type": "execute_result"
    },
    {
     "data": {
      "image/png": "[encoded data removed]",
      "text/plain": [
       "<Figure size 2340x2340 with 182 Axes>"
      ]
     },
     "metadata": {
      "needs_background": "light"
     },
     "output_type": "display_data"
    }
   ],
   "source": [
    "sns.pairplot(b)"
   ]
  },
  {
   "cell_type": "code",
   "execution_count": 93,
   "id": "16e8106a",
   "metadata": {},
   "outputs": [
    {
     "name": "stderr",
     "output_type": "stream",
     "text": [
      "C:\\ProgramData\\Anaconda3\\lib\\site-packages\\seaborn\\distributions.py:2557: FutureWarning: `distplot` is a deprecated function and will be removed in a future version. Please adapt your code to use either `displot` (a figure-level function with similar flexibility) or `histplot` (an axes-level function for histograms).\n",
      "  warnings.warn(msg, FutureWarning)\n"
     ]
    },
    {
     "data": {
      "text/plain": [
       "<AxesSubplot:xlabel='Test_2', ylabel='Density'>"
      ]
     },
     "execution_count": 93,
     "metadata": {},
     "output_type": "execute_result"
    },
    {
     "data": {
      "image/png": "[encoded data removed]",
      "text/plain": [
       "<Figure size 432x288 with 1 Axes>"
      ]
     },
     "metadata": {
      "needs_background": "light"
     },
     "output_type": "display_data"
    }
   ],
   "source": [
    "sns.distplot(b['Test_2'])"
   ]
  },
  {
   "cell_type": "code",
   "execution_count": 94,
   "id": "949b1488",
   "metadata": {},
   "outputs": [
    {
     "data": {
      "text/plain": [
       "<AxesSubplot:>"
      ]
     },
     "execution_count": 94,
     "metadata": {},
     "output_type": "execute_result"
    },
    {
     "data": {
      "image/png": "[encoded data removed]",
      "text/plain": [
       "<Figure size 432x288 with 2 Axes>"
      ]
     },
     "metadata": {
      "needs_background": "light"
     },
     "output_type": "display_data"
    }
   ],
   "source": [
    "sns.heatmap(b.corr())"
   ]
  },
  {
   "cell_type": "code",
   "execution_count": 95,
   "id": "3c42692a",
   "metadata": {},
   "outputs": [],
   "source": [
    "x=b[['Student_ID', 'Test_1', 'Test_2', 'Test_3', 'Test_4', 'Test_5',\n",
    "       'Test_6', 'Test_7', 'Test_8', 'Test_9', 'Test_10', 'Test_11',\n",
    "       'Test_12']]\n",
    "y=b['Test_6']"
   ]
  },
  {
   "cell_type": "code",
   "execution_count": 96,
   "id": "8157b7c4",
   "metadata": {},
   "outputs": [],
   "source": [
    "x_train,x_test,y_train,y_test=train_test_split(x,y,test_size=0.3)"
   ]
  },
  {
   "cell_type": "code",
   "execution_count": 97,
   "id": "55048b4c",
   "metadata": {},
   "outputs": [
    {
     "data": {
      "text/plain": [
       "LinearRegression()"
      ]
     },
     "execution_count": 97,
     "metadata": {},
     "output_type": "execute_result"
    }
   ],
   "source": [
    "lr=LinearRegression()\n",
    "lr.fit(x_train,y_train)"
   ]
  },
  {
   "cell_type": "code",
   "execution_count": 98,
   "id": "3d9a0376",
   "metadata": {},
   "outputs": [
    {
     "name": "stdout",
     "output_type": "stream",
     "text": [
      "13.200685689397119\n"
     ]
    }
   ],
   "source": [
    "print(lr.intercept_)\n"
   ]
  },
  {
   "cell_type": "code",
   "execution_count": 99,
   "id": "01f2fa13",
   "metadata": {},
   "outputs": [
    {
     "data": {
      "text/html": [
       "<div>\n",
       "<style scoped>\n",
       "    .dataframe tbody tr th:only-of-type {\n",
       "        vertical-align: middle;\n",
       "    }\n",
       "\n",
       "    .dataframe tbody tr th {\n",
       "        vertical-align: top;\n",
       "    }\n",
       "\n",
       "    .dataframe thead th {\n",
       "        text-align: right;\n",
       "    }\n",
       "</style>\n",
       "<table border=\"1\" class=\"dataframe\">\n",
       "  <thead>\n",
       "    <tr style=\"text-align: right;\">\n",
       "      <th></th>\n",
       "      <th>Co-efficient</th>\n",
       "    </tr>\n",
       "  </thead>\n",
       "  <tbody>\n",
       "    <tr>\n",
       "      <th>Student_ID</th>\n",
       "      <td>-0.000308</td>\n",
       "    </tr>\n",
       "    <tr>\n",
       "      <th>Test_1</th>\n",
       "      <td>-0.279774</td>\n",
       "    </tr>\n",
       "    <tr>\n",
       "      <th>Test_2</th>\n",
       "      <td>0.055882</td>\n",
       "    </tr>\n",
       "    <tr>\n",
       "      <th>Test_3</th>\n",
       "      <td>0.299643</td>\n",
       "    </tr>\n",
       "    <tr>\n",
       "      <th>Test_4</th>\n",
       "      <td>0.157631</td>\n",
       "    </tr>\n",
       "    <tr>\n",
       "      <th>Test_5</th>\n",
       "      <td>-0.019157</td>\n",
       "    </tr>\n",
       "    <tr>\n",
       "      <th>Test_6</th>\n",
       "      <td>0.500782</td>\n",
       "    </tr>\n",
       "    <tr>\n",
       "      <th>Test_7</th>\n",
       "      <td>0.008546</td>\n",
       "    </tr>\n",
       "    <tr>\n",
       "      <th>Test_8</th>\n",
       "      <td>0.139421</td>\n",
       "    </tr>\n",
       "    <tr>\n",
       "      <th>Test_9</th>\n",
       "      <td>0.108753</td>\n",
       "    </tr>\n",
       "    <tr>\n",
       "      <th>Test_10</th>\n",
       "      <td>0.073561</td>\n",
       "    </tr>\n",
       "    <tr>\n",
       "      <th>Test_11</th>\n",
       "      <td>-0.014964</td>\n",
       "    </tr>\n",
       "    <tr>\n",
       "      <th>Test_12</th>\n",
       "      <td>-0.128484</td>\n",
       "    </tr>\n",
       "  </tbody>\n",
       "</table>\n",
       "</div>"
      ],
      "text/plain": [
       "            Co-efficient\n",
       "Student_ID     -0.000308\n",
       "Test_1         -0.279774\n",
       "Test_2          0.055882\n",
       "Test_3          0.299643\n",
       "Test_4          0.157631\n",
       "Test_5         -0.019157\n",
       "Test_6          0.500782\n",
       "Test_7          0.008546\n",
       "Test_8          0.139421\n",
       "Test_9          0.108753\n",
       "Test_10         0.073561\n",
       "Test_11        -0.014964\n",
       "Test_12        -0.128484"
      ]
     },
     "execution_count": 99,
     "metadata": {},
     "output_type": "execute_result"
    }
   ],
   "source": [
    "coeff=pd.DataFrame(lr.coef_,x.columns,columns=['Co-efficient'])\n",
    "coeff"
   ]
  },
  {
   "cell_type": "code",
   "execution_count": 100,
   "id": "f8b0ae2c",
   "metadata": {},
   "outputs": [
    {
     "data": {
      "text/plain": [
       "<matplotlib.collections.PathCollection at 0x217df4ccd60>"
      ]
     },
     "execution_count": 100,
     "metadata": {},
     "output_type": "execute_result"
    },
    {
     "data": {
      "image/png": "[encoded data removed]",
      "text/plain": [
       "<Figure size 432x288 with 1 Axes>"
      ]
     },
     "metadata": {
      "needs_background": "light"
     },
     "output_type": "display_data"
    }
   ],
   "source": [
    "prediction=lr.predict(x_test)\n",
    "plt.scatter(y_test,prediction)"
   ]
  },
  {
   "cell_type": "code",
   "execution_count": 101,
   "id": "98f97d11",
   "metadata": {},
   "outputs": [
    {
     "name": "stdout",
     "output_type": "stream",
     "text": [
      "0.9695653774078994\n"
     ]
    }
   ],
   "source": [
    "print(lr.score(x_test,y_test))"
   ]
  },
  {
   "cell_type": "code",
   "execution_count": 102,
   "id": "04f19008",
   "metadata": {},
   "outputs": [],
   "source": [
    "from sklearn.linear_model import Ridge,Lasso"
   ]
  },
  {
   "cell_type": "code",
   "execution_count": 103,
   "id": "bc8ac96c",
   "metadata": {},
   "outputs": [
    {
     "data": {
      "text/plain": [
       "Ridge(alpha=10)"
      ]
     },
     "execution_count": 103,
     "metadata": {},
     "output_type": "execute_result"
    }
   ],
   "source": [
    "rr=Ridge(alpha=10)\n",
    "rr.fit(x_train,y_train)"
   ]
  },
  {
   "cell_type": "code",
   "execution_count": 104,
   "id": "4a39f4a5",
   "metadata": {},
   "outputs": [
    {
     "data": {
      "text/plain": [
       "0.9644727349653939"
      ]
     },
     "execution_count": 104,
     "metadata": {},
     "output_type": "execute_result"
    }
   ],
   "source": [
    "rr.score(x_test,y_test)"
   ]
  },
  {
   "cell_type": "code",
   "execution_count": 105,
   "id": "8ccc9bee",
   "metadata": {},
   "outputs": [
    {
     "data": {
      "text/plain": [
       "Lasso(alpha=10)"
      ]
     },
     "execution_count": 105,
     "metadata": {},
     "output_type": "execute_result"
    }
   ],
   "source": [
    "la=Lasso(alpha=10)\n",
    "la.fit(x_train,y_train)"
   ]
  },
  {
   "cell_type": "code",
   "execution_count": 106,
   "id": "372149e3",
   "metadata": {},
   "outputs": [
    {
     "data": {
      "text/plain": [
       "0.9988004699481617"
      ]
     },
     "execution_count": 106,
     "metadata": {},
     "output_type": "execute_result"
    }
   ],
   "source": [
    "la.score(x_test,y_test)"
   ]
  },
  {
   "cell_type": "code",
   "execution_count": 107,
   "id": "27a04c9e",
   "metadata": {},
   "outputs": [
    {
     "data": {
      "text/plain": [
       "ElasticNet()"
      ]
     },
     "execution_count": 107,
     "metadata": {},
     "output_type": "execute_result"
    }
   ],
   "source": [
    "en=ElasticNet()\n",
    "en.fit(x_train,y_train)"
   ]
  },
  {
   "cell_type": "code",
   "execution_count": 108,
   "id": "2e08df7b",
   "metadata": {},
   "outputs": [
    {
     "name": "stdout",
     "output_type": "stream",
     "text": [
      "[-0.         -0.          0.          0.01747778  0.          0.\n",
      "  0.93487531  0.01167405  0.03041345  0.          0.          0.\n",
      " -0.        ]\n"
     ]
    }
   ],
   "source": [
    "print(en.coef_)"
   ]
  },
  {
   "cell_type": "code",
   "execution_count": 109,
   "id": "b6d1c7e7",
   "metadata": {},
   "outputs": [
    {
     "name": "stdout",
     "output_type": "stream",
     "text": [
      "0.28096938877563105\n"
     ]
    }
   ],
   "source": [
    "print(en.intercept_)"
   ]
  },
  {
   "cell_type": "code",
   "execution_count": 110,
   "id": "0353a214",
   "metadata": {},
   "outputs": [
    {
     "name": "stdout",
     "output_type": "stream",
     "text": [
      "0.9996346626033297\n"
     ]
    }
   ],
   "source": [
    "prediction=en.predict(x_test)\n",
    "print(en.score(x_test,y_test))"
   ]
  },
  {
   "cell_type": "markdown",
   "id": "fcc197af",
   "metadata": {},
   "source": [
    "# Evaluation Metrics"
   ]
  },
  {
   "cell_type": "code",
   "execution_count": 111,
   "id": "37abc1f5",
   "metadata": {},
   "outputs": [
    {
     "name": "stdout",
     "output_type": "stream",
     "text": [
      "Mean Absolute Error: 0.35516758709910806\n"
     ]
    }
   ],
   "source": [
    "print('Mean Absolute Error:',metrics.mean_absolute_error(y_test,prediction))"
   ]
  },
  {
   "cell_type": "code",
   "execution_count": 112,
   "id": "934d7d6a",
   "metadata": {},
   "outputs": [
    {
     "name": "stdout",
     "output_type": "stream",
     "text": [
      "mean Squared Error: 0.15254865963191833\n"
     ]
    }
   ],
   "source": [
    "print(\"mean Squared Error:\",metrics.mean_squared_error(y_test,prediction))"
   ]
  },
  {
   "cell_type": "code",
   "execution_count": 113,
   "id": "6d3cd8c6",
   "metadata": {},
   "outputs": [
    {
     "name": "stdout",
     "output_type": "stream",
     "text": [
      "Root mean Squared Error: 0.39057478110077504\n"
     ]
    }
   ],
   "source": [
    "print(\"Root mean Squared Error:\",np.sqrt(metrics.mean_squared_error(y_test,prediction)))"
   ]
  },
  {
   "cell_type": "markdown",
   "id": "595a4b59",
   "metadata": {},
   "source": [
    "# 18. DataSet World_Data"
   ]
  },
  {
   "cell_type": "code",
   "execution_count": 114,
   "id": "8b4a39b1",
   "metadata": {},
   "outputs": [
    {
     "data": {
      "text/html": [
       "<div>\n",
       "<style scoped>\n",
       "    .dataframe tbody tr th:only-of-type {\n",
       "        vertical-align: middle;\n",
       "    }\n",
       "\n",
       "    .dataframe tbody tr th {\n",
       "        vertical-align: top;\n",
       "    }\n",
       "\n",
       "    .dataframe thead th {\n",
       "        text-align: right;\n",
       "    }\n",
       "</style>\n",
       "<table border=\"1\" class=\"dataframe\">\n",
       "  <thead>\n",
       "    <tr style=\"text-align: right;\">\n",
       "      <th></th>\n",
       "      <th>Country</th>\n",
       "      <th>Density\\n(P/Km2)</th>\n",
       "      <th>Abbreviation</th>\n",
       "      <th>Agricultural Land( %)</th>\n",
       "      <th>Land Area(Km2)</th>\n",
       "      <th>Armed Forces size</th>\n",
       "      <th>Birth Rate</th>\n",
       "      <th>Calling Code</th>\n",
       "      <th>Capital/Major City</th>\n",
       "      <th>Co2-Emissions</th>\n",
       "      <th>...</th>\n",
       "      <th>Out of pocket health expenditure</th>\n",
       "      <th>Physicians per thousand</th>\n",
       "      <th>Population</th>\n",
       "      <th>Population: Labor force participation (%)</th>\n",
       "      <th>Tax revenue (%)</th>\n",
       "      <th>Total tax rate</th>\n",
       "      <th>Unemployment rate</th>\n",
       "      <th>Urban_population</th>\n",
       "      <th>Latitude</th>\n",
       "      <th>Longitude</th>\n",
       "    </tr>\n",
       "  </thead>\n",
       "  <tbody>\n",
       "    <tr>\n",
       "      <th>0</th>\n",
       "      <td>Afghanistan</td>\n",
       "      <td>60</td>\n",
       "      <td>AF</td>\n",
       "      <td>58.10%</td>\n",
       "      <td>652,230</td>\n",
       "      <td>323,000</td>\n",
       "      <td>32.49</td>\n",
       "      <td>93.0</td>\n",
       "      <td>Kabul</td>\n",
       "      <td>8,672</td>\n",
       "      <td>...</td>\n",
       "      <td>78.40%</td>\n",
       "      <td>0.28</td>\n",
       "      <td>38,041,754</td>\n",
       "      <td>48.90%</td>\n",
       "      <td>9.30%</td>\n",
       "      <td>71.40%</td>\n",
       "      <td>11.12%</td>\n",
       "      <td>9,797,273</td>\n",
       "      <td>33.939110</td>\n",
       "      <td>67.709953</td>\n",
       "    </tr>\n",
       "    <tr>\n",
       "      <th>1</th>\n",
       "      <td>Albania</td>\n",
       "      <td>105</td>\n",
       "      <td>AL</td>\n",
       "      <td>43.10%</td>\n",
       "      <td>28,748</td>\n",
       "      <td>9,000</td>\n",
       "      <td>11.78</td>\n",
       "      <td>355.0</td>\n",
       "      <td>Tirana</td>\n",
       "      <td>4,536</td>\n",
       "      <td>...</td>\n",
       "      <td>56.90%</td>\n",
       "      <td>1.20</td>\n",
       "      <td>2,854,191</td>\n",
       "      <td>55.70%</td>\n",
       "      <td>18.60%</td>\n",
       "      <td>36.60%</td>\n",
       "      <td>12.33%</td>\n",
       "      <td>1,747,593</td>\n",
       "      <td>41.153332</td>\n",
       "      <td>20.168331</td>\n",
       "    </tr>\n",
       "    <tr>\n",
       "      <th>2</th>\n",
       "      <td>Algeria</td>\n",
       "      <td>18</td>\n",
       "      <td>DZ</td>\n",
       "      <td>17.40%</td>\n",
       "      <td>2,381,741</td>\n",
       "      <td>317,000</td>\n",
       "      <td>24.28</td>\n",
       "      <td>213.0</td>\n",
       "      <td>Algiers</td>\n",
       "      <td>150,006</td>\n",
       "      <td>...</td>\n",
       "      <td>28.10%</td>\n",
       "      <td>1.72</td>\n",
       "      <td>43,053,054</td>\n",
       "      <td>41.20%</td>\n",
       "      <td>37.20%</td>\n",
       "      <td>66.10%</td>\n",
       "      <td>11.70%</td>\n",
       "      <td>31,510,100</td>\n",
       "      <td>28.033886</td>\n",
       "      <td>1.659626</td>\n",
       "    </tr>\n",
       "    <tr>\n",
       "      <th>3</th>\n",
       "      <td>Andorra</td>\n",
       "      <td>164</td>\n",
       "      <td>AD</td>\n",
       "      <td>40.00%</td>\n",
       "      <td>468</td>\n",
       "      <td>NaN</td>\n",
       "      <td>7.20</td>\n",
       "      <td>376.0</td>\n",
       "      <td>Andorra la Vella</td>\n",
       "      <td>469</td>\n",
       "      <td>...</td>\n",
       "      <td>36.40%</td>\n",
       "      <td>3.33</td>\n",
       "      <td>77,142</td>\n",
       "      <td>NaN</td>\n",
       "      <td>NaN</td>\n",
       "      <td>NaN</td>\n",
       "      <td>NaN</td>\n",
       "      <td>67,873</td>\n",
       "      <td>42.506285</td>\n",
       "      <td>1.521801</td>\n",
       "    </tr>\n",
       "    <tr>\n",
       "      <th>4</th>\n",
       "      <td>Angola</td>\n",
       "      <td>26</td>\n",
       "      <td>AO</td>\n",
       "      <td>47.50%</td>\n",
       "      <td>1,246,700</td>\n",
       "      <td>117,000</td>\n",
       "      <td>40.73</td>\n",
       "      <td>244.0</td>\n",
       "      <td>Luanda</td>\n",
       "      <td>34,693</td>\n",
       "      <td>...</td>\n",
       "      <td>33.40%</td>\n",
       "      <td>0.21</td>\n",
       "      <td>31,825,295</td>\n",
       "      <td>77.50%</td>\n",
       "      <td>9.20%</td>\n",
       "      <td>49.10%</td>\n",
       "      <td>6.89%</td>\n",
       "      <td>21,061,025</td>\n",
       "      <td>-11.202692</td>\n",
       "      <td>17.873887</td>\n",
       "    </tr>\n",
       "    <tr>\n",
       "      <th>...</th>\n",
       "      <td>...</td>\n",
       "      <td>...</td>\n",
       "      <td>...</td>\n",
       "      <td>...</td>\n",
       "      <td>...</td>\n",
       "      <td>...</td>\n",
       "      <td>...</td>\n",
       "      <td>...</td>\n",
       "      <td>...</td>\n",
       "      <td>...</td>\n",
       "      <td>...</td>\n",
       "      <td>...</td>\n",
       "      <td>...</td>\n",
       "      <td>...</td>\n",
       "      <td>...</td>\n",
       "      <td>...</td>\n",
       "      <td>...</td>\n",
       "      <td>...</td>\n",
       "      <td>...</td>\n",
       "      <td>...</td>\n",
       "      <td>...</td>\n",
       "    </tr>\n",
       "    <tr>\n",
       "      <th>190</th>\n",
       "      <td>Venezuela</td>\n",
       "      <td>32</td>\n",
       "      <td>VE</td>\n",
       "      <td>24.50%</td>\n",
       "      <td>912,050</td>\n",
       "      <td>343,000</td>\n",
       "      <td>17.88</td>\n",
       "      <td>58.0</td>\n",
       "      <td>Caracas</td>\n",
       "      <td>164,175</td>\n",
       "      <td>...</td>\n",
       "      <td>45.80%</td>\n",
       "      <td>1.92</td>\n",
       "      <td>28,515,829</td>\n",
       "      <td>59.70%</td>\n",
       "      <td>NaN</td>\n",
       "      <td>73.30%</td>\n",
       "      <td>8.80%</td>\n",
       "      <td>25,162,368</td>\n",
       "      <td>6.423750</td>\n",
       "      <td>-66.589730</td>\n",
       "    </tr>\n",
       "    <tr>\n",
       "      <th>191</th>\n",
       "      <td>Vietnam</td>\n",
       "      <td>314</td>\n",
       "      <td>VN</td>\n",
       "      <td>39.30%</td>\n",
       "      <td>331,210</td>\n",
       "      <td>522,000</td>\n",
       "      <td>16.75</td>\n",
       "      <td>84.0</td>\n",
       "      <td>Hanoi</td>\n",
       "      <td>192,668</td>\n",
       "      <td>...</td>\n",
       "      <td>43.50%</td>\n",
       "      <td>0.82</td>\n",
       "      <td>96,462,106</td>\n",
       "      <td>77.40%</td>\n",
       "      <td>19.10%</td>\n",
       "      <td>37.60%</td>\n",
       "      <td>2.01%</td>\n",
       "      <td>35,332,140</td>\n",
       "      <td>14.058324</td>\n",
       "      <td>108.277199</td>\n",
       "    </tr>\n",
       "    <tr>\n",
       "      <th>192</th>\n",
       "      <td>Yemen</td>\n",
       "      <td>56</td>\n",
       "      <td>YE</td>\n",
       "      <td>44.60%</td>\n",
       "      <td>527,968</td>\n",
       "      <td>40,000</td>\n",
       "      <td>30.45</td>\n",
       "      <td>967.0</td>\n",
       "      <td>Sanaa</td>\n",
       "      <td>10,609</td>\n",
       "      <td>...</td>\n",
       "      <td>81.00%</td>\n",
       "      <td>0.31</td>\n",
       "      <td>29,161,922</td>\n",
       "      <td>38.00%</td>\n",
       "      <td>NaN</td>\n",
       "      <td>26.60%</td>\n",
       "      <td>12.91%</td>\n",
       "      <td>10,869,523</td>\n",
       "      <td>15.552727</td>\n",
       "      <td>48.516388</td>\n",
       "    </tr>\n",
       "    <tr>\n",
       "      <th>193</th>\n",
       "      <td>Zambia</td>\n",
       "      <td>25</td>\n",
       "      <td>ZM</td>\n",
       "      <td>32.10%</td>\n",
       "      <td>752,618</td>\n",
       "      <td>16,000</td>\n",
       "      <td>36.19</td>\n",
       "      <td>260.0</td>\n",
       "      <td>Lusaka</td>\n",
       "      <td>5,141</td>\n",
       "      <td>...</td>\n",
       "      <td>27.50%</td>\n",
       "      <td>1.19</td>\n",
       "      <td>17,861,030</td>\n",
       "      <td>74.60%</td>\n",
       "      <td>16.20%</td>\n",
       "      <td>15.60%</td>\n",
       "      <td>11.43%</td>\n",
       "      <td>7,871,713</td>\n",
       "      <td>-13.133897</td>\n",
       "      <td>27.849332</td>\n",
       "    </tr>\n",
       "    <tr>\n",
       "      <th>194</th>\n",
       "      <td>Zimbabwe</td>\n",
       "      <td>38</td>\n",
       "      <td>ZW</td>\n",
       "      <td>41.90%</td>\n",
       "      <td>390,757</td>\n",
       "      <td>51,000</td>\n",
       "      <td>30.68</td>\n",
       "      <td>263.0</td>\n",
       "      <td>Harare</td>\n",
       "      <td>10,983</td>\n",
       "      <td>...</td>\n",
       "      <td>25.80%</td>\n",
       "      <td>0.21</td>\n",
       "      <td>14,645,468</td>\n",
       "      <td>83.10%</td>\n",
       "      <td>20.70%</td>\n",
       "      <td>31.60%</td>\n",
       "      <td>4.95%</td>\n",
       "      <td>4,717,305</td>\n",
       "      <td>-19.015438</td>\n",
       "      <td>29.154857</td>\n",
       "    </tr>\n",
       "  </tbody>\n",
       "</table>\n",
       "<p>195 rows × 35 columns</p>\n",
       "</div>"
      ],
      "text/plain": [
       "         Country Density\\n(P/Km2) Abbreviation Agricultural Land( %)  \\\n",
       "0    Afghanistan               60           AF                58.10%   \n",
       "1        Albania              105           AL                43.10%   \n",
       "2        Algeria               18           DZ                17.40%   \n",
       "3        Andorra              164           AD                40.00%   \n",
       "4         Angola               26           AO                47.50%   \n",
       "..           ...              ...          ...                   ...   \n",
       "190    Venezuela               32           VE                24.50%   \n",
       "191      Vietnam              314           VN                39.30%   \n",
       "192        Yemen               56           YE                44.60%   \n",
       "193       Zambia               25           ZM                32.10%   \n",
       "194     Zimbabwe               38           ZW                41.90%   \n",
       "\n",
       "    Land Area(Km2) Armed Forces size  Birth Rate  Calling Code  \\\n",
       "0          652,230           323,000       32.49          93.0   \n",
       "1           28,748             9,000       11.78         355.0   \n",
       "2        2,381,741           317,000       24.28         213.0   \n",
       "3              468               NaN        7.20         376.0   \n",
       "4        1,246,700           117,000       40.73         244.0   \n",
       "..             ...               ...         ...           ...   \n",
       "190        912,050           343,000       17.88          58.0   \n",
       "191        331,210           522,000       16.75          84.0   \n",
       "192        527,968            40,000       30.45         967.0   \n",
       "193        752,618            16,000       36.19         260.0   \n",
       "194        390,757            51,000       30.68         263.0   \n",
       "\n",
       "    Capital/Major City Co2-Emissions  ... Out of pocket health expenditure  \\\n",
       "0                Kabul         8,672  ...                           78.40%   \n",
       "1               Tirana         4,536  ...                           56.90%   \n",
       "2              Algiers       150,006  ...                           28.10%   \n",
       "3     Andorra la Vella           469  ...                           36.40%   \n",
       "4               Luanda        34,693  ...                           33.40%   \n",
       "..                 ...           ...  ...                              ...   \n",
       "190            Caracas       164,175  ...                           45.80%   \n",
       "191              Hanoi       192,668  ...                           43.50%   \n",
       "192              Sanaa        10,609  ...                           81.00%   \n",
       "193             Lusaka         5,141  ...                           27.50%   \n",
       "194             Harare        10,983  ...                           25.80%   \n",
       "\n",
       "    Physicians per thousand  Population  \\\n",
       "0                      0.28  38,041,754   \n",
       "1                      1.20   2,854,191   \n",
       "2                      1.72  43,053,054   \n",
       "3                      3.33      77,142   \n",
       "4                      0.21  31,825,295   \n",
       "..                      ...         ...   \n",
       "190                    1.92  28,515,829   \n",
       "191                    0.82  96,462,106   \n",
       "192                    0.31  29,161,922   \n",
       "193                    1.19  17,861,030   \n",
       "194                    0.21  14,645,468   \n",
       "\n",
       "     Population: Labor force participation (%) Tax revenue (%) Total tax rate  \\\n",
       "0                                       48.90%           9.30%         71.40%   \n",
       "1                                       55.70%          18.60%         36.60%   \n",
       "2                                       41.20%          37.20%         66.10%   \n",
       "3                                          NaN             NaN            NaN   \n",
       "4                                       77.50%           9.20%         49.10%   \n",
       "..                                         ...             ...            ...   \n",
       "190                                     59.70%             NaN         73.30%   \n",
       "191                                     77.40%          19.10%         37.60%   \n",
       "192                                     38.00%             NaN         26.60%   \n",
       "193                                     74.60%          16.20%         15.60%   \n",
       "194                                     83.10%          20.70%         31.60%   \n",
       "\n",
       "    Unemployment rate Urban_population   Latitude   Longitude  \n",
       "0              11.12%        9,797,273  33.939110   67.709953  \n",
       "1              12.33%        1,747,593  41.153332   20.168331  \n",
       "2              11.70%       31,510,100  28.033886    1.659626  \n",
       "3                 NaN           67,873  42.506285    1.521801  \n",
       "4               6.89%       21,061,025 -11.202692   17.873887  \n",
       "..                ...              ...        ...         ...  \n",
       "190             8.80%       25,162,368   6.423750  -66.589730  \n",
       "191             2.01%       35,332,140  14.058324  108.277199  \n",
       "192            12.91%       10,869,523  15.552727   48.516388  \n",
       "193            11.43%        7,871,713 -13.133897   27.849332  \n",
       "194             4.95%        4,717,305 -19.015438   29.154857  \n",
       "\n",
       "[195 rows x 35 columns]"
      ]
     },
     "execution_count": 114,
     "metadata": {},
     "output_type": "execute_result"
    }
   ],
   "source": [
    "a=pd.read_csv(r\"C:\\Users\\user\\Downloads\\18_world-data-2023.csv\")\n",
    "a"
   ]
  },
  {
   "cell_type": "code",
   "execution_count": 115,
   "id": "370f5bef",
   "metadata": {},
   "outputs": [
    {
     "data": {
      "text/html": [
       "<div>\n",
       "<style scoped>\n",
       "    .dataframe tbody tr th:only-of-type {\n",
       "        vertical-align: middle;\n",
       "    }\n",
       "\n",
       "    .dataframe tbody tr th {\n",
       "        vertical-align: top;\n",
       "    }\n",
       "\n",
       "    .dataframe thead th {\n",
       "        text-align: right;\n",
       "    }\n",
       "</style>\n",
       "<table border=\"1\" class=\"dataframe\">\n",
       "  <thead>\n",
       "    <tr style=\"text-align: right;\">\n",
       "      <th></th>\n",
       "      <th>Country</th>\n",
       "      <th>Density\\n(P/Km2)</th>\n",
       "      <th>Abbreviation</th>\n",
       "      <th>Agricultural Land( %)</th>\n",
       "      <th>Land Area(Km2)</th>\n",
       "      <th>Armed Forces size</th>\n",
       "      <th>Birth Rate</th>\n",
       "      <th>Calling Code</th>\n",
       "      <th>Capital/Major City</th>\n",
       "      <th>Co2-Emissions</th>\n",
       "      <th>...</th>\n",
       "      <th>Out of pocket health expenditure</th>\n",
       "      <th>Physicians per thousand</th>\n",
       "      <th>Population</th>\n",
       "      <th>Population: Labor force participation (%)</th>\n",
       "      <th>Tax revenue (%)</th>\n",
       "      <th>Total tax rate</th>\n",
       "      <th>Unemployment rate</th>\n",
       "      <th>Urban_population</th>\n",
       "      <th>Latitude</th>\n",
       "      <th>Longitude</th>\n",
       "    </tr>\n",
       "  </thead>\n",
       "  <tbody>\n",
       "    <tr>\n",
       "      <th>0</th>\n",
       "      <td>Afghanistan</td>\n",
       "      <td>60</td>\n",
       "      <td>AF</td>\n",
       "      <td>58.10%</td>\n",
       "      <td>652,230</td>\n",
       "      <td>323,000</td>\n",
       "      <td>32.49</td>\n",
       "      <td>93.0</td>\n",
       "      <td>Kabul</td>\n",
       "      <td>8,672</td>\n",
       "      <td>...</td>\n",
       "      <td>78.40%</td>\n",
       "      <td>0.28</td>\n",
       "      <td>38,041,754</td>\n",
       "      <td>48.90%</td>\n",
       "      <td>9.30%</td>\n",
       "      <td>71.40%</td>\n",
       "      <td>11.12%</td>\n",
       "      <td>9,797,273</td>\n",
       "      <td>33.939110</td>\n",
       "      <td>67.709953</td>\n",
       "    </tr>\n",
       "    <tr>\n",
       "      <th>1</th>\n",
       "      <td>Albania</td>\n",
       "      <td>105</td>\n",
       "      <td>AL</td>\n",
       "      <td>43.10%</td>\n",
       "      <td>28,748</td>\n",
       "      <td>9,000</td>\n",
       "      <td>11.78</td>\n",
       "      <td>355.0</td>\n",
       "      <td>Tirana</td>\n",
       "      <td>4,536</td>\n",
       "      <td>...</td>\n",
       "      <td>56.90%</td>\n",
       "      <td>1.20</td>\n",
       "      <td>2,854,191</td>\n",
       "      <td>55.70%</td>\n",
       "      <td>18.60%</td>\n",
       "      <td>36.60%</td>\n",
       "      <td>12.33%</td>\n",
       "      <td>1,747,593</td>\n",
       "      <td>41.153332</td>\n",
       "      <td>20.168331</td>\n",
       "    </tr>\n",
       "    <tr>\n",
       "      <th>2</th>\n",
       "      <td>Algeria</td>\n",
       "      <td>18</td>\n",
       "      <td>DZ</td>\n",
       "      <td>17.40%</td>\n",
       "      <td>2,381,741</td>\n",
       "      <td>317,000</td>\n",
       "      <td>24.28</td>\n",
       "      <td>213.0</td>\n",
       "      <td>Algiers</td>\n",
       "      <td>150,006</td>\n",
       "      <td>...</td>\n",
       "      <td>28.10%</td>\n",
       "      <td>1.72</td>\n",
       "      <td>43,053,054</td>\n",
       "      <td>41.20%</td>\n",
       "      <td>37.20%</td>\n",
       "      <td>66.10%</td>\n",
       "      <td>11.70%</td>\n",
       "      <td>31,510,100</td>\n",
       "      <td>28.033886</td>\n",
       "      <td>1.659626</td>\n",
       "    </tr>\n",
       "    <tr>\n",
       "      <th>3</th>\n",
       "      <td>Andorra</td>\n",
       "      <td>164</td>\n",
       "      <td>AD</td>\n",
       "      <td>40.00%</td>\n",
       "      <td>468</td>\n",
       "      <td>51</td>\n",
       "      <td>7.20</td>\n",
       "      <td>376.0</td>\n",
       "      <td>Andorra la Vella</td>\n",
       "      <td>469</td>\n",
       "      <td>...</td>\n",
       "      <td>36.40%</td>\n",
       "      <td>3.33</td>\n",
       "      <td>77,142</td>\n",
       "      <td>51</td>\n",
       "      <td>51</td>\n",
       "      <td>51</td>\n",
       "      <td>51</td>\n",
       "      <td>67,873</td>\n",
       "      <td>42.506285</td>\n",
       "      <td>1.521801</td>\n",
       "    </tr>\n",
       "    <tr>\n",
       "      <th>4</th>\n",
       "      <td>Angola</td>\n",
       "      <td>26</td>\n",
       "      <td>AO</td>\n",
       "      <td>47.50%</td>\n",
       "      <td>1,246,700</td>\n",
       "      <td>117,000</td>\n",
       "      <td>40.73</td>\n",
       "      <td>244.0</td>\n",
       "      <td>Luanda</td>\n",
       "      <td>34,693</td>\n",
       "      <td>...</td>\n",
       "      <td>33.40%</td>\n",
       "      <td>0.21</td>\n",
       "      <td>31,825,295</td>\n",
       "      <td>77.50%</td>\n",
       "      <td>9.20%</td>\n",
       "      <td>49.10%</td>\n",
       "      <td>6.89%</td>\n",
       "      <td>21,061,025</td>\n",
       "      <td>-11.202692</td>\n",
       "      <td>17.873887</td>\n",
       "    </tr>\n",
       "    <tr>\n",
       "      <th>...</th>\n",
       "      <td>...</td>\n",
       "      <td>...</td>\n",
       "      <td>...</td>\n",
       "      <td>...</td>\n",
       "      <td>...</td>\n",
       "      <td>...</td>\n",
       "      <td>...</td>\n",
       "      <td>...</td>\n",
       "      <td>...</td>\n",
       "      <td>...</td>\n",
       "      <td>...</td>\n",
       "      <td>...</td>\n",
       "      <td>...</td>\n",
       "      <td>...</td>\n",
       "      <td>...</td>\n",
       "      <td>...</td>\n",
       "      <td>...</td>\n",
       "      <td>...</td>\n",
       "      <td>...</td>\n",
       "      <td>...</td>\n",
       "      <td>...</td>\n",
       "    </tr>\n",
       "    <tr>\n",
       "      <th>190</th>\n",
       "      <td>Venezuela</td>\n",
       "      <td>32</td>\n",
       "      <td>VE</td>\n",
       "      <td>24.50%</td>\n",
       "      <td>912,050</td>\n",
       "      <td>343,000</td>\n",
       "      <td>17.88</td>\n",
       "      <td>58.0</td>\n",
       "      <td>Caracas</td>\n",
       "      <td>164,175</td>\n",
       "      <td>...</td>\n",
       "      <td>45.80%</td>\n",
       "      <td>1.92</td>\n",
       "      <td>28,515,829</td>\n",
       "      <td>59.70%</td>\n",
       "      <td>51</td>\n",
       "      <td>73.30%</td>\n",
       "      <td>8.80%</td>\n",
       "      <td>25,162,368</td>\n",
       "      <td>6.423750</td>\n",
       "      <td>-66.589730</td>\n",
       "    </tr>\n",
       "    <tr>\n",
       "      <th>191</th>\n",
       "      <td>Vietnam</td>\n",
       "      <td>314</td>\n",
       "      <td>VN</td>\n",
       "      <td>39.30%</td>\n",
       "      <td>331,210</td>\n",
       "      <td>522,000</td>\n",
       "      <td>16.75</td>\n",
       "      <td>84.0</td>\n",
       "      <td>Hanoi</td>\n",
       "      <td>192,668</td>\n",
       "      <td>...</td>\n",
       "      <td>43.50%</td>\n",
       "      <td>0.82</td>\n",
       "      <td>96,462,106</td>\n",
       "      <td>77.40%</td>\n",
       "      <td>19.10%</td>\n",
       "      <td>37.60%</td>\n",
       "      <td>2.01%</td>\n",
       "      <td>35,332,140</td>\n",
       "      <td>14.058324</td>\n",
       "      <td>108.277199</td>\n",
       "    </tr>\n",
       "    <tr>\n",
       "      <th>192</th>\n",
       "      <td>Yemen</td>\n",
       "      <td>56</td>\n",
       "      <td>YE</td>\n",
       "      <td>44.60%</td>\n",
       "      <td>527,968</td>\n",
       "      <td>40,000</td>\n",
       "      <td>30.45</td>\n",
       "      <td>967.0</td>\n",
       "      <td>Sanaa</td>\n",
       "      <td>10,609</td>\n",
       "      <td>...</td>\n",
       "      <td>81.00%</td>\n",
       "      <td>0.31</td>\n",
       "      <td>29,161,922</td>\n",
       "      <td>38.00%</td>\n",
       "      <td>51</td>\n",
       "      <td>26.60%</td>\n",
       "      <td>12.91%</td>\n",
       "      <td>10,869,523</td>\n",
       "      <td>15.552727</td>\n",
       "      <td>48.516388</td>\n",
       "    </tr>\n",
       "    <tr>\n",
       "      <th>193</th>\n",
       "      <td>Zambia</td>\n",
       "      <td>25</td>\n",
       "      <td>ZM</td>\n",
       "      <td>32.10%</td>\n",
       "      <td>752,618</td>\n",
       "      <td>16,000</td>\n",
       "      <td>36.19</td>\n",
       "      <td>260.0</td>\n",
       "      <td>Lusaka</td>\n",
       "      <td>5,141</td>\n",
       "      <td>...</td>\n",
       "      <td>27.50%</td>\n",
       "      <td>1.19</td>\n",
       "      <td>17,861,030</td>\n",
       "      <td>74.60%</td>\n",
       "      <td>16.20%</td>\n",
       "      <td>15.60%</td>\n",
       "      <td>11.43%</td>\n",
       "      <td>7,871,713</td>\n",
       "      <td>-13.133897</td>\n",
       "      <td>27.849332</td>\n",
       "    </tr>\n",
       "    <tr>\n",
       "      <th>194</th>\n",
       "      <td>Zimbabwe</td>\n",
       "      <td>38</td>\n",
       "      <td>ZW</td>\n",
       "      <td>41.90%</td>\n",
       "      <td>390,757</td>\n",
       "      <td>51,000</td>\n",
       "      <td>30.68</td>\n",
       "      <td>263.0</td>\n",
       "      <td>Harare</td>\n",
       "      <td>10,983</td>\n",
       "      <td>...</td>\n",
       "      <td>25.80%</td>\n",
       "      <td>0.21</td>\n",
       "      <td>14,645,468</td>\n",
       "      <td>83.10%</td>\n",
       "      <td>20.70%</td>\n",
       "      <td>31.60%</td>\n",
       "      <td>4.95%</td>\n",
       "      <td>4,717,305</td>\n",
       "      <td>-19.015438</td>\n",
       "      <td>29.154857</td>\n",
       "    </tr>\n",
       "  </tbody>\n",
       "</table>\n",
       "<p>195 rows × 35 columns</p>\n",
       "</div>"
      ],
      "text/plain": [
       "         Country Density\\n(P/Km2) Abbreviation Agricultural Land( %)  \\\n",
       "0    Afghanistan               60           AF                58.10%   \n",
       "1        Albania              105           AL                43.10%   \n",
       "2        Algeria               18           DZ                17.40%   \n",
       "3        Andorra              164           AD                40.00%   \n",
       "4         Angola               26           AO                47.50%   \n",
       "..           ...              ...          ...                   ...   \n",
       "190    Venezuela               32           VE                24.50%   \n",
       "191      Vietnam              314           VN                39.30%   \n",
       "192        Yemen               56           YE                44.60%   \n",
       "193       Zambia               25           ZM                32.10%   \n",
       "194     Zimbabwe               38           ZW                41.90%   \n",
       "\n",
       "    Land Area(Km2) Armed Forces size  Birth Rate  Calling Code  \\\n",
       "0          652,230           323,000       32.49          93.0   \n",
       "1           28,748             9,000       11.78         355.0   \n",
       "2        2,381,741           317,000       24.28         213.0   \n",
       "3              468                51        7.20         376.0   \n",
       "4        1,246,700           117,000       40.73         244.0   \n",
       "..             ...               ...         ...           ...   \n",
       "190        912,050           343,000       17.88          58.0   \n",
       "191        331,210           522,000       16.75          84.0   \n",
       "192        527,968            40,000       30.45         967.0   \n",
       "193        752,618            16,000       36.19         260.0   \n",
       "194        390,757            51,000       30.68         263.0   \n",
       "\n",
       "    Capital/Major City Co2-Emissions  ... Out of pocket health expenditure  \\\n",
       "0                Kabul         8,672  ...                           78.40%   \n",
       "1               Tirana         4,536  ...                           56.90%   \n",
       "2              Algiers       150,006  ...                           28.10%   \n",
       "3     Andorra la Vella           469  ...                           36.40%   \n",
       "4               Luanda        34,693  ...                           33.40%   \n",
       "..                 ...           ...  ...                              ...   \n",
       "190            Caracas       164,175  ...                           45.80%   \n",
       "191              Hanoi       192,668  ...                           43.50%   \n",
       "192              Sanaa        10,609  ...                           81.00%   \n",
       "193             Lusaka         5,141  ...                           27.50%   \n",
       "194             Harare        10,983  ...                           25.80%   \n",
       "\n",
       "    Physicians per thousand  Population  \\\n",
       "0                      0.28  38,041,754   \n",
       "1                      1.20   2,854,191   \n",
       "2                      1.72  43,053,054   \n",
       "3                      3.33      77,142   \n",
       "4                      0.21  31,825,295   \n",
       "..                      ...         ...   \n",
       "190                    1.92  28,515,829   \n",
       "191                    0.82  96,462,106   \n",
       "192                    0.31  29,161,922   \n",
       "193                    1.19  17,861,030   \n",
       "194                    0.21  14,645,468   \n",
       "\n",
       "     Population: Labor force participation (%) Tax revenue (%) Total tax rate  \\\n",
       "0                                       48.90%           9.30%         71.40%   \n",
       "1                                       55.70%          18.60%         36.60%   \n",
       "2                                       41.20%          37.20%         66.10%   \n",
       "3                                           51              51             51   \n",
       "4                                       77.50%           9.20%         49.10%   \n",
       "..                                         ...             ...            ...   \n",
       "190                                     59.70%              51         73.30%   \n",
       "191                                     77.40%          19.10%         37.60%   \n",
       "192                                     38.00%              51         26.60%   \n",
       "193                                     74.60%          16.20%         15.60%   \n",
       "194                                     83.10%          20.70%         31.60%   \n",
       "\n",
       "    Unemployment rate Urban_population   Latitude   Longitude  \n",
       "0              11.12%        9,797,273  33.939110   67.709953  \n",
       "1              12.33%        1,747,593  41.153332   20.168331  \n",
       "2              11.70%       31,510,100  28.033886    1.659626  \n",
       "3                  51           67,873  42.506285    1.521801  \n",
       "4               6.89%       21,061,025 -11.202692   17.873887  \n",
       "..                ...              ...        ...         ...  \n",
       "190             8.80%       25,162,368   6.423750  -66.589730  \n",
       "191             2.01%       35,332,140  14.058324  108.277199  \n",
       "192            12.91%       10,869,523  15.552727   48.516388  \n",
       "193            11.43%        7,871,713 -13.133897   27.849332  \n",
       "194             4.95%        4,717,305 -19.015438   29.154857  \n",
       "\n",
       "[195 rows x 35 columns]"
      ]
     },
     "execution_count": 115,
     "metadata": {},
     "output_type": "execute_result"
    }
   ],
   "source": [
    "b=a.fillna(value=51)\n",
    "b"
   ]
  },
  {
   "cell_type": "code",
   "execution_count": 116,
   "id": "d1a9ad6f",
   "metadata": {},
   "outputs": [
    {
     "data": {
      "text/html": [
       "<div>\n",
       "<style scoped>\n",
       "    .dataframe tbody tr th:only-of-type {\n",
       "        vertical-align: middle;\n",
       "    }\n",
       "\n",
       "    .dataframe tbody tr th {\n",
       "        vertical-align: top;\n",
       "    }\n",
       "\n",
       "    .dataframe thead th {\n",
       "        text-align: right;\n",
       "    }\n",
       "</style>\n",
       "<table border=\"1\" class=\"dataframe\">\n",
       "  <thead>\n",
       "    <tr style=\"text-align: right;\">\n",
       "      <th></th>\n",
       "      <th>Country</th>\n",
       "      <th>Density\\n(P/Km2)</th>\n",
       "      <th>Abbreviation</th>\n",
       "      <th>Agricultural Land( %)</th>\n",
       "      <th>Land Area(Km2)</th>\n",
       "      <th>Armed Forces size</th>\n",
       "      <th>Birth Rate</th>\n",
       "      <th>Calling Code</th>\n",
       "      <th>Capital/Major City</th>\n",
       "      <th>Co2-Emissions</th>\n",
       "      <th>...</th>\n",
       "      <th>Out of pocket health expenditure</th>\n",
       "      <th>Physicians per thousand</th>\n",
       "      <th>Population</th>\n",
       "      <th>Population: Labor force participation (%)</th>\n",
       "      <th>Tax revenue (%)</th>\n",
       "      <th>Total tax rate</th>\n",
       "      <th>Unemployment rate</th>\n",
       "      <th>Urban_population</th>\n",
       "      <th>Latitude</th>\n",
       "      <th>Longitude</th>\n",
       "    </tr>\n",
       "  </thead>\n",
       "  <tbody>\n",
       "    <tr>\n",
       "      <th>0</th>\n",
       "      <td>Afghanistan</td>\n",
       "      <td>60</td>\n",
       "      <td>AF</td>\n",
       "      <td>58.10%</td>\n",
       "      <td>652,230</td>\n",
       "      <td>323,000</td>\n",
       "      <td>32.49</td>\n",
       "      <td>93.0</td>\n",
       "      <td>Kabul</td>\n",
       "      <td>8,672</td>\n",
       "      <td>...</td>\n",
       "      <td>78.40%</td>\n",
       "      <td>0.28</td>\n",
       "      <td>38,041,754</td>\n",
       "      <td>48.90%</td>\n",
       "      <td>9.30%</td>\n",
       "      <td>71.40%</td>\n",
       "      <td>11.12%</td>\n",
       "      <td>9,797,273</td>\n",
       "      <td>33.939110</td>\n",
       "      <td>67.709953</td>\n",
       "    </tr>\n",
       "    <tr>\n",
       "      <th>1</th>\n",
       "      <td>Albania</td>\n",
       "      <td>105</td>\n",
       "      <td>AL</td>\n",
       "      <td>43.10%</td>\n",
       "      <td>28,748</td>\n",
       "      <td>9,000</td>\n",
       "      <td>11.78</td>\n",
       "      <td>355.0</td>\n",
       "      <td>Tirana</td>\n",
       "      <td>4,536</td>\n",
       "      <td>...</td>\n",
       "      <td>56.90%</td>\n",
       "      <td>1.20</td>\n",
       "      <td>2,854,191</td>\n",
       "      <td>55.70%</td>\n",
       "      <td>18.60%</td>\n",
       "      <td>36.60%</td>\n",
       "      <td>12.33%</td>\n",
       "      <td>1,747,593</td>\n",
       "      <td>41.153332</td>\n",
       "      <td>20.168331</td>\n",
       "    </tr>\n",
       "    <tr>\n",
       "      <th>2</th>\n",
       "      <td>Algeria</td>\n",
       "      <td>18</td>\n",
       "      <td>DZ</td>\n",
       "      <td>17.40%</td>\n",
       "      <td>2,381,741</td>\n",
       "      <td>317,000</td>\n",
       "      <td>24.28</td>\n",
       "      <td>213.0</td>\n",
       "      <td>Algiers</td>\n",
       "      <td>150,006</td>\n",
       "      <td>...</td>\n",
       "      <td>28.10%</td>\n",
       "      <td>1.72</td>\n",
       "      <td>43,053,054</td>\n",
       "      <td>41.20%</td>\n",
       "      <td>37.20%</td>\n",
       "      <td>66.10%</td>\n",
       "      <td>11.70%</td>\n",
       "      <td>31,510,100</td>\n",
       "      <td>28.033886</td>\n",
       "      <td>1.659626</td>\n",
       "    </tr>\n",
       "    <tr>\n",
       "      <th>3</th>\n",
       "      <td>Andorra</td>\n",
       "      <td>164</td>\n",
       "      <td>AD</td>\n",
       "      <td>40.00%</td>\n",
       "      <td>468</td>\n",
       "      <td>51</td>\n",
       "      <td>7.20</td>\n",
       "      <td>376.0</td>\n",
       "      <td>Andorra la Vella</td>\n",
       "      <td>469</td>\n",
       "      <td>...</td>\n",
       "      <td>36.40%</td>\n",
       "      <td>3.33</td>\n",
       "      <td>77,142</td>\n",
       "      <td>51</td>\n",
       "      <td>51</td>\n",
       "      <td>51</td>\n",
       "      <td>51</td>\n",
       "      <td>67,873</td>\n",
       "      <td>42.506285</td>\n",
       "      <td>1.521801</td>\n",
       "    </tr>\n",
       "    <tr>\n",
       "      <th>4</th>\n",
       "      <td>Angola</td>\n",
       "      <td>26</td>\n",
       "      <td>AO</td>\n",
       "      <td>47.50%</td>\n",
       "      <td>1,246,700</td>\n",
       "      <td>117,000</td>\n",
       "      <td>40.73</td>\n",
       "      <td>244.0</td>\n",
       "      <td>Luanda</td>\n",
       "      <td>34,693</td>\n",
       "      <td>...</td>\n",
       "      <td>33.40%</td>\n",
       "      <td>0.21</td>\n",
       "      <td>31,825,295</td>\n",
       "      <td>77.50%</td>\n",
       "      <td>9.20%</td>\n",
       "      <td>49.10%</td>\n",
       "      <td>6.89%</td>\n",
       "      <td>21,061,025</td>\n",
       "      <td>-11.202692</td>\n",
       "      <td>17.873887</td>\n",
       "    </tr>\n",
       "    <tr>\n",
       "      <th>5</th>\n",
       "      <td>Antigua and Barbuda</td>\n",
       "      <td>223</td>\n",
       "      <td>AG</td>\n",
       "      <td>20.50%</td>\n",
       "      <td>443</td>\n",
       "      <td>0</td>\n",
       "      <td>15.33</td>\n",
       "      <td>1.0</td>\n",
       "      <td>St. John's, Saint John</td>\n",
       "      <td>557</td>\n",
       "      <td>...</td>\n",
       "      <td>24.30%</td>\n",
       "      <td>2.76</td>\n",
       "      <td>97,118</td>\n",
       "      <td>51</td>\n",
       "      <td>16.50%</td>\n",
       "      <td>43.00%</td>\n",
       "      <td>51</td>\n",
       "      <td>23,800</td>\n",
       "      <td>17.060816</td>\n",
       "      <td>-61.796428</td>\n",
       "    </tr>\n",
       "    <tr>\n",
       "      <th>6</th>\n",
       "      <td>Argentina</td>\n",
       "      <td>17</td>\n",
       "      <td>AR</td>\n",
       "      <td>54.30%</td>\n",
       "      <td>2,780,400</td>\n",
       "      <td>105,000</td>\n",
       "      <td>17.02</td>\n",
       "      <td>54.0</td>\n",
       "      <td>Buenos Aires</td>\n",
       "      <td>201,348</td>\n",
       "      <td>...</td>\n",
       "      <td>17.60%</td>\n",
       "      <td>3.96</td>\n",
       "      <td>44,938,712</td>\n",
       "      <td>61.30%</td>\n",
       "      <td>10.10%</td>\n",
       "      <td>106.30%</td>\n",
       "      <td>9.79%</td>\n",
       "      <td>41,339,571</td>\n",
       "      <td>-38.416097</td>\n",
       "      <td>-63.616672</td>\n",
       "    </tr>\n",
       "    <tr>\n",
       "      <th>7</th>\n",
       "      <td>Armenia</td>\n",
       "      <td>104</td>\n",
       "      <td>AM</td>\n",
       "      <td>58.90%</td>\n",
       "      <td>29,743</td>\n",
       "      <td>49,000</td>\n",
       "      <td>13.99</td>\n",
       "      <td>374.0</td>\n",
       "      <td>Yerevan</td>\n",
       "      <td>5,156</td>\n",
       "      <td>...</td>\n",
       "      <td>81.60%</td>\n",
       "      <td>4.40</td>\n",
       "      <td>2,957,731</td>\n",
       "      <td>55.60%</td>\n",
       "      <td>20.90%</td>\n",
       "      <td>22.60%</td>\n",
       "      <td>16.99%</td>\n",
       "      <td>1,869,848</td>\n",
       "      <td>40.069099</td>\n",
       "      <td>45.038189</td>\n",
       "    </tr>\n",
       "    <tr>\n",
       "      <th>8</th>\n",
       "      <td>Australia</td>\n",
       "      <td>3</td>\n",
       "      <td>AU</td>\n",
       "      <td>48.20%</td>\n",
       "      <td>7,741,220</td>\n",
       "      <td>58,000</td>\n",
       "      <td>12.60</td>\n",
       "      <td>61.0</td>\n",
       "      <td>Canberra</td>\n",
       "      <td>375,908</td>\n",
       "      <td>...</td>\n",
       "      <td>19.60%</td>\n",
       "      <td>3.68</td>\n",
       "      <td>25,766,605</td>\n",
       "      <td>65.50%</td>\n",
       "      <td>23.00%</td>\n",
       "      <td>47.40%</td>\n",
       "      <td>5.27%</td>\n",
       "      <td>21,844,756</td>\n",
       "      <td>-25.274398</td>\n",
       "      <td>133.775136</td>\n",
       "    </tr>\n",
       "    <tr>\n",
       "      <th>9</th>\n",
       "      <td>Austria</td>\n",
       "      <td>109</td>\n",
       "      <td>AT</td>\n",
       "      <td>32.40%</td>\n",
       "      <td>83,871</td>\n",
       "      <td>21,000</td>\n",
       "      <td>9.70</td>\n",
       "      <td>43.0</td>\n",
       "      <td>Vienna</td>\n",
       "      <td>61,448</td>\n",
       "      <td>...</td>\n",
       "      <td>17.90%</td>\n",
       "      <td>5.17</td>\n",
       "      <td>8,877,067</td>\n",
       "      <td>60.70%</td>\n",
       "      <td>25.40%</td>\n",
       "      <td>51.40%</td>\n",
       "      <td>4.67%</td>\n",
       "      <td>5,194,416</td>\n",
       "      <td>47.516231</td>\n",
       "      <td>14.550072</td>\n",
       "    </tr>\n",
       "  </tbody>\n",
       "</table>\n",
       "<p>10 rows × 35 columns</p>\n",
       "</div>"
      ],
      "text/plain": [
       "               Country Density\\n(P/Km2) Abbreviation Agricultural Land( %)  \\\n",
       "0          Afghanistan               60           AF                58.10%   \n",
       "1              Albania              105           AL                43.10%   \n",
       "2              Algeria               18           DZ                17.40%   \n",
       "3              Andorra              164           AD                40.00%   \n",
       "4               Angola               26           AO                47.50%   \n",
       "5  Antigua and Barbuda              223           AG                20.50%   \n",
       "6            Argentina               17           AR                54.30%   \n",
       "7              Armenia              104           AM                58.90%   \n",
       "8            Australia                3           AU                48.20%   \n",
       "9              Austria              109           AT                32.40%   \n",
       "\n",
       "  Land Area(Km2) Armed Forces size  Birth Rate  Calling Code  \\\n",
       "0        652,230           323,000       32.49          93.0   \n",
       "1         28,748             9,000       11.78         355.0   \n",
       "2      2,381,741           317,000       24.28         213.0   \n",
       "3            468                51        7.20         376.0   \n",
       "4      1,246,700           117,000       40.73         244.0   \n",
       "5            443                 0       15.33           1.0   \n",
       "6      2,780,400           105,000       17.02          54.0   \n",
       "7         29,743            49,000       13.99         374.0   \n",
       "8      7,741,220            58,000       12.60          61.0   \n",
       "9         83,871            21,000        9.70          43.0   \n",
       "\n",
       "       Capital/Major City Co2-Emissions  ... Out of pocket health expenditure  \\\n",
       "0                   Kabul         8,672  ...                           78.40%   \n",
       "1                  Tirana         4,536  ...                           56.90%   \n",
       "2                 Algiers       150,006  ...                           28.10%   \n",
       "3        Andorra la Vella           469  ...                           36.40%   \n",
       "4                  Luanda        34,693  ...                           33.40%   \n",
       "5  St. John's, Saint John           557  ...                           24.30%   \n",
       "6            Buenos Aires       201,348  ...                           17.60%   \n",
       "7                 Yerevan         5,156  ...                           81.60%   \n",
       "8                Canberra       375,908  ...                           19.60%   \n",
       "9                  Vienna        61,448  ...                           17.90%   \n",
       "\n",
       "  Physicians per thousand  Population  \\\n",
       "0                    0.28  38,041,754   \n",
       "1                    1.20   2,854,191   \n",
       "2                    1.72  43,053,054   \n",
       "3                    3.33      77,142   \n",
       "4                    0.21  31,825,295   \n",
       "5                    2.76      97,118   \n",
       "6                    3.96  44,938,712   \n",
       "7                    4.40   2,957,731   \n",
       "8                    3.68  25,766,605   \n",
       "9                    5.17   8,877,067   \n",
       "\n",
       "   Population: Labor force participation (%) Tax revenue (%) Total tax rate  \\\n",
       "0                                     48.90%           9.30%         71.40%   \n",
       "1                                     55.70%          18.60%         36.60%   \n",
       "2                                     41.20%          37.20%         66.10%   \n",
       "3                                         51              51             51   \n",
       "4                                     77.50%           9.20%         49.10%   \n",
       "5                                         51          16.50%         43.00%   \n",
       "6                                     61.30%          10.10%        106.30%   \n",
       "7                                     55.60%          20.90%         22.60%   \n",
       "8                                     65.50%          23.00%         47.40%   \n",
       "9                                     60.70%          25.40%         51.40%   \n",
       "\n",
       "  Unemployment rate Urban_population   Latitude   Longitude  \n",
       "0            11.12%        9,797,273  33.939110   67.709953  \n",
       "1            12.33%        1,747,593  41.153332   20.168331  \n",
       "2            11.70%       31,510,100  28.033886    1.659626  \n",
       "3                51           67,873  42.506285    1.521801  \n",
       "4             6.89%       21,061,025 -11.202692   17.873887  \n",
       "5                51           23,800  17.060816  -61.796428  \n",
       "6             9.79%       41,339,571 -38.416097  -63.616672  \n",
       "7            16.99%        1,869,848  40.069099   45.038189  \n",
       "8             5.27%       21,844,756 -25.274398  133.775136  \n",
       "9             4.67%        5,194,416  47.516231   14.550072  \n",
       "\n",
       "[10 rows x 35 columns]"
      ]
     },
     "execution_count": 116,
     "metadata": {},
     "output_type": "execute_result"
    }
   ],
   "source": [
    "c=b.head(10)\n",
    "c"
   ]
  },
  {
   "cell_type": "code",
   "execution_count": 117,
   "id": "746a2840",
   "metadata": {},
   "outputs": [
    {
     "name": "stdout",
     "output_type": "stream",
     "text": [
      "<class 'pandas.core.frame.DataFrame'>\n",
      "RangeIndex: 195 entries, 0 to 194\n",
      "Data columns (total 35 columns):\n",
      " #   Column                                     Non-Null Count  Dtype  \n",
      "---  ------                                     --------------  -----  \n",
      " 0   Country                                    195 non-null    object \n",
      " 1   Density\n",
      "(P/Km2)                            195 non-null    object \n",
      " 2   Abbreviation                               188 non-null    object \n",
      " 3   Agricultural Land( %)                      188 non-null    object \n",
      " 4   Land Area(Km2)                             194 non-null    object \n",
      " 5   Armed Forces size                          171 non-null    object \n",
      " 6   Birth Rate                                 189 non-null    float64\n",
      " 7   Calling Code                               194 non-null    float64\n",
      " 8   Capital/Major City                         192 non-null    object \n",
      " 9   Co2-Emissions                              188 non-null    object \n",
      " 10  CPI                                        178 non-null    object \n",
      " 11  CPI Change (%)                             179 non-null    object \n",
      " 12  Currency-Code                              180 non-null    object \n",
      " 13  Fertility Rate                             188 non-null    float64\n",
      " 14  Forested Area (%)                          188 non-null    object \n",
      " 15  Gasoline Price                             175 non-null    object \n",
      " 16  GDP                                        193 non-null    object \n",
      " 17  Gross primary education enrollment (%)     188 non-null    object \n",
      " 18  Gross tertiary education enrollment (%)    183 non-null    object \n",
      " 19  Infant mortality                           189 non-null    float64\n",
      " 20  Largest city                               189 non-null    object \n",
      " 21  Life expectancy                            187 non-null    float64\n",
      " 22  Maternal mortality ratio                   181 non-null    float64\n",
      " 23  Minimum wage                               150 non-null    object \n",
      " 24  Official language                          194 non-null    object \n",
      " 25  Out of pocket health expenditure           188 non-null    object \n",
      " 26  Physicians per thousand                    188 non-null    float64\n",
      " 27  Population                                 194 non-null    object \n",
      " 28  Population: Labor force participation (%)  176 non-null    object \n",
      " 29  Tax revenue (%)                            169 non-null    object \n",
      " 30  Total tax rate                             183 non-null    object \n",
      " 31  Unemployment rate                          176 non-null    object \n",
      " 32  Urban_population                           190 non-null    object \n",
      " 33  Latitude                                   194 non-null    float64\n",
      " 34  Longitude                                  194 non-null    float64\n",
      "dtypes: float64(9), object(26)\n",
      "memory usage: 53.4+ KB\n"
     ]
    }
   ],
   "source": [
    "a.info()"
   ]
  },
  {
   "cell_type": "code",
   "execution_count": 118,
   "id": "a696978e",
   "metadata": {},
   "outputs": [
    {
     "data": {
      "text/html": [
       "<div>\n",
       "<style scoped>\n",
       "    .dataframe tbody tr th:only-of-type {\n",
       "        vertical-align: middle;\n",
       "    }\n",
       "\n",
       "    .dataframe tbody tr th {\n",
       "        vertical-align: top;\n",
       "    }\n",
       "\n",
       "    .dataframe thead th {\n",
       "        text-align: right;\n",
       "    }\n",
       "</style>\n",
       "<table border=\"1\" class=\"dataframe\">\n",
       "  <thead>\n",
       "    <tr style=\"text-align: right;\">\n",
       "      <th></th>\n",
       "      <th>Birth Rate</th>\n",
       "      <th>Calling Code</th>\n",
       "      <th>Fertility Rate</th>\n",
       "      <th>Infant mortality</th>\n",
       "      <th>Life expectancy</th>\n",
       "      <th>Maternal mortality ratio</th>\n",
       "      <th>Physicians per thousand</th>\n",
       "      <th>Latitude</th>\n",
       "      <th>Longitude</th>\n",
       "    </tr>\n",
       "  </thead>\n",
       "  <tbody>\n",
       "    <tr>\n",
       "      <th>count</th>\n",
       "      <td>189.000000</td>\n",
       "      <td>194.000000</td>\n",
       "      <td>188.000000</td>\n",
       "      <td>189.000000</td>\n",
       "      <td>187.000000</td>\n",
       "      <td>181.000000</td>\n",
       "      <td>188.000000</td>\n",
       "      <td>194.000000</td>\n",
       "      <td>194.000000</td>\n",
       "    </tr>\n",
       "    <tr>\n",
       "      <th>mean</th>\n",
       "      <td>20.214974</td>\n",
       "      <td>360.546392</td>\n",
       "      <td>2.698138</td>\n",
       "      <td>21.332804</td>\n",
       "      <td>72.279679</td>\n",
       "      <td>160.392265</td>\n",
       "      <td>1.839840</td>\n",
       "      <td>19.092351</td>\n",
       "      <td>20.232434</td>\n",
       "    </tr>\n",
       "    <tr>\n",
       "      <th>std</th>\n",
       "      <td>9.945774</td>\n",
       "      <td>323.236419</td>\n",
       "      <td>1.282267</td>\n",
       "      <td>19.548058</td>\n",
       "      <td>7.483661</td>\n",
       "      <td>233.502024</td>\n",
       "      <td>1.684261</td>\n",
       "      <td>23.961779</td>\n",
       "      <td>66.716110</td>\n",
       "    </tr>\n",
       "    <tr>\n",
       "      <th>min</th>\n",
       "      <td>5.900000</td>\n",
       "      <td>1.000000</td>\n",
       "      <td>0.980000</td>\n",
       "      <td>1.400000</td>\n",
       "      <td>52.800000</td>\n",
       "      <td>2.000000</td>\n",
       "      <td>0.010000</td>\n",
       "      <td>-40.900557</td>\n",
       "      <td>-175.198242</td>\n",
       "    </tr>\n",
       "    <tr>\n",
       "      <th>25%</th>\n",
       "      <td>11.300000</td>\n",
       "      <td>82.500000</td>\n",
       "      <td>1.705000</td>\n",
       "      <td>6.000000</td>\n",
       "      <td>67.000000</td>\n",
       "      <td>13.000000</td>\n",
       "      <td>0.332500</td>\n",
       "      <td>4.544175</td>\n",
       "      <td>-7.941496</td>\n",
       "    </tr>\n",
       "    <tr>\n",
       "      <th>50%</th>\n",
       "      <td>17.950000</td>\n",
       "      <td>255.500000</td>\n",
       "      <td>2.245000</td>\n",
       "      <td>14.000000</td>\n",
       "      <td>73.200000</td>\n",
       "      <td>53.000000</td>\n",
       "      <td>1.460000</td>\n",
       "      <td>17.273849</td>\n",
       "      <td>20.972652</td>\n",
       "    </tr>\n",
       "    <tr>\n",
       "      <th>75%</th>\n",
       "      <td>28.750000</td>\n",
       "      <td>506.750000</td>\n",
       "      <td>3.597500</td>\n",
       "      <td>32.700000</td>\n",
       "      <td>77.500000</td>\n",
       "      <td>186.000000</td>\n",
       "      <td>2.935000</td>\n",
       "      <td>40.124603</td>\n",
       "      <td>48.281523</td>\n",
       "    </tr>\n",
       "    <tr>\n",
       "      <th>max</th>\n",
       "      <td>46.080000</td>\n",
       "      <td>1876.000000</td>\n",
       "      <td>6.910000</td>\n",
       "      <td>84.500000</td>\n",
       "      <td>85.400000</td>\n",
       "      <td>1150.000000</td>\n",
       "      <td>8.420000</td>\n",
       "      <td>64.963051</td>\n",
       "      <td>178.065032</td>\n",
       "    </tr>\n",
       "  </tbody>\n",
       "</table>\n",
       "</div>"
      ],
      "text/plain": [
       "       Birth Rate  Calling Code  Fertility Rate  Infant mortality  \\\n",
       "count  189.000000    194.000000      188.000000        189.000000   \n",
       "mean    20.214974    360.546392        2.698138         21.332804   \n",
       "std      9.945774    323.236419        1.282267         19.548058   \n",
       "min      5.900000      1.000000        0.980000          1.400000   \n",
       "25%     11.300000     82.500000        1.705000          6.000000   \n",
       "50%     17.950000    255.500000        2.245000         14.000000   \n",
       "75%     28.750000    506.750000        3.597500         32.700000   \n",
       "max     46.080000   1876.000000        6.910000         84.500000   \n",
       "\n",
       "       Life expectancy  Maternal mortality ratio  Physicians per thousand  \\\n",
       "count       187.000000                181.000000               188.000000   \n",
       "mean         72.279679                160.392265                 1.839840   \n",
       "std           7.483661                233.502024                 1.684261   \n",
       "min          52.800000                  2.000000                 0.010000   \n",
       "25%          67.000000                 13.000000                 0.332500   \n",
       "50%          73.200000                 53.000000                 1.460000   \n",
       "75%          77.500000                186.000000                 2.935000   \n",
       "max          85.400000               1150.000000                 8.420000   \n",
       "\n",
       "         Latitude   Longitude  \n",
       "count  194.000000  194.000000  \n",
       "mean    19.092351   20.232434  \n",
       "std     23.961779   66.716110  \n",
       "min    -40.900557 -175.198242  \n",
       "25%      4.544175   -7.941496  \n",
       "50%     17.273849   20.972652  \n",
       "75%     40.124603   48.281523  \n",
       "max     64.963051  178.065032  "
      ]
     },
     "execution_count": 118,
     "metadata": {},
     "output_type": "execute_result"
    }
   ],
   "source": [
    "a.describe()"
   ]
  },
  {
   "cell_type": "code",
   "execution_count": 119,
   "id": "a03e0072",
   "metadata": {},
   "outputs": [
    {
     "data": {
      "text/plain": [
       "Index(['Country', 'Density\\n(P/Km2)', 'Abbreviation', 'Agricultural Land( %)',\n",
       "       'Land Area(Km2)', 'Armed Forces size', 'Birth Rate', 'Calling Code',\n",
       "       'Capital/Major City', 'Co2-Emissions', 'CPI', 'CPI Change (%)',\n",
       "       'Currency-Code', 'Fertility Rate', 'Forested Area (%)',\n",
       "       'Gasoline Price', 'GDP', 'Gross primary education enrollment (%)',\n",
       "       'Gross tertiary education enrollment (%)', 'Infant mortality',\n",
       "       'Largest city', 'Life expectancy', 'Maternal mortality ratio',\n",
       "       'Minimum wage', 'Official language', 'Out of pocket health expenditure',\n",
       "       'Physicians per thousand', 'Population',\n",
       "       'Population: Labor force participation (%)', 'Tax revenue (%)',\n",
       "       'Total tax rate', 'Unemployment rate', 'Urban_population', 'Latitude',\n",
       "       'Longitude'],\n",
       "      dtype='object')"
      ]
     },
     "execution_count": 119,
     "metadata": {},
     "output_type": "execute_result"
    }
   ],
   "source": [
    "c.columns"
   ]
  },
  {
   "cell_type": "code",
   "execution_count": 120,
   "id": "329d1af2",
   "metadata": {},
   "outputs": [
    {
     "data": {
      "text/html": [
       "<div>\n",
       "<style scoped>\n",
       "    .dataframe tbody tr th:only-of-type {\n",
       "        vertical-align: middle;\n",
       "    }\n",
       "\n",
       "    .dataframe tbody tr th {\n",
       "        vertical-align: top;\n",
       "    }\n",
       "\n",
       "    .dataframe thead th {\n",
       "        text-align: right;\n",
       "    }\n",
       "</style>\n",
       "<table border=\"1\" class=\"dataframe\">\n",
       "  <thead>\n",
       "    <tr style=\"text-align: right;\">\n",
       "      <th></th>\n",
       "      <th>Density\\n(P/Km2)</th>\n",
       "      <th>Urban_population</th>\n",
       "      <th>Latitude</th>\n",
       "      <th>Longitude</th>\n",
       "    </tr>\n",
       "  </thead>\n",
       "  <tbody>\n",
       "    <tr>\n",
       "      <th>0</th>\n",
       "      <td>60</td>\n",
       "      <td>9,797,273</td>\n",
       "      <td>33.939110</td>\n",
       "      <td>67.709953</td>\n",
       "    </tr>\n",
       "    <tr>\n",
       "      <th>1</th>\n",
       "      <td>105</td>\n",
       "      <td>1,747,593</td>\n",
       "      <td>41.153332</td>\n",
       "      <td>20.168331</td>\n",
       "    </tr>\n",
       "    <tr>\n",
       "      <th>2</th>\n",
       "      <td>18</td>\n",
       "      <td>31,510,100</td>\n",
       "      <td>28.033886</td>\n",
       "      <td>1.659626</td>\n",
       "    </tr>\n",
       "    <tr>\n",
       "      <th>3</th>\n",
       "      <td>164</td>\n",
       "      <td>67,873</td>\n",
       "      <td>42.506285</td>\n",
       "      <td>1.521801</td>\n",
       "    </tr>\n",
       "    <tr>\n",
       "      <th>4</th>\n",
       "      <td>26</td>\n",
       "      <td>21,061,025</td>\n",
       "      <td>-11.202692</td>\n",
       "      <td>17.873887</td>\n",
       "    </tr>\n",
       "    <tr>\n",
       "      <th>5</th>\n",
       "      <td>223</td>\n",
       "      <td>23,800</td>\n",
       "      <td>17.060816</td>\n",
       "      <td>-61.796428</td>\n",
       "    </tr>\n",
       "    <tr>\n",
       "      <th>6</th>\n",
       "      <td>17</td>\n",
       "      <td>41,339,571</td>\n",
       "      <td>-38.416097</td>\n",
       "      <td>-63.616672</td>\n",
       "    </tr>\n",
       "    <tr>\n",
       "      <th>7</th>\n",
       "      <td>104</td>\n",
       "      <td>1,869,848</td>\n",
       "      <td>40.069099</td>\n",
       "      <td>45.038189</td>\n",
       "    </tr>\n",
       "    <tr>\n",
       "      <th>8</th>\n",
       "      <td>3</td>\n",
       "      <td>21,844,756</td>\n",
       "      <td>-25.274398</td>\n",
       "      <td>133.775136</td>\n",
       "    </tr>\n",
       "    <tr>\n",
       "      <th>9</th>\n",
       "      <td>109</td>\n",
       "      <td>5,194,416</td>\n",
       "      <td>47.516231</td>\n",
       "      <td>14.550072</td>\n",
       "    </tr>\n",
       "  </tbody>\n",
       "</table>\n",
       "</div>"
      ],
      "text/plain": [
       "  Density\\n(P/Km2) Urban_population   Latitude   Longitude\n",
       "0               60        9,797,273  33.939110   67.709953\n",
       "1              105        1,747,593  41.153332   20.168331\n",
       "2               18       31,510,100  28.033886    1.659626\n",
       "3              164           67,873  42.506285    1.521801\n",
       "4               26       21,061,025 -11.202692   17.873887\n",
       "5              223           23,800  17.060816  -61.796428\n",
       "6               17       41,339,571 -38.416097  -63.616672\n",
       "7              104        1,869,848  40.069099   45.038189\n",
       "8                3       21,844,756 -25.274398  133.775136\n",
       "9              109        5,194,416  47.516231   14.550072"
      ]
     },
     "execution_count": 120,
     "metadata": {},
     "output_type": "execute_result"
    }
   ],
   "source": [
    "d=c[['Density\\n(P/Km2)','Urban_population', 'Latitude',\n",
    "       'Longitude']]\n",
    "d"
   ]
  },
  {
   "cell_type": "code",
   "execution_count": 121,
   "id": "23d0494a",
   "metadata": {},
   "outputs": [
    {
     "data": {
      "text/plain": [
       "<seaborn.axisgrid.PairGrid at 0x217e09599a0>"
      ]
     },
     "execution_count": 121,
     "metadata": {},
     "output_type": "execute_result"
    },
    {
     "data": {
      "image/png": "[encoded data removed]",
      "text/plain": [
       "<Figure size 360x360 with 6 Axes>"
      ]
     },
     "metadata": {
      "needs_background": "light"
     },
     "output_type": "display_data"
    }
   ],
   "source": [
    "sns.pairplot(d)"
   ]
  },
  {
   "cell_type": "code",
   "execution_count": 122,
   "id": "87bea178",
   "metadata": {},
   "outputs": [
    {
     "name": "stderr",
     "output_type": "stream",
     "text": [
      "C:\\ProgramData\\Anaconda3\\lib\\site-packages\\seaborn\\distributions.py:2557: FutureWarning: `distplot` is a deprecated function and will be removed in a future version. Please adapt your code to use either `displot` (a figure-level function with similar flexibility) or `histplot` (an axes-level function for histograms).\n",
      "  warnings.warn(msg, FutureWarning)\n"
     ]
    },
    {
     "data": {
      "text/plain": [
       "<AxesSubplot:xlabel='Latitude', ylabel='Density'>"
      ]
     },
     "execution_count": 122,
     "metadata": {},
     "output_type": "execute_result"
    },
    {
     "data": {
      "image/png": "[encoded data removed]",
      "text/plain": [
       "<Figure size 432x288 with 1 Axes>"
      ]
     },
     "metadata": {
      "needs_background": "light"
     },
     "output_type": "display_data"
    }
   ],
   "source": [
    "sns.distplot(d['Latitude'])"
   ]
  },
  {
   "cell_type": "code",
   "execution_count": 123,
   "id": "2b5b36c5",
   "metadata": {},
   "outputs": [
    {
     "data": {
      "text/plain": [
       "<AxesSubplot:>"
      ]
     },
     "execution_count": 123,
     "metadata": {},
     "output_type": "execute_result"
    },
    {
     "data": {
      "image/png": "[encoded data removed]",
      "text/plain": [
       "<Figure size 432x288 with 2 Axes>"
      ]
     },
     "metadata": {
      "needs_background": "light"
     },
     "output_type": "display_data"
    }
   ],
   "source": [
    "sns.heatmap(d.corr())"
   ]
  },
  {
   "cell_type": "code",
   "execution_count": 124,
   "id": "248e04c2",
   "metadata": {},
   "outputs": [],
   "source": [
    "x=d[['Density\\n(P/Km2)','Latitude',\n",
    "       'Longitude']]\n",
    "y=d['Latitude']"
   ]
  },
  {
   "cell_type": "code",
   "execution_count": 125,
   "id": "4aba1f33",
   "metadata": {},
   "outputs": [],
   "source": [
    "x_train,x_test,y_train,y_test=train_test_split(x,y,test_size=0.3)"
   ]
  },
  {
   "cell_type": "code",
   "execution_count": 126,
   "id": "40cfda1c",
   "metadata": {},
   "outputs": [
    {
     "data": {
      "text/plain": [
       "LinearRegression()"
      ]
     },
     "execution_count": 126,
     "metadata": {},
     "output_type": "execute_result"
    }
   ],
   "source": [
    "lr=LinearRegression()\n",
    "lr.fit(x_train,y_train)"
   ]
  },
  {
   "cell_type": "code",
   "execution_count": 127,
   "id": "84841af4",
   "metadata": {},
   "outputs": [
    {
     "name": "stdout",
     "output_type": "stream",
     "text": [
      "-1.0658141036401503e-14\n"
     ]
    }
   ],
   "source": [
    "print(lr.intercept_)\n"
   ]
  },
  {
   "cell_type": "code",
   "execution_count": 128,
   "id": "c6eadaa0",
   "metadata": {},
   "outputs": [
    {
     "data": {
      "text/html": [
       "<div>\n",
       "<style scoped>\n",
       "    .dataframe tbody tr th:only-of-type {\n",
       "        vertical-align: middle;\n",
       "    }\n",
       "\n",
       "    .dataframe tbody tr th {\n",
       "        vertical-align: top;\n",
       "    }\n",
       "\n",
       "    .dataframe thead th {\n",
       "        text-align: right;\n",
       "    }\n",
       "</style>\n",
       "<table border=\"1\" class=\"dataframe\">\n",
       "  <thead>\n",
       "    <tr style=\"text-align: right;\">\n",
       "      <th></th>\n",
       "      <th>Co-efficient</th>\n",
       "    </tr>\n",
       "  </thead>\n",
       "  <tbody>\n",
       "    <tr>\n",
       "      <th>Density\\n(P/Km2)</th>\n",
       "      <td>2.906770e-16</td>\n",
       "    </tr>\n",
       "    <tr>\n",
       "      <th>Latitude</th>\n",
       "      <td>1.000000e+00</td>\n",
       "    </tr>\n",
       "    <tr>\n",
       "      <th>Longitude</th>\n",
       "      <td>-5.332036e-17</td>\n",
       "    </tr>\n",
       "  </tbody>\n",
       "</table>\n",
       "</div>"
      ],
      "text/plain": [
       "                  Co-efficient\n",
       "Density\\n(P/Km2)  2.906770e-16\n",
       "Latitude          1.000000e+00\n",
       "Longitude        -5.332036e-17"
      ]
     },
     "execution_count": 128,
     "metadata": {},
     "output_type": "execute_result"
    }
   ],
   "source": [
    "coeff=pd.DataFrame(lr.coef_,x.columns,columns=['Co-efficient'])\n",
    "coeff"
   ]
  },
  {
   "cell_type": "code",
   "execution_count": 129,
   "id": "ad857e0f",
   "metadata": {},
   "outputs": [
    {
     "data": {
      "text/plain": [
       "<matplotlib.collections.PathCollection at 0x217e0c2fcd0>"
      ]
     },
     "execution_count": 129,
     "metadata": {},
     "output_type": "execute_result"
    },
    {
     "data": {
      "image/png": "[encoded data removed]",
      "text/plain": [
       "<Figure size 432x288 with 1 Axes>"
      ]
     },
     "metadata": {
      "needs_background": "light"
     },
     "output_type": "display_data"
    }
   ],
   "source": [
    "prediction=lr.predict(x_test)\n",
    "plt.scatter(y_test,prediction)"
   ]
  },
  {
   "cell_type": "code",
   "execution_count": 130,
   "id": "f407f7b3",
   "metadata": {},
   "outputs": [
    {
     "name": "stdout",
     "output_type": "stream",
     "text": [
      "1.0\n"
     ]
    }
   ],
   "source": [
    "print(lr.score(x_test,y_test))"
   ]
  },
  {
   "cell_type": "code",
   "execution_count": 131,
   "id": "1b0a4087",
   "metadata": {},
   "outputs": [],
   "source": [
    "from sklearn.linear_model import Ridge,Lasso"
   ]
  },
  {
   "cell_type": "code",
   "execution_count": 132,
   "id": "1ffdab4d",
   "metadata": {},
   "outputs": [
    {
     "data": {
      "text/plain": [
       "Ridge(alpha=10)"
      ]
     },
     "execution_count": 132,
     "metadata": {},
     "output_type": "execute_result"
    }
   ],
   "source": [
    "rr=Ridge(alpha=10)\n",
    "rr.fit(x_train,y_train)"
   ]
  },
  {
   "cell_type": "code",
   "execution_count": 133,
   "id": "a0dcc76d",
   "metadata": {},
   "outputs": [
    {
     "data": {
      "text/plain": [
       "0.9996940751514699"
      ]
     },
     "execution_count": 133,
     "metadata": {},
     "output_type": "execute_result"
    }
   ],
   "source": [
    "rr.score(x_test,y_test)"
   ]
  },
  {
   "cell_type": "code",
   "execution_count": 134,
   "id": "58b67dfa",
   "metadata": {},
   "outputs": [
    {
     "data": {
      "text/plain": [
       "Lasso(alpha=10)"
      ]
     },
     "execution_count": 134,
     "metadata": {},
     "output_type": "execute_result"
    }
   ],
   "source": [
    "la=Lasso(alpha=10)\n",
    "la.fit(x_train,y_train)"
   ]
  },
  {
   "cell_type": "code",
   "execution_count": 135,
   "id": "73b4f422",
   "metadata": {},
   "outputs": [
    {
     "data": {
      "text/plain": [
       "0.9994946274260796"
      ]
     },
     "execution_count": 135,
     "metadata": {},
     "output_type": "execute_result"
    }
   ],
   "source": [
    "la.score(x_test,y_test)"
   ]
  },
  {
   "cell_type": "code",
   "execution_count": 136,
   "id": "fc7621b3",
   "metadata": {},
   "outputs": [
    {
     "data": {
      "text/plain": [
       "ElasticNet()"
      ]
     },
     "execution_count": 136,
     "metadata": {},
     "output_type": "execute_result"
    }
   ],
   "source": [
    "en=ElasticNet()\n",
    "en.fit(x_train,y_train)"
   ]
  },
  {
   "cell_type": "code",
   "execution_count": 137,
   "id": "4bf00fa1",
   "metadata": {},
   "outputs": [
    {
     "name": "stdout",
     "output_type": "stream",
     "text": [
      "[9.68190444e-04 9.98012216e-01 0.00000000e+00]\n"
     ]
    }
   ],
   "source": [
    "print(en.coef_)"
   ]
  },
  {
   "cell_type": "code",
   "execution_count": 138,
   "id": "0a0658d4",
   "metadata": {},
   "outputs": [
    {
     "name": "stdout",
     "output_type": "stream",
     "text": [
      "-0.02666247441751146\n"
     ]
    }
   ],
   "source": [
    "print(en.intercept_)"
   ]
  },
  {
   "cell_type": "code",
   "execution_count": 139,
   "id": "53c2dd99",
   "metadata": {},
   "outputs": [
    {
     "name": "stdout",
     "output_type": "stream",
     "text": [
      "0.9999500554619002\n"
     ]
    }
   ],
   "source": [
    "prediction=en.predict(x_test)\n",
    "print(en.score(x_test,y_test))"
   ]
  },
  {
   "cell_type": "markdown",
   "id": "51eca601",
   "metadata": {},
   "source": [
    "# Evaluation Metrics"
   ]
  },
  {
   "cell_type": "code",
   "execution_count": 140,
   "id": "28fbdcab",
   "metadata": {},
   "outputs": [
    {
     "name": "stdout",
     "output_type": "stream",
     "text": [
      "Mean Absolute Error: 0.07284664765712161\n"
     ]
    }
   ],
   "source": [
    "print('Mean Absolute Error:',metrics.mean_absolute_error(y_test,prediction))"
   ]
  },
  {
   "cell_type": "code",
   "execution_count": 141,
   "id": "066c5fb5",
   "metadata": {},
   "outputs": [
    {
     "name": "stdout",
     "output_type": "stream",
     "text": [
      "mean Squared Error: 0.008879604769335657\n"
     ]
    }
   ],
   "source": [
    "print(\"mean Squared Error:\",metrics.mean_squared_error(y_test,prediction))"
   ]
  },
  {
   "cell_type": "code",
   "execution_count": 142,
   "id": "0f5f94fe",
   "metadata": {},
   "outputs": [
    {
     "name": "stdout",
     "output_type": "stream",
     "text": [
      "Root mean Squared Error: 0.0942316548158614\n"
     ]
    }
   ],
   "source": [
    "print(\"Root mean Squared Error:\",np.sqrt(metrics.mean_squared_error(y_test,prediction)))"
   ]
  },
  {
   "cell_type": "code",
   "execution_count": null,
   "id": "09ca0031",
   "metadata": {},
   "outputs": [],
   "source": []
  }
 ],
 "metadata": {
  "kernelspec": {
   "display_name": "Python 3",
   "language": "python",
   "name": "python3"
  },
  "language_info": {
   "codemirror_mode": {
    "name": "ipython",
    "version": 3
   },
   "file_extension": ".py",
   "mimetype": "text/x-python",
   "name": "python",
   "nbconvert_exporter": "python",
   "pygments_lexer": "ipython3",
   "version": "3.8.8"
  }
 },
 "nbformat": 4,
 "nbformat_minor": 5
}
